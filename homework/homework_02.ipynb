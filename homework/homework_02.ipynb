{
 "cells": [
  {
   "cell_type": "markdown",
   "metadata": {},
   "source": [
    "# Homework 2\n",
    "\n",
    "\n",
    "## References\n",
    "\n",
    "+ Lectures 3-6 (inclusive).\n",
    "\n",
    "## Instructions\n",
    "\n",
    "+ Type your name and email in the \"Student details\" section below.\n",
    "+ Develop the code and generate the figures you need to solve the problems using this notebook.\n",
    "+ For the answers that require a mathematical proof or derivation you can either:\n",
    "    \n",
    "    - Type the answer using the built-in latex capabilities. In this case, simply export the notebook as a pdf and upload it on gradescope; or\n",
    "    - You can print the notebook (after you are done with all the code), write your answers by hand, scan, turn your response to a single pdf, and upload on gradescope.\n",
    "\n",
    "\n",
    "**Note**: Please match all the pages corresponding to each of the questions when you submit on gradescope."
   ]
  },
  {
   "cell_type": "markdown",
   "metadata": {},
   "source": [
    "## Student details\n",
    "\n",
    "+ **First Name:**\n",
    "+ **Last Name:**\n",
    "+ **Email:**"
   ]
  },
  {
   "cell_type": "code",
   "execution_count": null,
   "metadata": {},
   "outputs": [],
   "source": [
    "# Here are some modules that you may need - please run this block of code:\n",
    "import matplotlib.pyplot as plt\n",
    "%matplotlib inline\n",
    "import seaborn as sns\n",
    "sns.set_context('paper')\n",
    "import numpy as np\n",
    "import scipy\n",
    "import scipy.stats as st\n",
    "# A helper function for downloading files\n",
    "import requests\n",
    "import os\n",
    "def download(url, local_filename=None):\n",
    "    \"\"\"\n",
    "    Downloads the file in the ``url`` and saves it in the current working directory.\n",
    "    \"\"\"\n",
    "    data = requests.get(url)\n",
    "    if local_filename is None:\n",
    "        local_filename = os.path.basename(url)\n",
    "    with open(local_filename, 'wb') as fd:\n",
    "        fd.write(data.content)"
   ]
  },
  {
   "cell_type": "markdown",
   "metadata": {},
   "source": [
    "## Problem 1 - Practice with discrete random variables\n",
    "\n",
    "Consider the Categorical random variable:\n",
    "$$\n",
    "X \\sim \\operatorname{Categorical}(0.3, 0.1, 0.2, 0.4),\n",
    "$$\n",
    "taking values in $\\{0,1,2,3\\}$. Find the following (you may use ``scipy.stats.rv_discrete`` or do it by hand):"
   ]
  },
  {
   "cell_type": "markdown",
   "metadata": {},
   "source": [
    "A. The expectation $\\mathbb{E}[X]$.\n",
    "\n",
    "**Answer:**\n",
    "<br><br>"
   ]
  },
  {
   "cell_type": "code",
   "execution_count": null,
   "metadata": {},
   "outputs": [],
   "source": [
    "# You can also answer with code here:"
   ]
  },
  {
   "cell_type": "markdown",
   "metadata": {},
   "source": [
    "B. The variance $\\mathbb{V}[X]$.\n",
    "\n",
    "**Answer:**\n",
    "<br><br>"
   ]
  },
  {
   "cell_type": "code",
   "execution_count": null,
   "metadata": {},
   "outputs": [],
   "source": [
    "# You can also answer with code here:"
   ]
  },
  {
   "cell_type": "markdown",
   "metadata": {},
   "source": [
    "C. Plot the probability mass function of $X$."
   ]
  },
  {
   "cell_type": "code",
   "execution_count": null,
   "metadata": {},
   "outputs": [],
   "source": [
    "# Your code here. Hint: use a bar plot"
   ]
  },
  {
   "cell_type": "markdown",
   "metadata": {},
   "source": [
    "D. Find the probability that $X$ is in $\\{0, 2\\}$.\n",
    "\n",
    "**Answer:**\n",
    "<br><br>"
   ]
  },
  {
   "cell_type": "code",
   "execution_count": null,
   "metadata": {},
   "outputs": [],
   "source": [
    "# You can also answer with code here:"
   ]
  },
  {
   "cell_type": "markdown",
   "metadata": {},
   "source": [
    "E. Find $\\mathbb{E}[4X + 3]$.\n",
    "\n",
    "**Answer:**\n",
    "<br><br>"
   ]
  },
  {
   "cell_type": "code",
   "execution_count": null,
   "metadata": {},
   "outputs": [],
   "source": [
    "# You can also answer with code here:"
   ]
  },
  {
   "cell_type": "markdown",
   "metadata": {},
   "source": [
    "F. Find $\\mathbb{V}[4X+3]$.\n",
    "\n",
    "**Answer:**\n",
    "<br><br>"
   ]
  },
  {
   "cell_type": "code",
   "execution_count": null,
   "metadata": {},
   "outputs": [],
   "source": [
    "# You can also answer with code here:"
   ]
  },
  {
   "cell_type": "markdown",
   "metadata": {},
   "source": [
    "## Problem 2 - Predicting the probability of major earthquakes in Southern California\n",
    "\n",
    "The [San Andreas fault](https://en.wikipedia.org/wiki/San_Andreas_Fault) extends through California forming the boundary between the Pacific and the North American tectonic plates.\n",
    "It has caused some of the major earthquakes on Earth.\n",
    "We are going to focus on Southern California and we would like to assess the probability of a major earthquake, defined as an earthquake of magnitude 6.5 or greater, during the next ten years.\n",
    "\n",
    "A. The first thing we are going to do is go over a [database of past earthquakes](https://scedc.caltech.edu/significant/chron-index.html) that have occured in Southern California and collect the relevant data. We are going to start at 1900 because data before that time may are unreliable.\n",
    "Go over each decade and count the occurence of a major earthquake (i.e., count the number of organge and red colors in each decade). We have done this for you."
   ]
  },
  {
   "cell_type": "code",
   "execution_count": null,
   "metadata": {},
   "outputs": [],
   "source": [
    "eq_data = np.array([\n",
    "    0, # 1900-1909\n",
    "    1, # 1910-1919\n",
    "    2, # 1920-1929\n",
    "    0, # 1930-1939\n",
    "    3, # 1940-1949\n",
    "    2, # 1950-1959\n",
    "    1, # 1960-1969\n",
    "    2, # 1970-1979\n",
    "    1, # 1980-1989\n",
    "    4, # 1990-1999\n",
    "    0, # 2000-2009\n",
    "    2 # 2010-2019 \n",
    "])\n",
    "fig, ax = plt.subplots(dpi=150)\n",
    "ax.bar(np.linspace(1900, 2019, eq_data.shape[0]), eq_data, width=10)\n",
    "ax.set_xlabel('Decade')\n",
    "ax.set_ylabel('# of major earthquakes in Southern CA');"
   ]
  },
  {
   "cell_type": "markdown",
   "metadata": {},
   "source": [
    "B. The [Poisson distribution](https://en.wikipedia.org/wiki/Poisson_distribution) is a discrete distribution with values $\\{0,1,2,\\dots\\}$ which is commonly used to model the number of events occuring in a certain time period.\n",
    "It is the right choice when these events are happening independently and the probability of any event happening over a small period of time is constant.\n",
    "Let's use the Poisson to model the number of earthquakes $X$ occuring in a decade.\n",
    "We write:\n",
    "$$\n",
    "X \\sim \\operatorname{Poisson}(r),\n",
    "$$\n",
    "where $r$ is the *rate parameter* of Poisson.\n",
    "The rate is the number of events per time period.\n",
    "Here, $r$ is the number of earthquakes per decade.\n",
    "Using the data above, we can set the rate as the empirical average of the observed number of earthquakes per decade:"
   ]
  },
  {
   "cell_type": "code",
   "execution_count": null,
   "metadata": {},
   "outputs": [],
   "source": [
    "r = np.mean(eq_data)\n",
    "print('r = {0:1.2f} major earthquakes per decade'.format(r))"
   ]
  },
  {
   "cell_type": "markdown",
   "metadata": {},
   "source": [
    "Strictly speaking, **this is not how you should be calibrating models!!!**\n",
    "We will learn about the **right** way (which uses Bayes' rule) in the subsequent lectures.\n",
    "But it will do for now as the answer you would get using the **right** way is, for this problem, almost the same.\n",
    "Let's define a Poisson distribution using ``scipy.stats.poisson`` (see documentation [here](https://docs.scipy.org/doc/scipy/reference/generated/scipy.stats.poisson.html)):"
   ]
  },
  {
   "cell_type": "code",
   "execution_count": null,
   "metadata": {},
   "outputs": [],
   "source": [
    "X = st.poisson(r)"
   ]
  },
  {
   "cell_type": "markdown",
   "metadata": {},
   "source": [
    "A. Plot the probability mass function of ``X``."
   ]
  },
  {
   "cell_type": "code",
   "execution_count": null,
   "metadata": {},
   "outputs": [],
   "source": [
    "# Your code here"
   ]
  },
  {
   "cell_type": "markdown",
   "metadata": {},
   "source": [
    "B. What is the probability that at least one major earthquake will occur during the next decade?<br>\n",
    "**Answer:**\n",
    "<br><br><br><br><br><br><br><br>"
   ]
  },
  {
   "cell_type": "code",
   "execution_count": null,
   "metadata": {},
   "outputs": [],
   "source": [
    "# You can also answer with code here:"
   ]
  },
  {
   "cell_type": "markdown",
   "metadata": {},
   "source": [
    "C. What is the probability that at least one major earthquake will occur during the next two decades?\n",
    "Hint: Consider two independent and identical copies of $X$, say $X_1$ and $X_2$.\n",
    "And consider their sum $Y = X_1 + X_2$. Read [this](https://en.wikipedia.org/wiki/Poisson_distribution#Sums_of_Poisson-distributed_random_variables) about the sum of two independent Poisson distributions.\n",
    "<br>\n",
    "**Answer:**\n",
    "<br><br><br><br><br><br><br><br>"
   ]
  },
  {
   "cell_type": "code",
   "execution_count": null,
   "metadata": {},
   "outputs": [],
   "source": [
    "# You can also answer with code here:"
   ]
  },
  {
   "cell_type": "markdown",
   "metadata": {},
   "source": [
    "D. What is the probability that at least one major earthquake will occur during the next five decades?<br>\n",
    "**Answer:**\n",
    "<br><br><br><br><br><br><br><br>"
   ]
  },
  {
   "cell_type": "code",
   "execution_count": null,
   "metadata": {},
   "outputs": [],
   "source": [
    "# You can also answer with code here:"
   ]
  },
  {
   "cell_type": "markdown",
   "metadata": {},
   "source": [
    "## Problem 3 - Failure of a mechanical component\n",
    "\n",
    "Assume that you designing a gear for a mechanical system.\n",
    "Under normal operating conditions the gear is expected to fail at a random time.\n",
    "Let $T$ be a random variable capturing the time the gear fails.\n",
    "What should the probability density of $T$ look like?\n",
    "Well, when the gear is brand new, the probability density should be close to zero because a new gear does not fail under normal opearating conditions.\n",
    "As time goes by, the probability density should increase because various things start happening to the material, e.g., crack formation, fatigue, etc. \n",
    "Finally, the probability density must again start going to zero as time further increases because nothing lasts forever...\n",
    "A probability distribution that is commonly used to model this situation is the [Weibull](https://en.wikipedia.org/wiki/Weibull_distribution).\n",
    "We are going to fit some fail time data to a Weibull distribution and then you will have to answer a few questions about failing times."
   ]
  },
  {
   "cell_type": "code",
   "execution_count": null,
   "metadata": {},
   "outputs": [],
   "source": [
    "# Time to fail in years under normal operating conditions\n",
    "# Each row is a different gear\n",
    "time_to_fail_data = np.array([\n",
    "    10.5,\n",
    "    7.5,\n",
    "    8.1,\n",
    "    8.4,\n",
    "    11.2,\n",
    "    9.3,\n",
    "    8.9,\n",
    "    12.4\n",
    "])\n",
    "\n",
    "# Here is a Weibull distribution fitted to the data\n",
    "fitted_params = st.exponweib.fit(time_to_fail_data, loc=0)\n",
    "T = st.exponweib(*fitted_params)\n",
    "# Fit picks the parameters of the data to match the distribution\n",
    "# We will talk about what it does in subsequent lectures.\n",
    "\n",
    "# Let's plot the probability density of this\n",
    "fig, ax = plt.subplots(dpi=100)\n",
    "ts = np.linspace(0.0, 20.0, 100)\n",
    "ax.plot(ts, T.pdf(ts))\n",
    "ax.set_xlabel('$t$ (years)')\n",
    "ax.set_ylabel('$p(t)$');"
   ]
  },
  {
   "cell_type": "markdown",
   "metadata": {},
   "source": [
    "A. Find the mean fail time and its variance.\n",
    "Hint: Do not integrate anything by hand. Just use the functionality of ``scipy.stats``."
   ]
  },
  {
   "cell_type": "code",
   "execution_count": null,
   "metadata": {},
   "outputs": [],
   "source": [
    "# Your code here\n",
    "t_mean = 0.0 # Change me\n",
    "t_var = 0.0 # Change me\n",
    "print('E[T] = {0:1.2f}'.format(t_mean))\n",
    "print('V[T] = {0:1.2f}'.format(t_var))"
   ]
  },
  {
   "cell_type": "markdown",
   "metadata": {},
   "source": [
    "B. Plot the cumulative distribution function of $T$."
   ]
  },
  {
   "cell_type": "code",
   "execution_count": null,
   "metadata": {},
   "outputs": [],
   "source": [
    "# Your code here"
   ]
  },
  {
   "cell_type": "markdown",
   "metadata": {},
   "source": [
    "C. Plot the probability that gear survives for more than $t$ as a function of $t$.\n",
    "That is, plot the function:\n",
    "$$\n",
    "S(t) = p(T > t).\n",
    "$$\n",
    "Hint: First connect this function to the cumulative distribution function of $T$."
   ]
  },
  {
   "cell_type": "code",
   "execution_count": null,
   "metadata": {},
   "outputs": [],
   "source": [
    "# Your code here"
   ]
  },
  {
   "cell_type": "markdown",
   "metadata": {},
   "source": [
    "D. Find the probability that the gear lasts anywhere between 8 and 10 years."
   ]
  },
  {
   "cell_type": "code",
   "execution_count": null,
   "metadata": {},
   "outputs": [],
   "source": [
    "# Your code here"
   ]
  },
  {
   "cell_type": "markdown",
   "metadata": {},
   "source": [
    "E. If you were to sell the gear, how many years \"warranty\" would you offer?<br>\n",
    "**Answer:**\n",
    "<br><br><br><br><br><br>"
   ]
  },
  {
   "cell_type": "code",
   "execution_count": null,
   "metadata": {},
   "outputs": [],
   "source": [
    "# Your code here"
   ]
  },
  {
   "cell_type": "markdown",
   "metadata": {},
   "source": [
    "## Problem 4 - Joint probability mass function of two discrete random variables\n",
    "\n",
    "Consider two random variables $X$ and $Y$.\n",
    "$X$ takes values $\\{0,1,\\dots,4\\}$ and $Y$ takes values $\\{0,1,\\dots,8\\}$.\n",
    "Their joint probability mass function, can be described using a matrix:"
   ]
  },
  {
   "cell_type": "code",
   "execution_count": null,
   "metadata": {},
   "outputs": [],
   "source": [
    "P = np.array([[0.03607908, 0.03760034, 0.00503184, 0.0205082 , 0.01051408,\n",
    "        0.03776221, 0.00131325, 0.03760817, 0.01770659],\n",
    "       [0.03750162, 0.04317351, 0.03869997, 0.03069872, 0.02176718,\n",
    "        0.04778769, 0.01021053, 0.00324185, 0.02475319],\n",
    "       [0.03770951, 0.01053285, 0.01227089, 0.0339596 , 0.02296711,\n",
    "        0.02187814, 0.01925662, 0.0196836 , 0.01996279],\n",
    "       [0.02845139, 0.01209429, 0.02450163, 0.00874645, 0.03612603,\n",
    "        0.02352593, 0.00300314, 0.00103487, 0.04071951],\n",
    "       [0.00940187, 0.04633153, 0.01094094, 0.00172007, 0.00092633,\n",
    "        0.02032679, 0.02536328, 0.03552956, 0.01107725]])"
   ]
  },
  {
   "cell_type": "markdown",
   "metadata": {},
   "source": [
    "The rows of the matrix correspond to the values of $X$ and the columns to the values of $Y$.\n",
    "So, if you wanted to find the probability of $p(X=2, Y=3)$ you would do:"
   ]
  },
  {
   "cell_type": "code",
   "execution_count": null,
   "metadata": {},
   "outputs": [],
   "source": [
    "print('p(X=2, Y=3) = {0:1.3f}'.format(P[2, 3]))"
   ]
  },
  {
   "cell_type": "markdown",
   "metadata": {},
   "source": [
    "A. Verify that $\\sum_{x,y}p(X=x, Y=y) = 1$."
   ]
  },
  {
   "cell_type": "code",
   "execution_count": null,
   "metadata": {},
   "outputs": [],
   "source": [
    "# Your code here"
   ]
  },
  {
   "cell_type": "markdown",
   "metadata": {},
   "source": [
    "B. Find the marginal probability density of $X$:\n",
    "$$\n",
    "p(x) = \\sum_{y}p(x,y).\n",
    "$$\n",
    "You can represent this as a 5-dimensional vector."
   ]
  },
  {
   "cell_type": "code",
   "execution_count": null,
   "metadata": {},
   "outputs": [],
   "source": [
    "# Hint, you can do this in one line if you read this:\n",
    "help(np.sum)"
   ]
  },
  {
   "cell_type": "markdown",
   "metadata": {},
   "source": [
    "C. Find the marginal probability density of $Y$. This is a 9-dimensional vector."
   ]
  },
  {
   "cell_type": "code",
   "execution_count": null,
   "metadata": {},
   "outputs": [],
   "source": [
    "# Your code here"
   ]
  },
  {
   "cell_type": "markdown",
   "metadata": {},
   "source": [
    "D. Find the expectation and variance of $X$ and $Y$."
   ]
  },
  {
   "cell_type": "code",
   "execution_count": null,
   "metadata": {},
   "outputs": [],
   "source": [
    "# Your code here"
   ]
  },
  {
   "cell_type": "markdown",
   "metadata": {},
   "source": [
    "E. Find the expectation of $E[X + Y]$."
   ]
  },
  {
   "cell_type": "code",
   "execution_count": null,
   "metadata": {},
   "outputs": [],
   "source": [
    "# Your code here"
   ]
  },
  {
   "cell_type": "markdown",
   "metadata": {},
   "source": [
    "F. Find the covariance of $X$ and $Y$. Are the two variable correlated? If yes, are they positively or negatively correlated?"
   ]
  },
  {
   "cell_type": "code",
   "execution_count": null,
   "metadata": {},
   "outputs": [],
   "source": [
    "# Your code here"
   ]
  },
  {
   "cell_type": "markdown",
   "metadata": {},
   "source": [
    "G. Find the variance of $X + Y$."
   ]
  },
  {
   "cell_type": "code",
   "execution_count": null,
   "metadata": {},
   "outputs": [],
   "source": [
    "# Your code here"
   ]
  },
  {
   "cell_type": "markdown",
   "metadata": {},
   "source": [
    "J. Find the probability that $X+Y$ is less than or equal to 5.\n",
    "That is, find $p(X + Y \\le 5)$.\n",
    "Hint: Use two for loops to go over all the combinations of $X$ and $Y$ values, check if $X+Y\\le 5$, and sum up the probabilities."
   ]
  },
  {
   "cell_type": "code",
   "execution_count": null,
   "metadata": {},
   "outputs": [],
   "source": [
    "# Your code here"
   ]
  },
  {
   "cell_type": "markdown",
   "metadata": {},
   "source": [
    "## Problem 5 - Creating a stochastic model for the magnetic properties of steel\n",
    "\n",
    "The magnetic properties of steel are captured in the so called [$B-H$ curve](https://en.wikipedia.org/wiki/Saturation_(magnetic)) which connects the magnetic field $H$ to the magnetic flux density $B$.\n",
    "The shape of this curve depends on the manufacturing process of the steel. As a result the $B-H$ differs across different suppliers but also across time for the same supplier.\n",
    "\n",
    "Let's use some real manufacturer data to visualize these differences.\n",
    "The data are [here](https://github.com/PredictiveScienceLab/data-analytics-se/raw/master/homework/B_data.csv).\n",
    "It will take a while to explain how to upload data on Google Colab.\n",
    "We will do it in the next homework set.\n",
    "For now, you should just know that the data file ``B_data.csv`` needs to be in the same working directory as this Jupyter notebook.\n",
    "We have written a piece of code that allows you to put the data file in the right place without too much trouble.\n",
    "Simply run the following:"
   ]
  },
  {
   "cell_type": "code",
   "execution_count": null,
   "metadata": {},
   "outputs": [],
   "source": [
    "url = 'https://github.com/PredictiveScienceLab/data-analytics-se/raw/master/homework/B_data.csv'\n",
    "download(url)"
   ]
  },
  {
   "cell_type": "markdown",
   "metadata": {},
   "source": [
    "If everything worked well, then the following will work:"
   ]
  },
  {
   "cell_type": "code",
   "execution_count": null,
   "metadata": {},
   "outputs": [],
   "source": [
    "# Load the data - You need the B_data.csv\n",
    "B_data = np.loadtxt('B_data.csv')\n",
    "# This file contains a single matrix the shape of which is:\n",
    "print(B_data.shape)"
   ]
  },
  {
   "cell_type": "markdown",
   "metadata": {},
   "source": [
    "The rows (200) corresponds to different samples of the $B-H$ curves (different suppliers and different times).\n",
    "The columns (1500) corresponds to different values of $H$.\n",
    "That is, the $i, j$ element is the value of $B$ at the a specific value of $H$, say $H_j$. The values of $H$ are the equidistant and identical and we are going to ignore them in this analysis.\n",
    "Let's visualize some of the samples."
   ]
  },
  {
   "cell_type": "code",
   "execution_count": null,
   "metadata": {},
   "outputs": [],
   "source": [
    "# Here is one sample\n",
    "fig, ax = plt.subplots(dpi=100)\n",
    "ax.plot(B_data[0, :])\n",
    "ax.set_xlabel('Index $j$')\n",
    "ax.set_ylabel('$B$ (T)');"
   ]
  },
  {
   "cell_type": "code",
   "execution_count": null,
   "metadata": {},
   "outputs": [],
   "source": [
    "# Here are five samples\n",
    "fig, ax = plt.subplots(dpi=100)\n",
    "ax.plot(B_data[:5, :].T)\n",
    "ax.set_xlabel('Index $j$')\n",
    "ax.set_ylabel('$B$ (T)');"
   ]
  },
  {
   "cell_type": "code",
   "execution_count": null,
   "metadata": {},
   "outputs": [],
   "source": [
    "# Here are all the samples\n",
    "fig, ax = plt.subplots(dpi=100)\n",
    "ax.plot(B_data[:, :].T, 'r', lw=0.1)\n",
    "ax.set_xlabel('Index $j$')\n",
    "ax.set_ylabel('$B$ (T)');"
   ]
  },
  {
   "cell_type": "markdown",
   "metadata": {},
   "source": [
    "A. We are going to start by studying the data at only one index. Say index $j=500$.\n",
    "Let's define a random variable\n",
    "$$\n",
    "X = B(H_{500}),\n",
    "$$\n",
    "for this reason. Extract and do a histogram of the data for $X$:"
   ]
  },
  {
   "cell_type": "code",
   "execution_count": null,
   "metadata": {},
   "outputs": [],
   "source": [
    "X_data = B_data[:, 500]\n",
    "fig, ax = plt.subplots(dpi=100)\n",
    "ax.hist(X_data, alpha=0.5, density=True)\n",
    "ax.set_xlabel('$x$')\n",
    "ax.set_ylabel('Histogram');"
   ]
  },
  {
   "cell_type": "markdown",
   "metadata": {},
   "source": [
    "This looks like a Gaussian $N(\\mu_{500}, \\sigma_{500}^2)$. Let's try to find a mean and variance for that Gaussian.\n",
    "We are not going to explain why, but a good choice for the mean is the empirical average of the data:\n",
    "$$\n",
    "\\mu_j = \\frac{1}{N}\\sum_{i=1}^NB_{ij}.\n",
    "$$\n",
    "That is:"
   ]
  },
  {
   "cell_type": "code",
   "execution_count": null,
   "metadata": {},
   "outputs": [],
   "source": [
    "mu_500 = X_data.mean()\n",
    "print('mu_500 = {0:1.2f}'.format(mu_500))"
   ]
  },
  {
   "cell_type": "markdown",
   "metadata": {},
   "source": [
    "Similarly, for the variance a good choice is the empirical variance defined by:\n",
    "$$\n",
    "\\sigma_j^2 = \\frac{1}{N}\\sum_{i=1}^N(B_{ij} - \\mu_j)^2.\n",
    "$$\n",
    "That is:"
   ]
  },
  {
   "cell_type": "code",
   "execution_count": null,
   "metadata": {},
   "outputs": [],
   "source": [
    "sigma2_500 = np.var(X_data)#.var()\n",
    "print('sigma_500 = {0:1.2e}'.format(sigma2_500))"
   ]
  },
  {
   "cell_type": "markdown",
   "metadata": {},
   "source": [
    "Repeat the plot of the histogram of $X$ along with the PDF of the normal variable we have just identified using the functionality of ``scipy.stats``."
   ]
  },
  {
   "cell_type": "code",
   "execution_count": null,
   "metadata": {},
   "outputs": [],
   "source": [
    "# Your code here"
   ]
  },
  {
   "cell_type": "markdown",
   "metadata": {},
   "source": [
    "B. Using your normal approximation to the PDF of $X$, find the probability that $X = B(H_{500})$ is geater than 1.66 T."
   ]
  },
  {
   "cell_type": "code",
   "execution_count": null,
   "metadata": {},
   "outputs": [],
   "source": [
    "# Your code here"
   ]
  },
  {
   "cell_type": "markdown",
   "metadata": {},
   "source": [
    "C. Let us now consider another random variable\n",
    "$$\n",
    "Y = B(H_{1000}).\n",
    "$$\n",
    "Isolate the data for this as well:"
   ]
  },
  {
   "cell_type": "code",
   "execution_count": null,
   "metadata": {},
   "outputs": [],
   "source": [
    "Y_data = B_data[:, 1000]"
   ]
  },
  {
   "cell_type": "markdown",
   "metadata": {},
   "source": [
    "Do the ``scatter`` plot of $X$ and $Y$:"
   ]
  },
  {
   "cell_type": "code",
   "execution_count": null,
   "metadata": {},
   "outputs": [],
   "source": [
    "# Your code here"
   ]
  },
  {
   "cell_type": "markdown",
   "metadata": {},
   "source": [
    "D. From the scatter plot, it looks like the random vector\n",
    "$$\n",
    "\\mathbf{X} = (X, Y),\n",
    "$$\n",
    "follows a multivariate normal distribution. What would be the mean and covariance of the distribution.\n",
    "Well, first organize the samples of $X$ and $Y$ in a matrix with the number of rows being the number of samples and two columns (one corresponding to $X$ and one to $Y$)."
   ]
  },
  {
   "cell_type": "code",
   "execution_count": null,
   "metadata": {},
   "outputs": [],
   "source": [
    "XY_data = np.hstack([X_data[:, None], Y_data[:, None]])"
   ]
  },
  {
   "cell_type": "markdown",
   "metadata": {},
   "source": [
    "The mean vector is:"
   ]
  },
  {
   "cell_type": "code",
   "execution_count": null,
   "metadata": {},
   "outputs": [],
   "source": [
    "mu_XY = np.mean(XY_data, axis=0)\n",
    "print(mu_XY)"
   ]
  },
  {
   "cell_type": "markdown",
   "metadata": {},
   "source": [
    "The covariance matrix is a little bit trickier. \n",
    "We have already discussed how to find the diagonals of the covariance matrix (it is simply the variance).\n",
    "For the off-diagonal terms, this is the formula that is being used:\n",
    "$$\n",
    "C_{jk} = \\frac{1}{N}\\sum_{i=1}^N(B_{ij} - \\mu_j)(B_{ik} - \\mu_k).\n",
    "$$\n",
    "This is how you can find it:"
   ]
  },
  {
   "cell_type": "code",
   "execution_count": null,
   "metadata": {},
   "outputs": [],
   "source": [
    "# Careful with np.cov because it requires you to transpose the matrix\n",
    "C_XY = np.cov(XY_data.T)\n",
    "print(C_XY)"
   ]
  },
  {
   "cell_type": "markdown",
   "metadata": {},
   "source": [
    "Are the two variables $X$ and $Y$ positively or negatively correlated?<br>\n",
    "**Answer:**\n",
    "<br><br>"
   ]
  },
  {
   "cell_type": "markdown",
   "metadata": {},
   "source": [
    "E. Use ``np.linalg.eigh`` to check that the matrix ``C_XY`` is indeed positive definite."
   ]
  },
  {
   "cell_type": "code",
   "execution_count": null,
   "metadata": {},
   "outputs": [],
   "source": [
    "# Your code here"
   ]
  },
  {
   "cell_type": "markdown",
   "metadata": {},
   "source": [
    "F. Use the functionality of ``scipy.stats.multivariate_normal`` to plot the joint probability function of the samples of $X$ and $Y$ in the same plot as the scatter plot of $X$ and $Y$."
   ]
  },
  {
   "cell_type": "code",
   "execution_count": null,
   "metadata": {},
   "outputs": [],
   "source": [
    "# Your code here"
   ]
  },
  {
   "cell_type": "markdown",
   "metadata": {},
   "source": [
    "G. Now, let's think each $B-H$ curve as a random vector.\n",
    "That is, the random vector $\\mathbf{B}$ corresponds to the values of the magnetic flux density at a fixed number of $H$-values. It is:\n",
    "$$\n",
    "\\mathbf{B} = (B(H_1), \\dots, B(H_{1500})).\n",
    "$$\n",
    "It is like $\\mathbf{X} = (X, Y)$ only now we have 1500 dimensions instead of $2$.\n",
    "First, let's find the mean of this random vector:"
   ]
  },
  {
   "cell_type": "code",
   "execution_count": null,
   "metadata": {},
   "outputs": [],
   "source": [
    "B_mu = np.mean(B_data, axis=0)\n",
    "# Let's plot the mean on top of the data\n",
    "# Here are all the samples\n",
    "fig, ax = plt.subplots(dpi=100)\n",
    "ax.plot(B_data[:, :].T, 'r', lw=0.1)\n",
    "ax.plot(B_mu)\n",
    "ax.set_xlabel('Index $j$')\n",
    "ax.set_ylabel('$B$ (T)');"
   ]
  },
  {
   "cell_type": "markdown",
   "metadata": {},
   "source": [
    "It looks good. Now, find the covariance matrix of $\\mathbf{B}$. This is going to be a 1500x1500 matrix."
   ]
  },
  {
   "cell_type": "code",
   "execution_count": null,
   "metadata": {},
   "outputs": [],
   "source": [
    "B_cov = np.cov(B_data.T)"
   ]
  },
  {
   "cell_type": "markdown",
   "metadata": {},
   "source": [
    "Let's plot this matrix:"
   ]
  },
  {
   "cell_type": "code",
   "execution_count": null,
   "metadata": {},
   "outputs": [],
   "source": [
    "fig, ax = plt.subplots(dpi=100)\n",
    "c = ax.imshow(B_cov, interpolation='nearest')\n",
    "plt.colorbar(c)"
   ]
  },
  {
   "cell_type": "markdown",
   "metadata": {},
   "source": [
    "You see that the values are quite a bit correlated. This makes sense because the curves are all very smooth and they look very much alike. But let's check if the covariance is indeed positive definite:"
   ]
  },
  {
   "cell_type": "code",
   "execution_count": null,
   "metadata": {},
   "outputs": [],
   "source": [
    "print('Eigenvalues of B_cov:')\n",
    "print(np.linalg.eigh(B_cov)[0])"
   ]
  },
  {
   "cell_type": "markdown",
   "metadata": {},
   "source": [
    "Hmm, notice that there are several eigenvalues that are negative, but they are too small. Very close to zero. This happens very often in practice when you are finding the covariance of a very large random vectors. It arises from the fact that we are using floating point arithmetic instead of a real numbers. It is a numerical artifact.\n",
    "If you tried to use this covariance to make a multivariate normal random vector using ``scipy.stats`` it would fail.\n",
    "Try this:"
   ]
  },
  {
   "cell_type": "code",
   "execution_count": null,
   "metadata": {},
   "outputs": [],
   "source": [
    "B = st.multivariate_normal(mean=B_mu, cov=B_cov)"
   ]
  },
  {
   "cell_type": "markdown",
   "metadata": {},
   "source": [
    "The way to overcome this problem is to add a small positive number to the diagonal. This needs to be very small so that the distribution does not change very much. It must be the smallest possible number that makes the covariance matrix behave well. This is known as the *jitter* or the *nugget*. Find the nugget playing with the code below. Every time you try, multiply the nugget by ten."
   ]
  },
  {
   "cell_type": "code",
   "execution_count": null,
   "metadata": {},
   "outputs": [],
   "source": [
    "# Pick the nugget here\n",
    "nugget = 1e-12\n",
    "# This is the modified covariance matrix\n",
    "B_cov_w_nugget = B_cov + nugget * np.eye(B_cov.shape[0])\n",
    "# Try building the distribution:\n",
    "try:\n",
    "    B = st.multivariate_normal(mean=B_mu, cov=B_cov_w_nugget)\n",
    "    print('It worked! Move on.')\n",
    "except:\n",
    "    print('It did not work. Increase nugget by 10.')"
   ]
  },
  {
   "cell_type": "markdown",
   "metadata": {},
   "source": [
    "H. Now you have created your first stochastic model of a complicated physical quantity. By sampling from your newly constructed random vector $\\mathbf{B}$ you have essentially quantified your uncertainty about the $B-H$ curve as induced by the inability to perfectly control the production of steel. Take 10 samples of this random vector and plot them."
   ]
  },
  {
   "cell_type": "code",
   "execution_count": null,
   "metadata": {},
   "outputs": [],
   "source": [
    "# Your code here"
   ]
  }
 ],
 "metadata": {
  "kernelspec": {
   "display_name": "Python 3",
   "language": "python",
   "name": "python3"
  },
  "language_info": {
   "codemirror_mode": {
    "name": "ipython",
    "version": 3
   },
   "file_extension": ".py",
   "mimetype": "text/x-python",
   "name": "python",
   "nbconvert_exporter": "python",
   "pygments_lexer": "ipython3",
   "version": "3.8.8"
  }
 },
 "nbformat": 4,
 "nbformat_minor": 4
}
