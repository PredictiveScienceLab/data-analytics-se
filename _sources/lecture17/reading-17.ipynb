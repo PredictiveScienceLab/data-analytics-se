{
 "cells": [
  {
   "cell_type": "markdown",
   "metadata": {},
   "source": [
    "# Unsupervised Learning\n",
    "\n",
    "You are given some observations $\\mathbf{x}_{1:n} = (\\mathbf{x}_1,\\dots,\\mathbf{x}_n)$, e.g., a bunch of pictures, and you want to find some structure in the data.\n",
    "This is an [unsupervised learning](https://en.wikipedia.org/wiki/Unsupervised_learning) problem.\n",
    "The critical difference from supervised learning is that you do not have any labels/targets/outputs.\n",
    "The unsupervised learning problem may sound very open-ended (and it is), but here are some specific examples we are going to study:\n",
    "\n",
    "+ [Clustering](https://en.wikipedia.org/wiki/Cluster_analysis): Split the observations into, say $K$, distinct clusters.\n",
    "+ [Dimensionality reduction](https://en.wikipedia.org/wiki/Dimensionality_reduction): Reduce the dimensionality of the data.\n",
    "+ [Density estimation](https://en.wikipedia.org/wiki/Density_estimation): Learn the probability density that gave rise to the data, i.e., learn how to generate new samples with similar features as the observations.\n",
    "+ and [more](https://en.wikipedia.org/wiki/Unsupervised_learning).\n",
    "\n",
    "Each one of these tasks is an unsupervised learning problem and requires several lectures to develop fully. Since we do not have the time, we will study the basic algorithms for the three most popular unsupervised learning problems: clustering, density estimation, and dimensionality reduction."
   ]
  }
 ],
 "metadata": {
  "kernelspec": {
   "display_name": "Python 3 (ipykernel)",
   "language": "python",
   "name": "python3"
  },
  "language_info": {
   "codemirror_mode": {
    "name": "ipython",
    "version": 3
   },
   "file_extension": ".py",
   "mimetype": "text/x-python",
   "name": "python",
   "nbconvert_exporter": "python",
   "pygments_lexer": "ipython3",
   "version": "3.9.12"
  }
 },
 "nbformat": 4,
 "nbformat_minor": 4
}
