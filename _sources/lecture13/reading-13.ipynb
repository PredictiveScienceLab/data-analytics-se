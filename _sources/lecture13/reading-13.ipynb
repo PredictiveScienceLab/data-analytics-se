{
 "cells": [
  {
   "cell_type": "markdown",
   "metadata": {},
   "source": [
    "# Linear Regression via Least Squares\n",
    "\n",
    "## Supervised learning\n",
    "\n",
    "Say that you observe $n$, $d$-dimensional, *inputs*:\n",
    "\n",
    "$$\n",
    "\\mathbf{x}_{1:n} = \\{\\mathbf{x}_1,\\dots,\\mathbf{x}_n\\},\n",
    "$$\n",
    "\n",
    "and *outputs*:\n",
    "\n",
    "$$\n",
    "\\mathbf{y}_{1:n} = \\{y_1,\\dots,y_n\\}.\n",
    "$$\n",
    "\n",
    "The supervised learning problem consits of using the data $\\mathbf{x}_{1:n}$ and $\\mathbf{y}_{1:n}$ to find\n",
    "the map that connects the inputs to the outputs.\n",
    "\n",
    "The inputs $\\mathbf{x}$ are also called *features*.\n",
    "\n",
    "The outputs $\\mathbf{y}$ are also called *targets*.\n",
    "\n",
    "### The regression problem\n",
    "\n",
    "When the outputs are continuous variables, e.g., dollars, weight, mass, then we say that we have a *regression* problem.\n",
    "\n",
    "### The classification problem\n",
    "\n",
    "When the outputs are discrete labels, e.g., 0 or 1, \"cat\" or \"dog\", then we say that we have a *classification* problem.\n",
    "\n",
    ":::{note}\n",
    "This lecture moves fast.\n",
    "If you have never seen least squares before, please go over the following material from my undergraduate course:\n",
    "+ [Lecture 14 - Covariance, Correlation, and Linear Regression with One Variable](https://purduemechanicalengineering.github.io/me-297-intro-to-data-science/lecture14/intro.html).\n",
    "+ [Lecture 15 - Linear Regression / Regression with One Variable Revisted](https://purduemechanicalengineering.github.io/me-297-intro-to-data-science/lecture15/regression-with-one-variable-revisited.html#).\n",
    ":::"
   ]
  },
  {
   "cell_type": "code",
   "execution_count": null,
   "metadata": {},
   "outputs": [],
   "source": []
  }
 ],
 "metadata": {
  "kernelspec": {
   "display_name": "Python 3 (ipykernel)",
   "language": "python",
   "name": "python3"
  },
  "language_info": {
   "codemirror_mode": {
    "name": "ipython",
    "version": 3
   },
   "file_extension": ".py",
   "mimetype": "text/x-python",
   "name": "python",
   "nbconvert_exporter": "python",
   "pygments_lexer": "ipython3",
   "version": "3.9.12"
  }
 },
 "nbformat": 4,
 "nbformat_minor": 4
}
