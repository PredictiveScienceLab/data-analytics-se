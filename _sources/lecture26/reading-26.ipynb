{
 "cells": [
  {
   "cell_type": "markdown",
   "metadata": {},
   "source": [
    "# Physics-informed Deep Neural Networks\n",
    "\n",
    "Physics-informed neural networks, or PINNs, combine physics and data. The idea is to use physics, typically an ordinary or partial differential equation, as a physics-informed regularizer to the loss function. The most common way to create such a regularizer is via the so-called *integrated squared residual* of the ODE/PDE. You can do this by moving everything to the left-hand side of the equation and squaring it, then integrating it over the domain. We will see examples in the hands-on activities.\n",
    "The loss becomes:\n",
    "\n",
    "$$\n",
    "\\text{Loss} = \\text{Data loss} + \\text{Physics regularizer}.\n",
    "$$\n",
    "\n",
    "Such approaches have been shown to be very effective in many applications, including fluid dynamics, solid mechanics, and quantum mechanics. The main advantage is that you can use a small amount of data to train a neural network and then use the neural network to make predictions in regions where you have no data. This is particularly useful in scientific applications, where data is often scarce.\n",
    "\n",
    "One of the first papers to introduce physics-informed neural networks, albeit for just solving ODEs/PDEs, was {cite:p}`lagaris1998`.\n",
    "The approach was revitalized by {cite:p}`raisi2019` and became what we now call PINNs. {cite:p}`Karumuri2020` applied PINNs to parametric PDEs. {cite:p}`yang2021` introduced Bayesian PINNs.\n"
   ]
  },
  {
   "cell_type": "markdown",
   "metadata": {},
   "source": []
  }
 ],
 "metadata": {
  "kernelspec": {
   "display_name": "Python 3 (ipykernel)",
   "language": "python",
   "name": "python3"
  },
  "language_info": {
   "codemirror_mode": {
    "name": "ipython",
    "version": 3
   },
   "file_extension": ".py",
   "mimetype": "text/x-python",
   "name": "python",
   "nbconvert_exporter": "python",
   "pygments_lexer": "ipython3",
   "version": "3.9.12"
  }
 },
 "nbformat": 4,
 "nbformat_minor": 4
}
