{
 "cells": [
  {
   "cell_type": "markdown",
   "metadata": {},
   "source": [
    "# Physics-informed Deep Neural Networks\n",
    "\n",
    "## Objectives\n",
    "\n",
    "+ Develop intuition about the potential applications of the ability to combine existing physical knowledge with data\n",
    "+ Develop intuition about the importance of symmetries in helping us learn with less data\n",
    "+ Use physics-informed neural networks to solve ordinary differential equations\n",
    "+ Use physics-informed neural networks to solve partial differential equations\n",
    "+ Use physics-informed neural networks to solve high-dimensional stochastic partial differential equations\n",
    "\n",
    "Here, it is not my intension to give you a complete exposition of the theory.\n",
    "This would take several pages.\n",
    "Instead, I am going to provide you with some references for learning more about the topics that are of interest to you.\n",
    "In the hands-on activities, we will see specific examples of everything."
   ]
  },
  {
   "cell_type": "markdown",
   "metadata": {},
   "source": [
    "## References\n",
    "\n",
    "+ [Lagaris et al. 1998](https://ieeexplore.ieee.org/abstract/document/712178) is one of the first papers to use neural networks to solve ODEs and PDEs.\n",
    "+ [Raisi et al. 2019](https://www.sciencedirect.com/science/article/pii/S0021999118307125) is the first succesful application of physics-informed neural networks in model ODE and PDE problems (forward and inverse).\n",
    "+ [Karumuri et al. 2020](https://www.sciencedirect.com/science/article/pii/S0021999119308253) is an application of physics-informed neural networks to high-dimensional uncertainty propagation.\n",
    "+ [Kondor 2018](https://arxiv.org/abs/1803.01588) is an example of how physical symmetries can be incorporated in the neural network structure. The application is representing energies of molecules."
   ]
  }
 ],
 "metadata": {
  "kernelspec": {
   "display_name": "Python 3 (ipykernel)",
   "language": "python",
   "name": "python3"
  },
  "language_info": {
   "codemirror_mode": {
    "name": "ipython",
    "version": 3
   },
   "file_extension": ".py",
   "mimetype": "text/x-python",
   "name": "python",
   "nbconvert_exporter": "python",
   "pygments_lexer": "ipython3",
   "version": "3.9.12"
  }
 },
 "nbformat": 4,
 "nbformat_minor": 4
}
