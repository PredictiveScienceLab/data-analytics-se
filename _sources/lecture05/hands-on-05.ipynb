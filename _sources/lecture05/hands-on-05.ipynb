{
 "cells": [
  {
   "cell_type": "code",
   "execution_count": 1,
   "metadata": {
    "execution": {
     "iopub.execute_input": "2025-06-16T14:58:29.731391Z",
     "iopub.status.busy": "2025-06-16T14:58:29.731205Z",
     "iopub.status.idle": "2025-06-16T14:58:31.270063Z",
     "shell.execute_reply": "2025-06-16T14:58:31.269781Z"
    },
    "tags": [
     "hide-input"
    ]
   },
   "outputs": [],
   "source": [
    "MAKE_BOOK_FIGURES=True\n",
    "\n",
    "import matplotlib as mpl\n",
    "import matplotlib.pyplot as plt\n",
    "%matplotlib inline\n",
    "import matplotlib_inline\n",
    "matplotlib_inline.backend_inline.set_matplotlib_formats('svg')\n",
    "import seaborn as sns\n",
    "sns.set_context(\"paper\")\n",
    "sns.set_style(\"ticks\")\n",
    "\n",
    "def set_book_style():\n",
    "    plt.style.use('seaborn-v0_8-white') \n",
    "    sns.set_style(\"ticks\")\n",
    "    sns.set_palette(\"deep\")\n",
    "\n",
    "    mpl.rcParams.update({\n",
    "        # Font settings\n",
    "        'font.family': 'serif',  # For academic publishing\n",
    "        'font.size': 8,  # As requested, 10pt font\n",
    "        'axes.labelsize': 8,\n",
    "        'axes.titlesize': 8,\n",
    "        'xtick.labelsize': 7,  # Slightly smaller for better readability\n",
    "        'ytick.labelsize': 7,\n",
    "        'legend.fontsize': 7,\n",
    "        \n",
    "        # Line and marker settings for consistency\n",
    "        'axes.linewidth': 0.5,\n",
    "        'grid.linewidth': 0.5,\n",
    "        'lines.linewidth': 1.0,\n",
    "        'lines.markersize': 4,\n",
    "        \n",
    "        # Layout to prevent clipped labels\n",
    "        'figure.constrained_layout.use': True,\n",
    "        \n",
    "        # Default DPI (will override when saving)\n",
    "        'figure.dpi': 600,\n",
    "        'savefig.dpi': 600,\n",
    "        \n",
    "        # Despine - remove top and right spines\n",
    "        'axes.spines.top': False,\n",
    "        'axes.spines.right': False,\n",
    "        \n",
    "        # Remove legend frame\n",
    "        'legend.frameon': False,\n",
    "        \n",
    "        # Additional trim settings\n",
    "        'figure.autolayout': True,  # Alternative to constrained_layout\n",
    "        'savefig.bbox': 'tight',    # Trim when saving\n",
    "        'savefig.pad_inches': 0.1   # Small padding to ensure nothing gets cut off\n",
    "    })\n",
    "\n",
    "def set_notebook_style():\n",
    "    plt.style.use('seaborn-v0_8-white')\n",
    "    sns.set_style(\"ticks\")\n",
    "    sns.set_palette(\"deep\")\n",
    "\n",
    "    mpl.rcParams.update({\n",
    "        # Font settings - using default sizes\n",
    "        'font.family': 'serif',\n",
    "        'axes.labelsize': 10,\n",
    "        'axes.titlesize': 10,\n",
    "        'xtick.labelsize': 9,\n",
    "        'ytick.labelsize': 9,\n",
    "        'legend.fontsize': 9,\n",
    "        \n",
    "        # Line and marker settings\n",
    "        'axes.linewidth': 0.5,\n",
    "        'grid.linewidth': 0.5,\n",
    "        'lines.linewidth': 1.0,\n",
    "        'lines.markersize': 4,\n",
    "        \n",
    "        # Layout settings\n",
    "        'figure.constrained_layout.use': True,\n",
    "        \n",
    "        # Remove only top and right spines\n",
    "        'axes.spines.top': False,\n",
    "        'axes.spines.right': False,\n",
    "        \n",
    "        # Remove legend frame\n",
    "        'legend.frameon': False,\n",
    "        \n",
    "        # Additional settings\n",
    "        'figure.autolayout': True,\n",
    "        'savefig.bbox': 'tight',\n",
    "        'savefig.pad_inches': 0.1\n",
    "    })\n",
    "\n",
    "def save_for_book(fig, filename, is_vector=True, **kwargs):\n",
    "    \"\"\"\n",
    "    Save a figure with book-optimized settings.\n",
    "    \n",
    "    Parameters:\n",
    "    -----------\n",
    "    fig : matplotlib figure\n",
    "        The figure to save\n",
    "    filename : str\n",
    "        Filename without extension\n",
    "    is_vector : bool\n",
    "        If True, saves as vector at 1000 dpi. If False, saves as raster at 600 dpi.\n",
    "    **kwargs : dict\n",
    "        Additional kwargs to pass to savefig\n",
    "    \"\"\"    \n",
    "    # Set appropriate DPI and format based on figure type\n",
    "    if is_vector:\n",
    "        dpi = 1000\n",
    "        ext = '.pdf'\n",
    "    else:\n",
    "        dpi = 600\n",
    "        ext = '.tif'\n",
    "    \n",
    "    # Save the figure with book settings\n",
    "    fig.savefig(f\"{filename}{ext}\", dpi=dpi, **kwargs)\n",
    "\n",
    "def make_full_width_fig():\n",
    "    return plt.subplots(figsize=(4.7, 2.9), constrained_layout=True)\n",
    "\n",
    "def make_half_width_fig():\n",
    "    return plt.subplots(figsize=(2.35, 1.45), constrained_layout=True)\n",
    "\n",
    "if MAKE_BOOK_FIGURES:\n",
    "    set_book_style()\n",
    "else:\n",
    "    set_notebook_style()\n",
    "\n",
    "make_full_width_fig = make_full_width_fig if MAKE_BOOK_FIGURES else lambda: plt.subplots()\n",
    "make_half_width_fig = make_half_width_fig if MAKE_BOOK_FIGURES else lambda: plt.subplots()"
   ]
  },
  {
   "cell_type": "markdown",
   "metadata": {},
   "source": [
    "# Practicing with Joint Probability Mass Functions\n",
    "\n",
    "## Joint probability mass function of two discrete random variables\n",
    "\n",
    "Consider two discrete random variables, $X$ and $Y$.\n",
    "Say that $X$ takes $5$ values, $0,1,\\dots,4$, and $Y$ takes $10$ values, $0,1,\\dots,9$.\n",
    "Then, you can think of the joint probability mass function of $X$ and $Y$ as the $5\\times 10$ matrix:\n",
    "\n",
    "$$\n",
    "A_{ij} = p(X=i, Y=j).\n",
    "$$\n",
    "\n",
    "Let's make up such a matrix to play with:"
   ]
  },
  {
   "cell_type": "code",
   "execution_count": 2,
   "metadata": {
    "execution": {
     "iopub.execute_input": "2025-06-16T14:58:31.271732Z",
     "iopub.status.busy": "2025-06-16T14:58:31.271629Z",
     "iopub.status.idle": "2025-06-16T14:58:31.273956Z",
     "shell.execute_reply": "2025-06-16T14:58:31.273730Z"
    }
   },
   "outputs": [
    {
     "name": "stdout",
     "output_type": "stream",
     "text": [
      "[[0.92961609 0.31637555 0.18391881 0.20456028 0.56772503 0.5955447\n",
      "  0.96451452 0.6531771  0.74890664 0.65356987]\n",
      " [0.74771481 0.96130674 0.0083883  0.10644438 0.29870371 0.65641118\n",
      "  0.80981255 0.87217591 0.9646476  0.72368535]\n",
      " [0.64247533 0.71745362 0.46759901 0.32558468 0.43964461 0.72968908\n",
      "  0.99401459 0.67687371 0.79082252 0.17091426]\n",
      " [0.02684928 0.80037024 0.90372254 0.02467621 0.49174732 0.52625517\n",
      "  0.59636601 0.05195755 0.89508953 0.72826618]\n",
      " [0.81835001 0.50022275 0.81018941 0.09596853 0.21895004 0.25871906\n",
      "  0.46810575 0.4593732  0.70950978 0.17805301]]\n"
     ]
    }
   ],
   "source": [
    "import numpy as np\n",
    "# This is to make sure that we all get the same results\n",
    "np.random.seed(12345)\n",
    "# First I draw a matrix with random entries in [0,1]\n",
    "A = np.random.rand(5, 10)\n",
    "print(A)"
   ]
  },
  {
   "cell_type": "code",
   "execution_count": 3,
   "metadata": {
    "execution": {
     "iopub.execute_input": "2025-06-16T14:58:31.293586Z",
     "iopub.status.busy": "2025-06-16T14:58:31.293472Z",
     "iopub.status.idle": "2025-06-16T14:58:31.295424Z",
     "shell.execute_reply": "2025-06-16T14:58:31.295212Z"
    }
   },
   "outputs": [
    {
     "name": "stdout",
     "output_type": "stream",
     "text": [
      "A = [[0.03382266 0.01151084 0.0066916  0.00744261 0.0206558  0.02166798\n",
      "  0.03509238 0.02376485 0.02724782 0.02377914]\n",
      " [0.02720446 0.03497567 0.0003052  0.00387282 0.01086788 0.02388251\n",
      "  0.02946379 0.03173278 0.03509722 0.02633018]\n",
      " [0.02337548 0.02610345 0.01701287 0.0118459  0.01599579 0.02654862\n",
      "  0.0361657  0.02462701 0.02877286 0.00621845]\n",
      " [0.00097687 0.02912024 0.03288056 0.00089781 0.01789147 0.01914699\n",
      "  0.02169786 0.0018904  0.03256646 0.02649685]\n",
      " [0.02977441 0.01819984 0.0294775  0.00349167 0.00796616 0.0094131\n",
      "  0.01703131 0.01671359 0.02581442 0.00647819]]\n",
      "Sum of A_ij = 1.00\n"
     ]
    }
   ],
   "source": [
    "# And then I scale it so that the sum of all elements is one:\n",
    "A = A / np.sum(A)\n",
    "print(f\"A = {A}\")\n",
    "print(f\"Sum of A_ij = {np.sum(A):.2f}\")"
   ]
  },
  {
   "cell_type": "markdown",
   "metadata": {},
   "source": [
    "Now we have a matrix that corresponds to a proper joint probability mass function."
   ]
  },
  {
   "cell_type": "markdown",
   "metadata": {},
   "source": [
    "Let's start by extracting the probability mass function of $X$ from the joint probability mass function of $X$ and $Y$.\n",
    "Remember that you need to marginalize:\n",
    "\n",
    "$$\n",
    "p(x) = \\sum_{y} p(x,y) = \\sum_{y} A_{xy}.\n",
    "$$\n",
    "\n",
    "This is easy:"
   ]
  },
  {
   "cell_type": "code",
   "execution_count": 4,
   "metadata": {
    "execution": {
     "iopub.execute_input": "2025-06-16T14:58:31.296541Z",
     "iopub.status.busy": "2025-06-16T14:58:31.296473Z",
     "iopub.status.idle": "2025-06-16T14:58:31.298153Z",
     "shell.execute_reply": "2025-06-16T14:58:31.297958Z"
    }
   },
   "outputs": [
    {
     "name": "stdout",
     "output_type": "stream",
     "text": [
      "pmf of just X: [0.21167568 0.2237325  0.21666614 0.1835655  0.16436018]\n"
     ]
    }
   ],
   "source": [
    "p_x = np.sum(A, axis=1) # Axis = 1 tells sum to sum only the second axis\n",
    "print(f\"pmf of just X: {p_x}\")"
   ]
  },
  {
   "cell_type": "markdown",
   "metadata": {},
   "source": [
    "Verify that this is indeed a pmf:"
   ]
  },
  {
   "cell_type": "code",
   "execution_count": 5,
   "metadata": {
    "execution": {
     "iopub.execute_input": "2025-06-16T14:58:31.299148Z",
     "iopub.status.busy": "2025-06-16T14:58:31.299086Z",
     "iopub.status.idle": "2025-06-16T14:58:31.301025Z",
     "shell.execute_reply": "2025-06-16T14:58:31.300777Z"
    }
   },
   "outputs": [
    {
     "name": "stdout",
     "output_type": "stream",
     "text": [
      "sum of p_x = 1.00\n"
     ]
    }
   ],
   "source": [
    "print(f\"sum of p_x = {np.sum(p_x):.2f}\")"
   ]
  },
  {
   "cell_type": "markdown",
   "metadata": {},
   "source": [
    "With this you can easily find the expectation of $X$:"
   ]
  },
  {
   "cell_type": "code",
   "execution_count": 6,
   "metadata": {
    "execution": {
     "iopub.execute_input": "2025-06-16T14:58:31.302104Z",
     "iopub.status.busy": "2025-06-16T14:58:31.302028Z",
     "iopub.status.idle": "2025-06-16T14:58:31.303610Z",
     "shell.execute_reply": "2025-06-16T14:58:31.303389Z"
    }
   },
   "outputs": [
    {
     "name": "stdout",
     "output_type": "stream",
     "text": [
      "E[X] = 1.87\n"
     ]
    }
   ],
   "source": [
    "E_X = np.sum(np.arange(5) * p_x)\n",
    "print(f\"E[X] = {E_X:.2f}\")"
   ]
  },
  {
   "cell_type": "markdown",
   "metadata": {},
   "source": [
    "Similarly for the variance of $X$:"
   ]
  },
  {
   "cell_type": "code",
   "execution_count": 7,
   "metadata": {
    "execution": {
     "iopub.execute_input": "2025-06-16T14:58:31.304603Z",
     "iopub.status.busy": "2025-06-16T14:58:31.304537Z",
     "iopub.status.idle": "2025-06-16T14:58:31.306212Z",
     "shell.execute_reply": "2025-06-16T14:58:31.306022Z"
    }
   },
   "outputs": [
    {
     "name": "stdout",
     "output_type": "stream",
     "text": [
      "V[X] = 1.89\n"
     ]
    }
   ],
   "source": [
    "E_X2 = np.sum(np.arange(5) ** 2 * p_x)\n",
    "V_X = E_X2 - E_X ** 2\n",
    "print(f\"V[X] = {V_X:.2f}\")"
   ]
  },
  {
   "cell_type": "markdown",
   "metadata": {},
   "source": [
    "Let's do the same for $Y$:"
   ]
  },
  {
   "cell_type": "code",
   "execution_count": 8,
   "metadata": {
    "execution": {
     "iopub.execute_input": "2025-06-16T14:58:31.307413Z",
     "iopub.status.busy": "2025-06-16T14:58:31.307310Z",
     "iopub.status.idle": "2025-06-16T14:58:31.309309Z",
     "shell.execute_reply": "2025-06-16T14:58:31.309081Z"
    }
   },
   "outputs": [
    {
     "name": "stdout",
     "output_type": "stream",
     "text": [
      "pmf of just Y: [0.11515387 0.11991004 0.08636773 0.0275508  0.07337711 0.1006592\n",
      " 0.13945104 0.09872863 0.14949879 0.0893028 ]\n",
      "E[Y] = 4.70\n",
      "V[Y] = 8.98\n"
     ]
    }
   ],
   "source": [
    "p_y = np.sum(A, axis=0)\n",
    "print(f\"pmf of just Y: {p_y}\")\n",
    "E_Y = np.sum(np.arange(10) * p_y)\n",
    "print(f\"E[Y] = {E_Y:.2f}\")\n",
    "E_Y2 = np.sum(np.arange(10) ** 2 * p_y)\n",
    "V_Y = E_Y2 - E_Y ** 2\n",
    "print(f\"V[Y] = {V_Y:.2f}\")"
   ]
  },
  {
   "cell_type": "markdown",
   "metadata": {},
   "source": [
    "Alright, we have found all the individual statistics.\n",
    "Let's now find the covariance of the two random variables.\n",
    "Remember the formula:\n",
    "\n",
    "$$\n",
    "\\mathbb{C}[X,Y] = \\sum_{x,y} (x-\\mathbb{E}[X])(y-\\mathbb{E}[Y])p(x,y).\n",
    "$$\n",
    "\n",
    "Here we go:"
   ]
  },
  {
   "cell_type": "code",
   "execution_count": 9,
   "metadata": {
    "execution": {
     "iopub.execute_input": "2025-06-16T14:58:31.310350Z",
     "iopub.status.busy": "2025-06-16T14:58:31.310288Z",
     "iopub.status.idle": "2025-06-16T14:58:31.312069Z",
     "shell.execute_reply": "2025-06-16T14:58:31.311864Z"
    }
   },
   "outputs": [
    {
     "name": "stdout",
     "output_type": "stream",
     "text": [
      "C[X, Y] = -0.38\n"
     ]
    }
   ],
   "source": [
    "# We will loop over all the possible values\n",
    "C_XY = 0.0 # Keeping track of the sum\n",
    "for x in range(5):\n",
    "    for y in range(10):\n",
    "        C_XY += (x - E_X) * (y - E_Y) * A[x, y] # the += means add to the left hand side\n",
    "print(f\"C[X, Y] = {C_XY:.2f}\")"
   ]
  },
  {
   "cell_type": "markdown",
   "metadata": {},
   "source": [
    "Remember that the covariance depends on the units of the random variables. Let's find the correlation coefficient:"
   ]
  },
  {
   "cell_type": "code",
   "execution_count": 10,
   "metadata": {
    "execution": {
     "iopub.execute_input": "2025-06-16T14:58:31.312996Z",
     "iopub.status.busy": "2025-06-16T14:58:31.312936Z",
     "iopub.status.idle": "2025-06-16T14:58:31.314452Z",
     "shell.execute_reply": "2025-06-16T14:58:31.314267Z"
    }
   },
   "outputs": [
    {
     "name": "stdout",
     "output_type": "stream",
     "text": [
      "rho_XY = -0.09\n"
     ]
    }
   ],
   "source": [
    "rho_XY = C_XY / (np.sqrt(V_X) * np.sqrt(V_Y))\n",
    "print(f\"rho_XY = {rho_XY:.2f}\")"
   ]
  },
  {
   "cell_type": "markdown",
   "metadata": {},
   "source": [
    "We see that $X$ and $Y$ are slightly negatively correlated.\n",
    "How can we visualize this?\n",
    "We need to sample from the joint distribution of $X$ and $Y$.\n",
    "We can do this by sampling a tuple of indices $(i,j)$ with probability $A_{ij}$.\n",
    "This is like sampling from a categorical with $5\\times 10 = 50$ different labels $c_0 = (1,1), c_1 = (1,2), \\dots, c_{49} = (5, 10)$ each with a probability $A_{00}, A_{01}, \\dots, A_{4,9}$.\n",
    "\n",
    "This is what the code below does. You can look at the details, if you are so inclined."
   ]
  },
  {
   "cell_type": "code",
   "execution_count": 11,
   "metadata": {
    "execution": {
     "iopub.execute_input": "2025-06-16T14:58:31.315475Z",
     "iopub.status.busy": "2025-06-16T14:58:31.315414Z",
     "iopub.status.idle": "2025-06-16T14:58:31.317561Z",
     "shell.execute_reply": "2025-06-16T14:58:31.317353Z"
    },
    "tags": [
     "hide-input"
    ]
   },
   "outputs": [],
   "source": [
    "import scipy.stats as st\n",
    "\n",
    "# A.flatten() is the matrix flattened out as a row\n",
    "XY = st.rv_discrete('Joinnt XY', values=(range(50), A.flatten()))\n",
    "\n",
    "# Let's now write a function that samples X and Y using a sample from XY\n",
    "def sample_X_and_Y():\n",
    "    \"\"\"Samples X and Y once.\"\"\"\n",
    "    k = XY.rvs()\n",
    "    # This is integer division\n",
    "    i = k // 10\n",
    "    # This is the remainder\n",
    "    j = k % 10\n",
    "    return i, j"
   ]
  },
  {
   "cell_type": "markdown",
   "metadata": {},
   "source": [
    "Let's try it out - take 10 samples:"
   ]
  },
  {
   "cell_type": "code",
   "execution_count": 12,
   "metadata": {
    "execution": {
     "iopub.execute_input": "2025-06-16T14:58:31.318592Z",
     "iopub.status.busy": "2025-06-16T14:58:31.318529Z",
     "iopub.status.idle": "2025-06-16T14:58:31.320486Z",
     "shell.execute_reply": "2025-06-16T14:58:31.320286Z"
    }
   },
   "outputs": [
    {
     "name": "stdout",
     "output_type": "stream",
     "text": [
      "x = 2, y = 5\n",
      "x = 0, y = 8\n",
      "x = 3, y = 6\n",
      "x = 4, y = 5\n",
      "x = 2, y = 7\n",
      "x = 0, y = 7\n",
      "x = 2, y = 2\n",
      "x = 1, y = 8\n",
      "x = 4, y = 0\n",
      "x = 4, y = 2\n"
     ]
    }
   ],
   "source": [
    "for n in range(10):\n",
    "    x, y = sample_X_and_Y()\n",
    "    print(f\"x = {x:d}, y = {y:d}\")"
   ]
  },
  {
   "cell_type": "markdown",
   "metadata": {},
   "source": [
    "Let's take many more samples and do a scatter plot:\n",
    "```python"
   ]
  },
  {
   "cell_type": "code",
   "execution_count": 13,
   "metadata": {
    "execution": {
     "iopub.execute_input": "2025-06-16T14:58:31.321480Z",
     "iopub.status.busy": "2025-06-16T14:58:31.321421Z",
     "iopub.status.idle": "2025-06-16T14:58:31.561272Z",
     "shell.execute_reply": "2025-06-16T14:58:31.560502Z"
    }
   },
   "outputs": [
    {
     "data": {
      "image/svg+xml": [
       "<?xml version=\"1.0\" encoding=\"utf-8\" standalone=\"no\"?>\n",
       "<!DOCTYPE svg PUBLIC \"-//W3C//DTD SVG 1.1//EN\"\n",
       "  \"http://www.w3.org/Graphics/SVG/1.1/DTD/svg11.dtd\">\n",
       "<svg xmlns:xlink=\"http://www.w3.org/1999/xlink\" width=\"457.92pt\" height=\"342.72pt\" viewBox=\"0 0 457.92 342.72\" xmlns=\"http://www.w3.org/2000/svg\" version=\"1.1\">\n",
       " <metadata>\n",
       "  <rdf:RDF xmlns:dc=\"http://purl.org/dc/elements/1.1/\" xmlns:cc=\"http://creativecommons.org/ns#\" xmlns:rdf=\"http://www.w3.org/1999/02/22-rdf-syntax-ns#\">\n",
       "   <cc:Work>\n",
       "    <dc:type rdf:resource=\"http://purl.org/dc/dcmitype/StillImage\"/>\n",
       "    <dc:date>2025-06-16T17:58:31.543265</dc:date>\n",
       "    <dc:format>image/svg+xml</dc:format>\n",
       "    <dc:creator>\n",
       "     <cc:Agent>\n",
       "      <dc:title>Matplotlib v3.9.2, https://matplotlib.org/</dc:title>\n",
       "     </cc:Agent>\n",
       "    </dc:creator>\n",
       "   </cc:Work>\n",
       "  </rdf:RDF>\n",
       " </metadata>\n",
       " <defs>\n",
       "  <style type=\"text/css\">*{stroke-linejoin: round; stroke-linecap: butt}</style>\n",
       " </defs>\n",
       " <g id=\"figure_1\">\n",
       "  <g id=\"patch_1\">\n",
       "   <path d=\"M 0 342.72 \n",
       "L 457.92 342.72 \n",
       "L 457.92 0 \n",
       "L 0 0 \n",
       "z\n",
       "\" style=\"fill: #ffffff\"/>\n",
       "  </g>\n",
       "  <g id=\"axes_1\">\n",
       "   <g id=\"patch_2\">\n",
       "    <path d=\"M 26.89625 313.502812 \n",
       "L 450.72 313.502812 \n",
       "L 450.72 7.2 \n",
       "L 26.89625 7.2 \n",
       "z\n",
       "\" style=\"fill: #ffffff\"/>\n",
       "   </g>\n",
       "   <g id=\"matplotlib.axis_1\">\n",
       "    <g id=\"xtick_1\">\n",
       "     <g id=\"line2d_1\"/>\n",
       "     <g id=\"text_1\">\n",
       "      <!-- 0.0 -->\n",
       "      <g style=\"fill: #262626\" transform=\"translate(40.594872 322.321719) scale(0.07 -0.07)\">\n",
       "       <defs>\n",
       "        <path id=\"DejaVuSerif-30\" d=\"M 2034 219 \n",
       "Q 2513 219 2750 744 \n",
       "Q 2988 1269 2988 2328 \n",
       "Q 2988 3391 2750 3916 \n",
       "Q 2513 4441 2034 4441 \n",
       "Q 1556 4441 1318 3916 \n",
       "Q 1081 3391 1081 2328 \n",
       "Q 1081 1269 1318 744 \n",
       "Q 1556 219 2034 219 \n",
       "z\n",
       "M 2034 -91 \n",
       "Q 1275 -91 848 546 \n",
       "Q 422 1184 422 2328 \n",
       "Q 422 3475 848 4112 \n",
       "Q 1275 4750 2034 4750 \n",
       "Q 2797 4750 3222 4112 \n",
       "Q 3647 3475 3647 2328 \n",
       "Q 3647 1184 3222 546 \n",
       "Q 2797 -91 2034 -91 \n",
       "z\n",
       "\" transform=\"scale(0.015625)\"/>\n",
       "        <path id=\"DejaVuSerif-2e\" d=\"M 603 325 \n",
       "Q 603 500 722 622 \n",
       "Q 841 744 1019 744 \n",
       "Q 1191 744 1312 622 \n",
       "Q 1434 500 1434 325 \n",
       "Q 1434 153 1312 31 \n",
       "Q 1191 -91 1019 -91 \n",
       "Q 841 -91 722 29 \n",
       "Q 603 150 603 325 \n",
       "z\n",
       "\" transform=\"scale(0.015625)\"/>\n",
       "       </defs>\n",
       "       <use xlink:href=\"#DejaVuSerif-30\"/>\n",
       "       <use xlink:href=\"#DejaVuSerif-2e\" x=\"63.623047\"/>\n",
       "       <use xlink:href=\"#DejaVuSerif-30\" x=\"95.410156\"/>\n",
       "      </g>\n",
       "     </g>\n",
       "    </g>\n",
       "    <g id=\"xtick_2\">\n",
       "     <g id=\"line2d_2\"/>\n",
       "     <g id=\"text_2\">\n",
       "      <!-- 0.5 -->\n",
       "      <g style=\"fill: #262626\" transform=\"translate(88.756662 322.321719) scale(0.07 -0.07)\">\n",
       "       <defs>\n",
       "        <path id=\"DejaVuSerif-35\" d=\"M 3219 4666 \n",
       "L 3219 4153 \n",
       "L 1081 4153 \n",
       "L 1081 2816 \n",
       "Q 1244 2928 1461 2984 \n",
       "Q 1678 3041 1947 3041 \n",
       "Q 2703 3041 3140 2622 \n",
       "Q 3578 2203 3578 1478 \n",
       "Q 3578 738 3136 323 \n",
       "Q 2694 -91 1894 -91 \n",
       "Q 1572 -91 1234 -12 \n",
       "Q 897 66 544 225 \n",
       "L 544 1131 \n",
       "L 897 1131 \n",
       "Q 925 688 1179 453 \n",
       "Q 1434 219 1894 219 \n",
       "Q 2388 219 2653 544 \n",
       "Q 2919 869 2919 1478 \n",
       "Q 2919 2084 2655 2407 \n",
       "Q 2391 2731 1894 2731 \n",
       "Q 1613 2731 1398 2631 \n",
       "Q 1184 2531 1019 2322 \n",
       "L 750 2322 \n",
       "L 750 4666 \n",
       "L 3219 4666 \n",
       "z\n",
       "\" transform=\"scale(0.015625)\"/>\n",
       "       </defs>\n",
       "       <use xlink:href=\"#DejaVuSerif-30\"/>\n",
       "       <use xlink:href=\"#DejaVuSerif-2e\" x=\"63.623047\"/>\n",
       "       <use xlink:href=\"#DejaVuSerif-35\" x=\"95.410156\"/>\n",
       "      </g>\n",
       "     </g>\n",
       "    </g>\n",
       "    <g id=\"xtick_3\">\n",
       "     <g id=\"line2d_3\"/>\n",
       "     <g id=\"text_3\">\n",
       "      <!-- 1.0 -->\n",
       "      <g style=\"fill: #262626\" transform=\"translate(136.918452 322.321719) scale(0.07 -0.07)\">\n",
       "       <defs>\n",
       "        <path id=\"DejaVuSerif-31\" d=\"M 909 0 \n",
       "L 909 331 \n",
       "L 1722 331 \n",
       "L 1722 4213 \n",
       "L 781 3603 \n",
       "L 781 4013 \n",
       "L 1919 4750 \n",
       "L 2350 4750 \n",
       "L 2350 331 \n",
       "L 3163 331 \n",
       "L 3163 0 \n",
       "L 909 0 \n",
       "z\n",
       "\" transform=\"scale(0.015625)\"/>\n",
       "       </defs>\n",
       "       <use xlink:href=\"#DejaVuSerif-31\"/>\n",
       "       <use xlink:href=\"#DejaVuSerif-2e\" x=\"63.623047\"/>\n",
       "       <use xlink:href=\"#DejaVuSerif-30\" x=\"95.410156\"/>\n",
       "      </g>\n",
       "     </g>\n",
       "    </g>\n",
       "    <g id=\"xtick_4\">\n",
       "     <g id=\"line2d_4\"/>\n",
       "     <g id=\"text_4\">\n",
       "      <!-- 1.5 -->\n",
       "      <g style=\"fill: #262626\" transform=\"translate(185.080241 322.321719) scale(0.07 -0.07)\">\n",
       "       <use xlink:href=\"#DejaVuSerif-31\"/>\n",
       "       <use xlink:href=\"#DejaVuSerif-2e\" x=\"63.623047\"/>\n",
       "       <use xlink:href=\"#DejaVuSerif-35\" x=\"95.410156\"/>\n",
       "      </g>\n",
       "     </g>\n",
       "    </g>\n",
       "    <g id=\"xtick_5\">\n",
       "     <g id=\"line2d_5\"/>\n",
       "     <g id=\"text_5\">\n",
       "      <!-- 2.0 -->\n",
       "      <g style=\"fill: #262626\" transform=\"translate(233.242031 322.321719) scale(0.07 -0.07)\">\n",
       "       <defs>\n",
       "        <path id=\"DejaVuSerif-32\" d=\"M 819 3553 \n",
       "L 469 3553 \n",
       "L 469 4384 \n",
       "Q 803 4563 1142 4656 \n",
       "Q 1481 4750 1806 4750 \n",
       "Q 2534 4750 2956 4397 \n",
       "Q 3378 4044 3378 3438 \n",
       "Q 3378 2753 2422 1800 \n",
       "Q 2347 1728 2309 1691 \n",
       "L 1131 513 \n",
       "L 3078 513 \n",
       "L 3078 1088 \n",
       "L 3444 1088 \n",
       "L 3444 0 \n",
       "L 434 0 \n",
       "L 434 341 \n",
       "L 1850 1753 \n",
       "Q 2319 2222 2519 2614 \n",
       "Q 2719 3006 2719 3438 \n",
       "Q 2719 3909 2473 4175 \n",
       "Q 2228 4441 1797 4441 \n",
       "Q 1350 4441 1106 4219 \n",
       "Q 863 3997 819 3553 \n",
       "z\n",
       "\" transform=\"scale(0.015625)\"/>\n",
       "       </defs>\n",
       "       <use xlink:href=\"#DejaVuSerif-32\"/>\n",
       "       <use xlink:href=\"#DejaVuSerif-2e\" x=\"63.623047\"/>\n",
       "       <use xlink:href=\"#DejaVuSerif-30\" x=\"95.410156\"/>\n",
       "      </g>\n",
       "     </g>\n",
       "    </g>\n",
       "    <g id=\"xtick_6\">\n",
       "     <g id=\"line2d_6\"/>\n",
       "     <g id=\"text_6\">\n",
       "      <!-- 2.5 -->\n",
       "      <g style=\"fill: #262626\" transform=\"translate(281.403821 322.321719) scale(0.07 -0.07)\">\n",
       "       <use xlink:href=\"#DejaVuSerif-32\"/>\n",
       "       <use xlink:href=\"#DejaVuSerif-2e\" x=\"63.623047\"/>\n",
       "       <use xlink:href=\"#DejaVuSerif-35\" x=\"95.410156\"/>\n",
       "      </g>\n",
       "     </g>\n",
       "    </g>\n",
       "    <g id=\"xtick_7\">\n",
       "     <g id=\"line2d_7\"/>\n",
       "     <g id=\"text_7\">\n",
       "      <!-- 3.0 -->\n",
       "      <g style=\"fill: #262626\" transform=\"translate(329.565611 322.321719) scale(0.07 -0.07)\">\n",
       "       <defs>\n",
       "        <path id=\"DejaVuSerif-33\" d=\"M 622 4469 \n",
       "Q 988 4606 1323 4678 \n",
       "Q 1659 4750 1953 4750 \n",
       "Q 2638 4750 3022 4454 \n",
       "Q 3406 4159 3406 3634 \n",
       "Q 3406 3213 3140 2930 \n",
       "Q 2875 2647 2388 2547 \n",
       "Q 2963 2466 3280 2130 \n",
       "Q 3597 1794 3597 1259 \n",
       "Q 3597 606 3158 257 \n",
       "Q 2719 -91 1894 -91 \n",
       "Q 1528 -91 1179 -12 \n",
       "Q 831 66 488 225 \n",
       "L 488 1131 \n",
       "L 838 1131 \n",
       "Q 869 681 1141 450 \n",
       "Q 1413 219 1906 219 \n",
       "Q 2384 219 2661 495 \n",
       "Q 2938 772 2938 1253 \n",
       "Q 2938 1803 2653 2086 \n",
       "Q 2369 2369 1819 2369 \n",
       "L 1522 2369 \n",
       "L 1522 2688 \n",
       "L 1678 2688 \n",
       "Q 2225 2688 2498 2914 \n",
       "Q 2772 3141 2772 3597 \n",
       "Q 2772 4006 2547 4223 \n",
       "Q 2322 4441 1900 4441 \n",
       "Q 1478 4441 1245 4241 \n",
       "Q 1013 4041 972 3647 \n",
       "L 622 3647 \n",
       "L 622 4469 \n",
       "z\n",
       "\" transform=\"scale(0.015625)\"/>\n",
       "       </defs>\n",
       "       <use xlink:href=\"#DejaVuSerif-33\"/>\n",
       "       <use xlink:href=\"#DejaVuSerif-2e\" x=\"63.623047\"/>\n",
       "       <use xlink:href=\"#DejaVuSerif-30\" x=\"95.410156\"/>\n",
       "      </g>\n",
       "     </g>\n",
       "    </g>\n",
       "    <g id=\"xtick_8\">\n",
       "     <g id=\"line2d_8\"/>\n",
       "     <g id=\"text_8\">\n",
       "      <!-- 3.5 -->\n",
       "      <g style=\"fill: #262626\" transform=\"translate(377.727401 322.321719) scale(0.07 -0.07)\">\n",
       "       <use xlink:href=\"#DejaVuSerif-33\"/>\n",
       "       <use xlink:href=\"#DejaVuSerif-2e\" x=\"63.623047\"/>\n",
       "       <use xlink:href=\"#DejaVuSerif-35\" x=\"95.410156\"/>\n",
       "      </g>\n",
       "     </g>\n",
       "    </g>\n",
       "    <g id=\"xtick_9\">\n",
       "     <g id=\"line2d_9\"/>\n",
       "     <g id=\"text_9\">\n",
       "      <!-- 4.0 -->\n",
       "      <g style=\"fill: #262626\" transform=\"translate(425.88919 322.321719) scale(0.07 -0.07)\">\n",
       "       <defs>\n",
       "        <path id=\"DejaVuSerif-34\" d=\"M 2234 1581 \n",
       "L 2234 4063 \n",
       "L 641 1581 \n",
       "L 2234 1581 \n",
       "z\n",
       "M 3609 0 \n",
       "L 1484 0 \n",
       "L 1484 331 \n",
       "L 2234 331 \n",
       "L 2234 1247 \n",
       "L 197 1247 \n",
       "L 197 1588 \n",
       "L 2241 4750 \n",
       "L 2859 4750 \n",
       "L 2859 1581 \n",
       "L 3750 1581 \n",
       "L 3750 1247 \n",
       "L 2859 1247 \n",
       "L 2859 331 \n",
       "L 3609 331 \n",
       "L 3609 0 \n",
       "z\n",
       "\" transform=\"scale(0.015625)\"/>\n",
       "       </defs>\n",
       "       <use xlink:href=\"#DejaVuSerif-34\"/>\n",
       "       <use xlink:href=\"#DejaVuSerif-2e\" x=\"63.623047\"/>\n",
       "       <use xlink:href=\"#DejaVuSerif-30\" x=\"95.410156\"/>\n",
       "      </g>\n",
       "     </g>\n",
       "    </g>\n",
       "    <g id=\"text_10\">\n",
       "     <!-- $x$ -->\n",
       "     <g style=\"fill: #262626\" transform=\"translate(236.408125 333.85625) scale(0.08 -0.08)\">\n",
       "      <defs>\n",
       "       <path id=\"DejaVuSans-Oblique-78\" d=\"M 3841 3500 \n",
       "L 2234 1784 \n",
       "L 3219 0 \n",
       "L 2559 0 \n",
       "L 1819 1388 \n",
       "L 531 0 \n",
       "L -166 0 \n",
       "L 1556 1844 \n",
       "L 641 3500 \n",
       "L 1300 3500 \n",
       "L 1972 2234 \n",
       "L 3144 3500 \n",
       "L 3841 3500 \n",
       "z\n",
       "\" transform=\"scale(0.015625)\"/>\n",
       "      </defs>\n",
       "      <use xlink:href=\"#DejaVuSans-Oblique-78\" transform=\"translate(0 0.3125)\"/>\n",
       "     </g>\n",
       "    </g>\n",
       "   </g>\n",
       "   <g id=\"matplotlib.axis_2\">\n",
       "    <g id=\"ytick_1\">\n",
       "     <g id=\"line2d_10\"/>\n",
       "     <g id=\"text_11\">\n",
       "      <!-- 0 -->\n",
       "      <g style=\"fill: #262626\" transform=\"translate(18.9425 302.239411) scale(0.07 -0.07)\">\n",
       "       <use xlink:href=\"#DejaVuSerif-30\"/>\n",
       "      </g>\n",
       "     </g>\n",
       "    </g>\n",
       "    <g id=\"ytick_2\">\n",
       "     <g id=\"line2d_11\"/>\n",
       "     <g id=\"text_12\">\n",
       "      <!-- 2 -->\n",
       "      <g style=\"fill: #262626\" transform=\"translate(18.9425 240.360054) scale(0.07 -0.07)\">\n",
       "       <use xlink:href=\"#DejaVuSerif-32\"/>\n",
       "      </g>\n",
       "     </g>\n",
       "    </g>\n",
       "    <g id=\"ytick_3\">\n",
       "     <g id=\"line2d_12\"/>\n",
       "     <g id=\"text_13\">\n",
       "      <!-- 4 -->\n",
       "      <g style=\"fill: #262626\" transform=\"translate(18.9425 178.480698) scale(0.07 -0.07)\">\n",
       "       <use xlink:href=\"#DejaVuSerif-34\"/>\n",
       "      </g>\n",
       "     </g>\n",
       "    </g>\n",
       "    <g id=\"ytick_4\">\n",
       "     <g id=\"line2d_13\"/>\n",
       "     <g id=\"text_14\">\n",
       "      <!-- 6 -->\n",
       "      <g style=\"fill: #262626\" transform=\"translate(18.9425 116.601342) scale(0.07 -0.07)\">\n",
       "       <defs>\n",
       "        <path id=\"DejaVuSerif-36\" d=\"M 2094 219 \n",
       "Q 2534 219 2771 542 \n",
       "Q 3009 866 3009 1472 \n",
       "Q 3009 2078 2771 2401 \n",
       "Q 2534 2725 2094 2725 \n",
       "Q 1647 2725 1412 2412 \n",
       "Q 1178 2100 1178 1509 \n",
       "Q 1178 888 1415 553 \n",
       "Q 1653 219 2094 219 \n",
       "z\n",
       "M 1075 2569 \n",
       "Q 1288 2803 1556 2918 \n",
       "Q 1825 3034 2163 3034 \n",
       "Q 2859 3034 3264 2615 \n",
       "Q 3669 2197 3669 1472 \n",
       "Q 3669 763 3233 336 \n",
       "Q 2797 -91 2069 -91 \n",
       "Q 1278 -91 853 498 \n",
       "Q 428 1088 428 2181 \n",
       "Q 428 3406 931 4078 \n",
       "Q 1434 4750 2350 4750 \n",
       "Q 2597 4750 2869 4703 \n",
       "Q 3141 4656 3425 4563 \n",
       "L 3425 3794 \n",
       "L 3072 3794 \n",
       "Q 3034 4109 2831 4275 \n",
       "Q 2628 4441 2284 4441 \n",
       "Q 1678 4441 1381 3981 \n",
       "Q 1084 3522 1075 2569 \n",
       "z\n",
       "\" transform=\"scale(0.015625)\"/>\n",
       "       </defs>\n",
       "       <use xlink:href=\"#DejaVuSerif-36\"/>\n",
       "      </g>\n",
       "     </g>\n",
       "    </g>\n",
       "    <g id=\"ytick_5\">\n",
       "     <g id=\"line2d_14\"/>\n",
       "     <g id=\"text_15\">\n",
       "      <!-- 8 -->\n",
       "      <g style=\"fill: #262626\" transform=\"translate(18.9425 54.721986) scale(0.07 -0.07)\">\n",
       "       <defs>\n",
       "        <path id=\"DejaVuSerif-38\" d=\"M 2981 1275 \n",
       "Q 2981 1775 2732 2051 \n",
       "Q 2484 2328 2034 2328 \n",
       "Q 1584 2328 1336 2051 \n",
       "Q 1088 1775 1088 1275 \n",
       "Q 1088 772 1336 495 \n",
       "Q 1584 219 2034 219 \n",
       "Q 2484 219 2732 495 \n",
       "Q 2981 772 2981 1275 \n",
       "z\n",
       "M 2853 3541 \n",
       "Q 2853 3966 2637 4203 \n",
       "Q 2422 4441 2034 4441 \n",
       "Q 1650 4441 1433 4203 \n",
       "Q 1216 3966 1216 3541 \n",
       "Q 1216 3113 1433 2875 \n",
       "Q 1650 2638 2034 2638 \n",
       "Q 2422 2638 2637 2875 \n",
       "Q 2853 3113 2853 3541 \n",
       "z\n",
       "M 2516 2484 \n",
       "Q 3047 2413 3344 2092 \n",
       "Q 3641 1772 3641 1275 \n",
       "Q 3641 619 3225 264 \n",
       "Q 2809 -91 2034 -91 \n",
       "Q 1263 -91 845 264 \n",
       "Q 428 619 428 1275 \n",
       "Q 428 1772 725 2092 \n",
       "Q 1022 2413 1556 2484 \n",
       "Q 1084 2569 832 2842 \n",
       "Q 581 3116 581 3541 \n",
       "Q 581 4103 968 4426 \n",
       "Q 1356 4750 2034 4750 \n",
       "Q 2713 4750 3100 4426 \n",
       "Q 3488 4103 3488 3541 \n",
       "Q 3488 3116 3236 2842 \n",
       "Q 2984 2569 2516 2484 \n",
       "z\n",
       "\" transform=\"scale(0.015625)\"/>\n",
       "       </defs>\n",
       "       <use xlink:href=\"#DejaVuSerif-38\"/>\n",
       "      </g>\n",
       "     </g>\n",
       "    </g>\n",
       "    <g id=\"text_16\">\n",
       "     <!-- $y$ -->\n",
       "     <g style=\"fill: #262626\" transform=\"translate(13.2625 162.751406) rotate(-90) scale(0.08 -0.08)\">\n",
       "      <defs>\n",
       "       <path id=\"DejaVuSans-Oblique-79\" d=\"M 1588 -325 \n",
       "Q 1188 -997 936 -1164 \n",
       "Q 684 -1331 294 -1331 \n",
       "L -159 -1331 \n",
       "L -63 -850 \n",
       "L 269 -850 \n",
       "Q 509 -850 678 -719 \n",
       "Q 847 -588 1056 -206 \n",
       "L 1234 128 \n",
       "L 459 3500 \n",
       "L 1069 3500 \n",
       "L 1650 819 \n",
       "L 3256 3500 \n",
       "L 3859 3500 \n",
       "L 1588 -325 \n",
       "z\n",
       "\" transform=\"scale(0.015625)\"/>\n",
       "      </defs>\n",
       "      <use xlink:href=\"#DejaVuSans-Oblique-79\" transform=\"translate(0 0.3125)\"/>\n",
       "     </g>\n",
       "    </g>\n",
       "   </g>\n",
       "   <g id=\"PathCollection_1\">\n",
       "    <defs>\n",
       "     <path id=\"m9ab599e809\" d=\"M 0 2 \n",
       "C 0.530406 2 1.03916 1.789267 1.414214 1.414214 \n",
       "C 1.789267 1.03916 2 0.530406 2 0 \n",
       "C 2 -0.530406 1.789267 -1.03916 1.414214 -1.414214 \n",
       "C 1.03916 -1.789267 0.530406 -2 0 -2 \n",
       "C -0.530406 -2 -1.03916 -1.789267 -1.414214 -1.414214 \n",
       "C -1.789267 -1.03916 -2 -0.530406 -2 0 \n",
       "C -2 0.530406 -1.789267 1.03916 -1.414214 1.414214 \n",
       "C -1.03916 1.789267 -0.530406 2 0 2 \n",
       "z\n",
       "\" style=\"stroke: #4c72b0; stroke-opacity: 0.1; stroke-width: 0.8\"/>\n",
       "    </defs>\n",
       "    <g clip-path=\"url(#pb4e271481a)\">\n",
       "     <use xlink:href=\"#m9ab599e809\" x=\"142.484545\" y=\"52.062533\" style=\"fill: #4c72b0; fill-opacity: 0.1; stroke: #4c72b0; stroke-opacity: 0.1; stroke-width: 0.8\"/>\n",
       "     <use xlink:href=\"#m9ab599e809\" x=\"142.484545\" y=\"113.941889\" style=\"fill: #4c72b0; fill-opacity: 0.1; stroke: #4c72b0; stroke-opacity: 0.1; stroke-width: 0.8\"/>\n",
       "     <use xlink:href=\"#m9ab599e809\" x=\"238.808125\" y=\"113.941889\" style=\"fill: #4c72b0; fill-opacity: 0.1; stroke: #4c72b0; stroke-opacity: 0.1; stroke-width: 0.8\"/>\n",
       "     <use xlink:href=\"#m9ab599e809\" x=\"46.160966\" y=\"52.062533\" style=\"fill: #4c72b0; fill-opacity: 0.1; stroke: #4c72b0; stroke-opacity: 0.1; stroke-width: 0.8\"/>\n",
       "     <use xlink:href=\"#m9ab599e809\" x=\"46.160966\" y=\"113.941889\" style=\"fill: #4c72b0; fill-opacity: 0.1; stroke: #4c72b0; stroke-opacity: 0.1; stroke-width: 0.8\"/>\n",
       "     <use xlink:href=\"#m9ab599e809\" x=\"335.131705\" y=\"237.700601\" style=\"fill: #4c72b0; fill-opacity: 0.1; stroke: #4c72b0; stroke-opacity: 0.1; stroke-width: 0.8\"/>\n",
       "     <use xlink:href=\"#m9ab599e809\" x=\"335.131705\" y=\"52.062533\" style=\"fill: #4c72b0; fill-opacity: 0.1; stroke: #4c72b0; stroke-opacity: 0.1; stroke-width: 0.8\"/>\n",
       "     <use xlink:href=\"#m9ab599e809\" x=\"238.808125\" y=\"113.941889\" style=\"fill: #4c72b0; fill-opacity: 0.1; stroke: #4c72b0; stroke-opacity: 0.1; stroke-width: 0.8\"/>\n",
       "     <use xlink:href=\"#m9ab599e809\" x=\"431.455284\" y=\"52.062533\" style=\"fill: #4c72b0; fill-opacity: 0.1; stroke: #4c72b0; stroke-opacity: 0.1; stroke-width: 0.8\"/>\n",
       "     <use xlink:href=\"#m9ab599e809\" x=\"238.808125\" y=\"52.062533\" style=\"fill: #4c72b0; fill-opacity: 0.1; stroke: #4c72b0; stroke-opacity: 0.1; stroke-width: 0.8\"/>\n",
       "     <use xlink:href=\"#m9ab599e809\" x=\"431.455284\" y=\"237.700601\" style=\"fill: #4c72b0; fill-opacity: 0.1; stroke: #4c72b0; stroke-opacity: 0.1; stroke-width: 0.8\"/>\n",
       "     <use xlink:href=\"#m9ab599e809\" x=\"238.808125\" y=\"237.700601\" style=\"fill: #4c72b0; fill-opacity: 0.1; stroke: #4c72b0; stroke-opacity: 0.1; stroke-width: 0.8\"/>\n",
       "     <use xlink:href=\"#m9ab599e809\" x=\"142.484545\" y=\"83.002211\" style=\"fill: #4c72b0; fill-opacity: 0.1; stroke: #4c72b0; stroke-opacity: 0.1; stroke-width: 0.8\"/>\n",
       "     <use xlink:href=\"#m9ab599e809\" x=\"335.131705\" y=\"237.700601\" style=\"fill: #4c72b0; fill-opacity: 0.1; stroke: #4c72b0; stroke-opacity: 0.1; stroke-width: 0.8\"/>\n",
       "     <use xlink:href=\"#m9ab599e809\" x=\"238.808125\" y=\"206.760923\" style=\"fill: #4c72b0; fill-opacity: 0.1; stroke: #4c72b0; stroke-opacity: 0.1; stroke-width: 0.8\"/>\n",
       "     <use xlink:href=\"#m9ab599e809\" x=\"142.484545\" y=\"299.579957\" style=\"fill: #4c72b0; fill-opacity: 0.1; stroke: #4c72b0; stroke-opacity: 0.1; stroke-width: 0.8\"/>\n",
       "     <use xlink:href=\"#m9ab599e809\" x=\"142.484545\" y=\"268.640279\" style=\"fill: #4c72b0; fill-opacity: 0.1; stroke: #4c72b0; stroke-opacity: 0.1; stroke-width: 0.8\"/>\n",
       "     <use xlink:href=\"#m9ab599e809\" x=\"335.131705\" y=\"52.062533\" style=\"fill: #4c72b0; fill-opacity: 0.1; stroke: #4c72b0; stroke-opacity: 0.1; stroke-width: 0.8\"/>\n",
       "     <use xlink:href=\"#m9ab599e809\" x=\"238.808125\" y=\"237.700601\" style=\"fill: #4c72b0; fill-opacity: 0.1; stroke: #4c72b0; stroke-opacity: 0.1; stroke-width: 0.8\"/>\n",
       "     <use xlink:href=\"#m9ab599e809\" x=\"431.455284\" y=\"206.760923\" style=\"fill: #4c72b0; fill-opacity: 0.1; stroke: #4c72b0; stroke-opacity: 0.1; stroke-width: 0.8\"/>\n",
       "     <use xlink:href=\"#m9ab599e809\" x=\"431.455284\" y=\"113.941889\" style=\"fill: #4c72b0; fill-opacity: 0.1; stroke: #4c72b0; stroke-opacity: 0.1; stroke-width: 0.8\"/>\n",
       "     <use xlink:href=\"#m9ab599e809\" x=\"238.808125\" y=\"144.881567\" style=\"fill: #4c72b0; fill-opacity: 0.1; stroke: #4c72b0; stroke-opacity: 0.1; stroke-width: 0.8\"/>\n",
       "     <use xlink:href=\"#m9ab599e809\" x=\"142.484545\" y=\"268.640279\" style=\"fill: #4c72b0; fill-opacity: 0.1; stroke: #4c72b0; stroke-opacity: 0.1; stroke-width: 0.8\"/>\n",
       "     <use xlink:href=\"#m9ab599e809\" x=\"335.131705\" y=\"175.821245\" style=\"fill: #4c72b0; fill-opacity: 0.1; stroke: #4c72b0; stroke-opacity: 0.1; stroke-width: 0.8\"/>\n",
       "     <use xlink:href=\"#m9ab599e809\" x=\"142.484545\" y=\"83.002211\" style=\"fill: #4c72b0; fill-opacity: 0.1; stroke: #4c72b0; stroke-opacity: 0.1; stroke-width: 0.8\"/>\n",
       "     <use xlink:href=\"#m9ab599e809\" x=\"238.808125\" y=\"237.700601\" style=\"fill: #4c72b0; fill-opacity: 0.1; stroke: #4c72b0; stroke-opacity: 0.1; stroke-width: 0.8\"/>\n",
       "     <use xlink:href=\"#m9ab599e809\" x=\"142.484545\" y=\"299.579957\" style=\"fill: #4c72b0; fill-opacity: 0.1; stroke: #4c72b0; stroke-opacity: 0.1; stroke-width: 0.8\"/>\n",
       "     <use xlink:href=\"#m9ab599e809\" x=\"142.484545\" y=\"83.002211\" style=\"fill: #4c72b0; fill-opacity: 0.1; stroke: #4c72b0; stroke-opacity: 0.1; stroke-width: 0.8\"/>\n",
       "     <use xlink:href=\"#m9ab599e809\" x=\"238.808125\" y=\"21.122855\" style=\"fill: #4c72b0; fill-opacity: 0.1; stroke: #4c72b0; stroke-opacity: 0.1; stroke-width: 0.8\"/>\n",
       "     <use xlink:href=\"#m9ab599e809\" x=\"142.484545\" y=\"113.941889\" style=\"fill: #4c72b0; fill-opacity: 0.1; stroke: #4c72b0; stroke-opacity: 0.1; stroke-width: 0.8\"/>\n",
       "     <use xlink:href=\"#m9ab599e809\" x=\"335.131705\" y=\"113.941889\" style=\"fill: #4c72b0; fill-opacity: 0.1; stroke: #4c72b0; stroke-opacity: 0.1; stroke-width: 0.8\"/>\n",
       "     <use xlink:href=\"#m9ab599e809\" x=\"335.131705\" y=\"52.062533\" style=\"fill: #4c72b0; fill-opacity: 0.1; stroke: #4c72b0; stroke-opacity: 0.1; stroke-width: 0.8\"/>\n",
       "     <use xlink:href=\"#m9ab599e809\" x=\"431.455284\" y=\"299.579957\" style=\"fill: #4c72b0; fill-opacity: 0.1; stroke: #4c72b0; stroke-opacity: 0.1; stroke-width: 0.8\"/>\n",
       "     <use xlink:href=\"#m9ab599e809\" x=\"431.455284\" y=\"113.941889\" style=\"fill: #4c72b0; fill-opacity: 0.1; stroke: #4c72b0; stroke-opacity: 0.1; stroke-width: 0.8\"/>\n",
       "     <use xlink:href=\"#m9ab599e809\" x=\"46.160966\" y=\"113.941889\" style=\"fill: #4c72b0; fill-opacity: 0.1; stroke: #4c72b0; stroke-opacity: 0.1; stroke-width: 0.8\"/>\n",
       "     <use xlink:href=\"#m9ab599e809\" x=\"431.455284\" y=\"237.700601\" style=\"fill: #4c72b0; fill-opacity: 0.1; stroke: #4c72b0; stroke-opacity: 0.1; stroke-width: 0.8\"/>\n",
       "     <use xlink:href=\"#m9ab599e809\" x=\"142.484545\" y=\"113.941889\" style=\"fill: #4c72b0; fill-opacity: 0.1; stroke: #4c72b0; stroke-opacity: 0.1; stroke-width: 0.8\"/>\n",
       "     <use xlink:href=\"#m9ab599e809\" x=\"335.131705\" y=\"21.122855\" style=\"fill: #4c72b0; fill-opacity: 0.1; stroke: #4c72b0; stroke-opacity: 0.1; stroke-width: 0.8\"/>\n",
       "     <use xlink:href=\"#m9ab599e809\" x=\"431.455284\" y=\"237.700601\" style=\"fill: #4c72b0; fill-opacity: 0.1; stroke: #4c72b0; stroke-opacity: 0.1; stroke-width: 0.8\"/>\n",
       "     <use xlink:href=\"#m9ab599e809\" x=\"46.160966\" y=\"268.640279\" style=\"fill: #4c72b0; fill-opacity: 0.1; stroke: #4c72b0; stroke-opacity: 0.1; stroke-width: 0.8\"/>\n",
       "     <use xlink:href=\"#m9ab599e809\" x=\"46.160966\" y=\"21.122855\" style=\"fill: #4c72b0; fill-opacity: 0.1; stroke: #4c72b0; stroke-opacity: 0.1; stroke-width: 0.8\"/>\n",
       "     <use xlink:href=\"#m9ab599e809\" x=\"142.484545\" y=\"144.881567\" style=\"fill: #4c72b0; fill-opacity: 0.1; stroke: #4c72b0; stroke-opacity: 0.1; stroke-width: 0.8\"/>\n",
       "     <use xlink:href=\"#m9ab599e809\" x=\"238.808125\" y=\"52.062533\" style=\"fill: #4c72b0; fill-opacity: 0.1; stroke: #4c72b0; stroke-opacity: 0.1; stroke-width: 0.8\"/>\n",
       "     <use xlink:href=\"#m9ab599e809\" x=\"46.160966\" y=\"144.881567\" style=\"fill: #4c72b0; fill-opacity: 0.1; stroke: #4c72b0; stroke-opacity: 0.1; stroke-width: 0.8\"/>\n",
       "     <use xlink:href=\"#m9ab599e809\" x=\"46.160966\" y=\"83.002211\" style=\"fill: #4c72b0; fill-opacity: 0.1; stroke: #4c72b0; stroke-opacity: 0.1; stroke-width: 0.8\"/>\n",
       "     <use xlink:href=\"#m9ab599e809\" x=\"238.808125\" y=\"175.821245\" style=\"fill: #4c72b0; fill-opacity: 0.1; stroke: #4c72b0; stroke-opacity: 0.1; stroke-width: 0.8\"/>\n",
       "     <use xlink:href=\"#m9ab599e809\" x=\"335.131705\" y=\"237.700601\" style=\"fill: #4c72b0; fill-opacity: 0.1; stroke: #4c72b0; stroke-opacity: 0.1; stroke-width: 0.8\"/>\n",
       "     <use xlink:href=\"#m9ab599e809\" x=\"431.455284\" y=\"299.579957\" style=\"fill: #4c72b0; fill-opacity: 0.1; stroke: #4c72b0; stroke-opacity: 0.1; stroke-width: 0.8\"/>\n",
       "     <use xlink:href=\"#m9ab599e809\" x=\"238.808125\" y=\"21.122855\" style=\"fill: #4c72b0; fill-opacity: 0.1; stroke: #4c72b0; stroke-opacity: 0.1; stroke-width: 0.8\"/>\n",
       "     <use xlink:href=\"#m9ab599e809\" x=\"238.808125\" y=\"113.941889\" style=\"fill: #4c72b0; fill-opacity: 0.1; stroke: #4c72b0; stroke-opacity: 0.1; stroke-width: 0.8\"/>\n",
       "     <use xlink:href=\"#m9ab599e809\" x=\"335.131705\" y=\"237.700601\" style=\"fill: #4c72b0; fill-opacity: 0.1; stroke: #4c72b0; stroke-opacity: 0.1; stroke-width: 0.8\"/>\n",
       "     <use xlink:href=\"#m9ab599e809\" x=\"142.484545\" y=\"268.640279\" style=\"fill: #4c72b0; fill-opacity: 0.1; stroke: #4c72b0; stroke-opacity: 0.1; stroke-width: 0.8\"/>\n",
       "     <use xlink:href=\"#m9ab599e809\" x=\"431.455284\" y=\"237.700601\" style=\"fill: #4c72b0; fill-opacity: 0.1; stroke: #4c72b0; stroke-opacity: 0.1; stroke-width: 0.8\"/>\n",
       "     <use xlink:href=\"#m9ab599e809\" x=\"238.808125\" y=\"299.579957\" style=\"fill: #4c72b0; fill-opacity: 0.1; stroke: #4c72b0; stroke-opacity: 0.1; stroke-width: 0.8\"/>\n",
       "     <use xlink:href=\"#m9ab599e809\" x=\"46.160966\" y=\"299.579957\" style=\"fill: #4c72b0; fill-opacity: 0.1; stroke: #4c72b0; stroke-opacity: 0.1; stroke-width: 0.8\"/>\n",
       "     <use xlink:href=\"#m9ab599e809\" x=\"431.455284\" y=\"83.002211\" style=\"fill: #4c72b0; fill-opacity: 0.1; stroke: #4c72b0; stroke-opacity: 0.1; stroke-width: 0.8\"/>\n",
       "     <use xlink:href=\"#m9ab599e809\" x=\"335.131705\" y=\"299.579957\" style=\"fill: #4c72b0; fill-opacity: 0.1; stroke: #4c72b0; stroke-opacity: 0.1; stroke-width: 0.8\"/>\n",
       "     <use xlink:href=\"#m9ab599e809\" x=\"238.808125\" y=\"206.760923\" style=\"fill: #4c72b0; fill-opacity: 0.1; stroke: #4c72b0; stroke-opacity: 0.1; stroke-width: 0.8\"/>\n",
       "     <use xlink:href=\"#m9ab599e809\" x=\"335.131705\" y=\"237.700601\" style=\"fill: #4c72b0; fill-opacity: 0.1; stroke: #4c72b0; stroke-opacity: 0.1; stroke-width: 0.8\"/>\n",
       "     <use xlink:href=\"#m9ab599e809\" x=\"238.808125\" y=\"237.700601\" style=\"fill: #4c72b0; fill-opacity: 0.1; stroke: #4c72b0; stroke-opacity: 0.1; stroke-width: 0.8\"/>\n",
       "     <use xlink:href=\"#m9ab599e809\" x=\"431.455284\" y=\"144.881567\" style=\"fill: #4c72b0; fill-opacity: 0.1; stroke: #4c72b0; stroke-opacity: 0.1; stroke-width: 0.8\"/>\n",
       "     <use xlink:href=\"#m9ab599e809\" x=\"238.808125\" y=\"175.821245\" style=\"fill: #4c72b0; fill-opacity: 0.1; stroke: #4c72b0; stroke-opacity: 0.1; stroke-width: 0.8\"/>\n",
       "     <use xlink:href=\"#m9ab599e809\" x=\"46.160966\" y=\"175.821245\" style=\"fill: #4c72b0; fill-opacity: 0.1; stroke: #4c72b0; stroke-opacity: 0.1; stroke-width: 0.8\"/>\n",
       "     <use xlink:href=\"#m9ab599e809\" x=\"238.808125\" y=\"113.941889\" style=\"fill: #4c72b0; fill-opacity: 0.1; stroke: #4c72b0; stroke-opacity: 0.1; stroke-width: 0.8\"/>\n",
       "     <use xlink:href=\"#m9ab599e809\" x=\"238.808125\" y=\"83.002211\" style=\"fill: #4c72b0; fill-opacity: 0.1; stroke: #4c72b0; stroke-opacity: 0.1; stroke-width: 0.8\"/>\n",
       "     <use xlink:href=\"#m9ab599e809\" x=\"431.455284\" y=\"113.941889\" style=\"fill: #4c72b0; fill-opacity: 0.1; stroke: #4c72b0; stroke-opacity: 0.1; stroke-width: 0.8\"/>\n",
       "     <use xlink:href=\"#m9ab599e809\" x=\"142.484545\" y=\"21.122855\" style=\"fill: #4c72b0; fill-opacity: 0.1; stroke: #4c72b0; stroke-opacity: 0.1; stroke-width: 0.8\"/>\n",
       "     <use xlink:href=\"#m9ab599e809\" x=\"142.484545\" y=\"268.640279\" style=\"fill: #4c72b0; fill-opacity: 0.1; stroke: #4c72b0; stroke-opacity: 0.1; stroke-width: 0.8\"/>\n",
       "     <use xlink:href=\"#m9ab599e809\" x=\"46.160966\" y=\"144.881567\" style=\"fill: #4c72b0; fill-opacity: 0.1; stroke: #4c72b0; stroke-opacity: 0.1; stroke-width: 0.8\"/>\n",
       "     <use xlink:href=\"#m9ab599e809\" x=\"238.808125\" y=\"237.700601\" style=\"fill: #4c72b0; fill-opacity: 0.1; stroke: #4c72b0; stroke-opacity: 0.1; stroke-width: 0.8\"/>\n",
       "     <use xlink:href=\"#m9ab599e809\" x=\"238.808125\" y=\"268.640279\" style=\"fill: #4c72b0; fill-opacity: 0.1; stroke: #4c72b0; stroke-opacity: 0.1; stroke-width: 0.8\"/>\n",
       "     <use xlink:href=\"#m9ab599e809\" x=\"46.160966\" y=\"299.579957\" style=\"fill: #4c72b0; fill-opacity: 0.1; stroke: #4c72b0; stroke-opacity: 0.1; stroke-width: 0.8\"/>\n",
       "     <use xlink:href=\"#m9ab599e809\" x=\"335.131705\" y=\"237.700601\" style=\"fill: #4c72b0; fill-opacity: 0.1; stroke: #4c72b0; stroke-opacity: 0.1; stroke-width: 0.8\"/>\n",
       "     <use xlink:href=\"#m9ab599e809\" x=\"335.131705\" y=\"175.821245\" style=\"fill: #4c72b0; fill-opacity: 0.1; stroke: #4c72b0; stroke-opacity: 0.1; stroke-width: 0.8\"/>\n",
       "     <use xlink:href=\"#m9ab599e809\" x=\"335.131705\" y=\"175.821245\" style=\"fill: #4c72b0; fill-opacity: 0.1; stroke: #4c72b0; stroke-opacity: 0.1; stroke-width: 0.8\"/>\n",
       "     <use xlink:href=\"#m9ab599e809\" x=\"142.484545\" y=\"21.122855\" style=\"fill: #4c72b0; fill-opacity: 0.1; stroke: #4c72b0; stroke-opacity: 0.1; stroke-width: 0.8\"/>\n",
       "     <use xlink:href=\"#m9ab599e809\" x=\"46.160966\" y=\"299.579957\" style=\"fill: #4c72b0; fill-opacity: 0.1; stroke: #4c72b0; stroke-opacity: 0.1; stroke-width: 0.8\"/>\n",
       "     <use xlink:href=\"#m9ab599e809\" x=\"431.455284\" y=\"237.700601\" style=\"fill: #4c72b0; fill-opacity: 0.1; stroke: #4c72b0; stroke-opacity: 0.1; stroke-width: 0.8\"/>\n",
       "     <use xlink:href=\"#m9ab599e809\" x=\"335.131705\" y=\"52.062533\" style=\"fill: #4c72b0; fill-opacity: 0.1; stroke: #4c72b0; stroke-opacity: 0.1; stroke-width: 0.8\"/>\n",
       "     <use xlink:href=\"#m9ab599e809\" x=\"46.160966\" y=\"52.062533\" style=\"fill: #4c72b0; fill-opacity: 0.1; stroke: #4c72b0; stroke-opacity: 0.1; stroke-width: 0.8\"/>\n",
       "     <use xlink:href=\"#m9ab599e809\" x=\"142.484545\" y=\"113.941889\" style=\"fill: #4c72b0; fill-opacity: 0.1; stroke: #4c72b0; stroke-opacity: 0.1; stroke-width: 0.8\"/>\n",
       "     <use xlink:href=\"#m9ab599e809\" x=\"238.808125\" y=\"83.002211\" style=\"fill: #4c72b0; fill-opacity: 0.1; stroke: #4c72b0; stroke-opacity: 0.1; stroke-width: 0.8\"/>\n",
       "     <use xlink:href=\"#m9ab599e809\" x=\"142.484545\" y=\"83.002211\" style=\"fill: #4c72b0; fill-opacity: 0.1; stroke: #4c72b0; stroke-opacity: 0.1; stroke-width: 0.8\"/>\n",
       "     <use xlink:href=\"#m9ab599e809\" x=\"46.160966\" y=\"83.002211\" style=\"fill: #4c72b0; fill-opacity: 0.1; stroke: #4c72b0; stroke-opacity: 0.1; stroke-width: 0.8\"/>\n",
       "     <use xlink:href=\"#m9ab599e809\" x=\"46.160966\" y=\"52.062533\" style=\"fill: #4c72b0; fill-opacity: 0.1; stroke: #4c72b0; stroke-opacity: 0.1; stroke-width: 0.8\"/>\n",
       "     <use xlink:href=\"#m9ab599e809\" x=\"431.455284\" y=\"268.640279\" style=\"fill: #4c72b0; fill-opacity: 0.1; stroke: #4c72b0; stroke-opacity: 0.1; stroke-width: 0.8\"/>\n",
       "     <use xlink:href=\"#m9ab599e809\" x=\"142.484545\" y=\"144.881567\" style=\"fill: #4c72b0; fill-opacity: 0.1; stroke: #4c72b0; stroke-opacity: 0.1; stroke-width: 0.8\"/>\n",
       "     <use xlink:href=\"#m9ab599e809\" x=\"238.808125\" y=\"113.941889\" style=\"fill: #4c72b0; fill-opacity: 0.1; stroke: #4c72b0; stroke-opacity: 0.1; stroke-width: 0.8\"/>\n",
       "     <use xlink:href=\"#m9ab599e809\" x=\"238.808125\" y=\"299.579957\" style=\"fill: #4c72b0; fill-opacity: 0.1; stroke: #4c72b0; stroke-opacity: 0.1; stroke-width: 0.8\"/>\n",
       "     <use xlink:href=\"#m9ab599e809\" x=\"142.484545\" y=\"21.122855\" style=\"fill: #4c72b0; fill-opacity: 0.1; stroke: #4c72b0; stroke-opacity: 0.1; stroke-width: 0.8\"/>\n",
       "     <use xlink:href=\"#m9ab599e809\" x=\"431.455284\" y=\"268.640279\" style=\"fill: #4c72b0; fill-opacity: 0.1; stroke: #4c72b0; stroke-opacity: 0.1; stroke-width: 0.8\"/>\n",
       "     <use xlink:href=\"#m9ab599e809\" x=\"335.131705\" y=\"237.700601\" style=\"fill: #4c72b0; fill-opacity: 0.1; stroke: #4c72b0; stroke-opacity: 0.1; stroke-width: 0.8\"/>\n",
       "     <use xlink:href=\"#m9ab599e809\" x=\"142.484545\" y=\"175.821245\" style=\"fill: #4c72b0; fill-opacity: 0.1; stroke: #4c72b0; stroke-opacity: 0.1; stroke-width: 0.8\"/>\n",
       "     <use xlink:href=\"#m9ab599e809\" x=\"46.160966\" y=\"175.821245\" style=\"fill: #4c72b0; fill-opacity: 0.1; stroke: #4c72b0; stroke-opacity: 0.1; stroke-width: 0.8\"/>\n",
       "     <use xlink:href=\"#m9ab599e809\" x=\"46.160966\" y=\"21.122855\" style=\"fill: #4c72b0; fill-opacity: 0.1; stroke: #4c72b0; stroke-opacity: 0.1; stroke-width: 0.8\"/>\n",
       "     <use xlink:href=\"#m9ab599e809\" x=\"431.455284\" y=\"144.881567\" style=\"fill: #4c72b0; fill-opacity: 0.1; stroke: #4c72b0; stroke-opacity: 0.1; stroke-width: 0.8\"/>\n",
       "     <use xlink:href=\"#m9ab599e809\" x=\"431.455284\" y=\"299.579957\" style=\"fill: #4c72b0; fill-opacity: 0.1; stroke: #4c72b0; stroke-opacity: 0.1; stroke-width: 0.8\"/>\n",
       "     <use xlink:href=\"#m9ab599e809\" x=\"431.455284\" y=\"83.002211\" style=\"fill: #4c72b0; fill-opacity: 0.1; stroke: #4c72b0; stroke-opacity: 0.1; stroke-width: 0.8\"/>\n",
       "     <use xlink:href=\"#m9ab599e809\" x=\"46.160966\" y=\"206.760923\" style=\"fill: #4c72b0; fill-opacity: 0.1; stroke: #4c72b0; stroke-opacity: 0.1; stroke-width: 0.8\"/>\n",
       "     <use xlink:href=\"#m9ab599e809\" x=\"238.808125\" y=\"113.941889\" style=\"fill: #4c72b0; fill-opacity: 0.1; stroke: #4c72b0; stroke-opacity: 0.1; stroke-width: 0.8\"/>\n",
       "    </g>\n",
       "   </g>\n",
       "   <g id=\"patch_3\">\n",
       "    <path d=\"M 26.89625 299.579957 \n",
       "L 26.89625 52.062533 \n",
       "\" style=\"fill: none; stroke: #262626; stroke-width: 0.5; stroke-linejoin: miter; stroke-linecap: square\"/>\n",
       "   </g>\n",
       "   <g id=\"patch_4\">\n",
       "    <path d=\"M 46.160966 313.502812 \n",
       "L 431.455284 313.502812 \n",
       "\" style=\"fill: none; stroke: #262626; stroke-width: 0.5; stroke-linejoin: miter; stroke-linecap: square\"/>\n",
       "   </g>\n",
       "  </g>\n",
       " </g>\n",
       " <defs>\n",
       "  <clipPath id=\"pb4e271481a\">\n",
       "   <rect x=\"26.89625\" y=\"7.2\" width=\"423.82375\" height=\"306.302812\"/>\n",
       "  </clipPath>\n",
       " </defs>\n",
       "</svg>\n"
      ],
      "text/plain": [
       "<Figure size 3840x2880 with 1 Axes>"
      ]
     },
     "metadata": {},
     "output_type": "display_data"
    }
   ],
   "source": [
    "samples = np.array([sample_X_and_Y() for _ in range(100)])\n",
    "xs = samples[:,0]\n",
    "ys = samples[:,1]\n",
    "plt.scatter(xs, ys, alpha=0.1)\n",
    "plt.xlabel('$x$')\n",
    "plt.ylabel('$y$')\n",
    "sns.despine(trim=True)\n"
   ]
  },
  {
   "cell_type": "markdown",
   "metadata": {},
   "source": [
    "You can sort of see the negative correlation.\n",
    "We will see more concrete patterns when we work with continuous random variables."
   ]
  },
  {
   "cell_type": "markdown",
   "metadata": {},
   "source": [
    "Now, let's write some code to find the expectation of a function $g(X, Y) = X + Y$.\n",
    "It is:\n",
    "\n",
    "$$\n",
    "\\mathbb{E}[f(X,Y)] = \\sum_{x,y}g(x,y) p(x,y) = \\sum_{x,y}g(x,y)A_{xy}. \n",
    "$$\n",
    "\n",
    "Let's write a function that calculates the expectation of any $f$ and then use it for $g(X,Y) = X + Y$."
   ]
  },
  {
   "cell_type": "code",
   "execution_count": 14,
   "metadata": {
    "execution": {
     "iopub.execute_input": "2025-06-16T14:58:31.565475Z",
     "iopub.status.busy": "2025-06-16T14:58:31.565153Z",
     "iopub.status.idle": "2025-06-16T14:58:31.568951Z",
     "shell.execute_reply": "2025-06-16T14:58:31.568459Z"
    }
   },
   "outputs": [],
   "source": [
    "def expectation(g, A):\n",
    "    \"\"\"Returns the expectation of the function f(X, Y).\n",
    "    \n",
    "    Arguments:\n",
    "    g -- A function g(X, Y).\n",
    "    A -- A matrix containing the joint probability mass\n",
    "         function of X and Y. Say that A has dimensions\n",
    "         n x m. We assume that X takes values\n",
    "         0, 1, ..., n-1 and that Y takes values\n",
    "         0, 1, ..., m-1.\n",
    "    \"\"\"\n",
    "    n, m = A.shape\n",
    "    res = 0.\n",
    "    for i in range(n):\n",
    "        for j in range(m):\n",
    "            res += g(i, j) * A[i, j]\n",
    "    return res"
   ]
  },
  {
   "cell_type": "markdown",
   "metadata": {},
   "source": [
    "Notice that `expectation` is a Python function that takes as an input the Python function of which we want to find the expectation.\n",
    "This is cool!\n",
    "It is called a higher-order function or a meta-function.\n",
    "\n",
    "Here is how to use `expectation`.\n",
    "First, you need to define the function the expectation of which you want to find."
   ]
  },
  {
   "cell_type": "code",
   "execution_count": 15,
   "metadata": {
    "execution": {
     "iopub.execute_input": "2025-06-16T14:58:31.571151Z",
     "iopub.status.busy": "2025-06-16T14:58:31.570931Z",
     "iopub.status.idle": "2025-06-16T14:58:31.573715Z",
     "shell.execute_reply": "2025-06-16T14:58:31.573271Z"
    }
   },
   "outputs": [],
   "source": [
    "def g(x, y):\n",
    "    return x + y"
   ]
  },
  {
   "cell_type": "markdown",
   "metadata": {},
   "source": [
    "We can calculate the expectation like this:"
   ]
  },
  {
   "cell_type": "code",
   "execution_count": 16,
   "metadata": {
    "execution": {
     "iopub.execute_input": "2025-06-16T14:58:31.576162Z",
     "iopub.status.busy": "2025-06-16T14:58:31.575949Z",
     "iopub.status.idle": "2025-06-16T14:58:31.578863Z",
     "shell.execute_reply": "2025-06-16T14:58:31.578428Z"
    }
   },
   "outputs": [
    {
     "name": "stdout",
     "output_type": "stream",
     "text": [
      "E[g(X, Y)] = 6.56\n"
     ]
    }
   ],
   "source": [
    "E_g = expectation(g, A)\n",
    "\n",
    "print(f\"E[g(X, Y)] = {E_g:.2f}\")"
   ]
  },
  {
   "cell_type": "markdown",
   "metadata": {},
   "source": [
    "For the particular case $g(x,y) = x + y$, we also know that\n",
    "\n",
    "$$\n",
    "\\mathbb{E}[X+Y] = \\mathbb{E}[X] + \\mathbb{E}[Y].\n",
    "$$\n",
    "\n",
    "Let's test this:"
   ]
  },
  {
   "cell_type": "code",
   "execution_count": 17,
   "metadata": {
    "execution": {
     "iopub.execute_input": "2025-06-16T14:58:31.581443Z",
     "iopub.status.busy": "2025-06-16T14:58:31.581238Z",
     "iopub.status.idle": "2025-06-16T14:58:31.584414Z",
     "shell.execute_reply": "2025-06-16T14:58:31.583796Z"
    }
   },
   "outputs": [
    {
     "name": "stdout",
     "output_type": "stream",
     "text": [
      "E[X] + E[Y] = 6.56\n"
     ]
    }
   ],
   "source": [
    "print(f\"E[X] + E[Y] = {E_X + E_Y:.2f}\")"
   ]
  },
  {
   "cell_type": "markdown",
   "metadata": {},
   "source": [
    "Cool! It's the same!"
   ]
  },
  {
   "cell_type": "markdown",
   "metadata": {},
   "source": [
    "Now let's find the variance of $g(X, Y)$.\n",
    "We can use the formula:\n",
    "\n",
    "$$\n",
    "\\mathbb{V}[g(X,Y)] = \\mathbb{E}\\left[g^2(X,Y)\\right] - \\left\\{\\mathbb{E}[g(X,Y)]\\right\\}^2.\n",
    "$$\n",
    "\n",
    "We need to define a function that corresponds to the square of $g(X,Y)$.\n",
    "Here it is:"
   ]
  },
  {
   "cell_type": "code",
   "execution_count": 18,
   "metadata": {
    "execution": {
     "iopub.execute_input": "2025-06-16T14:58:31.586462Z",
     "iopub.status.busy": "2025-06-16T14:58:31.586297Z",
     "iopub.status.idle": "2025-06-16T14:58:31.589236Z",
     "shell.execute_reply": "2025-06-16T14:58:31.588542Z"
    }
   },
   "outputs": [],
   "source": [
    "def f(x, y):\n",
    "    return g(x, y) ** 2"
   ]
  },
  {
   "cell_type": "markdown",
   "metadata": {},
   "source": [
    "So, now we can do:"
   ]
  },
  {
   "cell_type": "code",
   "execution_count": 19,
   "metadata": {
    "execution": {
     "iopub.execute_input": "2025-06-16T14:58:31.591714Z",
     "iopub.status.busy": "2025-06-16T14:58:31.591505Z",
     "iopub.status.idle": "2025-06-16T14:58:31.594878Z",
     "shell.execute_reply": "2025-06-16T14:58:31.594345Z"
    }
   },
   "outputs": [
    {
     "name": "stdout",
     "output_type": "stream",
     "text": [
      "V[g(X, Y)] = 10.11\n"
     ]
    }
   ],
   "source": [
    "V_g = expectation(f, A) - E_g ** 2\n",
    "\n",
    "print(f\"V[g(X, Y)] = {V_g:.2f}\")"
   ]
  },
  {
   "cell_type": "markdown",
   "metadata": {},
   "source": [
    "## Questions\n",
    "\n",
    "+ Change the random seed to another number (try a few different ones) and re-run the code above. What happens to the corelation coefficient? How does the scatter plot change?\n",
    "+ Write code to find the expectation of $3X + 5Y$."
   ]
  },
  {
   "cell_type": "code",
   "execution_count": 20,
   "metadata": {
    "execution": {
     "iopub.execute_input": "2025-06-16T14:58:31.597277Z",
     "iopub.status.busy": "2025-06-16T14:58:31.596944Z",
     "iopub.status.idle": "2025-06-16T14:58:31.600005Z",
     "shell.execute_reply": "2025-06-16T14:58:31.599388Z"
    }
   },
   "outputs": [],
   "source": [
    "# Your code here"
   ]
  },
  {
   "cell_type": "markdown",
   "metadata": {},
   "source": [
    "+ Write code to find the variance of $3X + 5Y$."
   ]
  },
  {
   "cell_type": "code",
   "execution_count": 21,
   "metadata": {
    "execution": {
     "iopub.execute_input": "2025-06-16T14:58:31.601448Z",
     "iopub.status.busy": "2025-06-16T14:58:31.601343Z",
     "iopub.status.idle": "2025-06-16T14:58:31.602767Z",
     "shell.execute_reply": "2025-06-16T14:58:31.602559Z"
    }
   },
   "outputs": [],
   "source": [
    "# Your code here"
   ]
  },
  {
   "cell_type": "markdown",
   "metadata": {},
   "source": [
    "+ Write code that finds the expectation and variance of the function $h(X,Y) = XY^3$."
   ]
  },
  {
   "cell_type": "code",
   "execution_count": 22,
   "metadata": {
    "execution": {
     "iopub.execute_input": "2025-06-16T14:58:31.603793Z",
     "iopub.status.busy": "2025-06-16T14:58:31.603724Z",
     "iopub.status.idle": "2025-06-16T14:58:31.605143Z",
     "shell.execute_reply": "2025-06-16T14:58:31.604921Z"
    }
   },
   "outputs": [],
   "source": [
    "# Your code here"
   ]
  },
  {
   "cell_type": "markdown",
   "metadata": {},
   "source": [
    "### If you are feeling bored, learn some functional programming...\n",
    "\n",
    "I have to show you a neat way to do this using functional programming ideas.\n",
    "Functional programming is a programming paradigm that is very different from the imperative programming that we have been doing so far.\n",
    "It is a very powerful paradigm, and it is the basis of many modern programming languages.\n",
    "Examples of such languages are Haskell, Scala, and Clojure.\n",
    "Python is not a functional programming language, but it has some functional programming features.\n",
    "Feel free to skip if you find it wierd...\n",
    "It is not required for the rest of the course.\n",
    "\n",
    "First, here is how you can define a function super-quickly in Python:"
   ]
  },
  {
   "cell_type": "code",
   "execution_count": 23,
   "metadata": {
    "execution": {
     "iopub.execute_input": "2025-06-16T14:58:31.606177Z",
     "iopub.status.busy": "2025-06-16T14:58:31.606110Z",
     "iopub.status.idle": "2025-06-16T14:58:31.607546Z",
     "shell.execute_reply": "2025-06-16T14:58:31.607354Z"
    }
   },
   "outputs": [],
   "source": [
    "f = lambda x, y: x + y"
   ]
  },
  {
   "cell_type": "markdown",
   "metadata": {},
   "source": [
    "This is called a lambda expression. It is a way to define a function in one line."
   ]
  },
  {
   "cell_type": "markdown",
   "metadata": {},
   "source": [
    "Now, I am going to define a function that squares any function.\n",
    "Pay attention, I will define a function that takes as an argument any function (with any arguments) and it returns another function which is just the square of the first.\n",
    "Here it is in one line:"
   ]
  },
  {
   "cell_type": "code",
   "execution_count": 24,
   "metadata": {
    "execution": {
     "iopub.execute_input": "2025-06-16T14:58:31.608806Z",
     "iopub.status.busy": "2025-06-16T14:58:31.608677Z",
     "iopub.status.idle": "2025-06-16T14:58:31.610339Z",
     "shell.execute_reply": "2025-06-16T14:58:31.610111Z"
    }
   },
   "outputs": [],
   "source": [
    "square = lambda f: lambda *args: f(*args) ** 2"
   ]
  },
  {
   "cell_type": "markdown",
   "metadata": {},
   "source": [
    "Here is what I can do with this:"
   ]
  },
  {
   "cell_type": "code",
   "execution_count": 25,
   "metadata": {
    "execution": {
     "iopub.execute_input": "2025-06-16T14:58:31.611450Z",
     "iopub.status.busy": "2025-06-16T14:58:31.611371Z",
     "iopub.status.idle": "2025-06-16T14:58:31.613157Z",
     "shell.execute_reply": "2025-06-16T14:58:31.612960Z"
    }
   },
   "outputs": [
    {
     "name": "stdout",
     "output_type": "stream",
     "text": [
      "f(1,2) = 3, f(1, 3) ** 2 = 9\n"
     ]
    }
   ],
   "source": [
    "f2 = square(f)\n",
    "\n",
    "print(f\"f(1,2) = {f(1,2)}, f(1, 3) ** 2 = {f2(1,2)}\")"
   ]
  },
  {
   "cell_type": "markdown",
   "metadata": {},
   "source": [
    "So, now can find the variance like this:"
   ]
  },
  {
   "cell_type": "code",
   "execution_count": 26,
   "metadata": {
    "execution": {
     "iopub.execute_input": "2025-06-16T14:58:31.614175Z",
     "iopub.status.busy": "2025-06-16T14:58:31.614103Z",
     "iopub.status.idle": "2025-06-16T14:58:31.615723Z",
     "shell.execute_reply": "2025-06-16T14:58:31.615538Z"
    }
   },
   "outputs": [
    {
     "name": "stdout",
     "output_type": "stream",
     "text": [
      "V[f(X, Y)] = 10.11\n"
     ]
    }
   ],
   "source": [
    "V_f = expectation(square(f), A) - expectation(f, A) ** 2\n",
    "\n",
    "print(f\"V[f(X, Y)] = {V_f:.2f}\")"
   ]
  },
  {
   "cell_type": "markdown",
   "metadata": {},
   "source": [
    "We can even write another function that finds the variance of any function. Here is how:"
   ]
  },
  {
   "cell_type": "code",
   "execution_count": 27,
   "metadata": {
    "execution": {
     "iopub.execute_input": "2025-06-16T14:58:31.616947Z",
     "iopub.status.busy": "2025-06-16T14:58:31.616867Z",
     "iopub.status.idle": "2025-06-16T14:58:31.618489Z",
     "shell.execute_reply": "2025-06-16T14:58:31.618272Z"
    }
   },
   "outputs": [],
   "source": [
    "variance = lambda f: expectation(square(f), A) - expectation(f, A)**2"
   ]
  },
  {
   "cell_type": "markdown",
   "metadata": {},
   "source": [
    "Now we can simply do:"
   ]
  },
  {
   "cell_type": "code",
   "execution_count": 28,
   "metadata": {
    "execution": {
     "iopub.execute_input": "2025-06-16T14:58:31.619648Z",
     "iopub.status.busy": "2025-06-16T14:58:31.619553Z",
     "iopub.status.idle": "2025-06-16T14:58:31.621107Z",
     "shell.execute_reply": "2025-06-16T14:58:31.620882Z"
    }
   },
   "outputs": [
    {
     "name": "stdout",
     "output_type": "stream",
     "text": [
      "V[f(X, Y)] = 10.11\n"
     ]
    }
   ],
   "source": [
    "print(f\"V[f(X, Y)] = {variance(f):.2f}\")"
   ]
  },
  {
   "cell_type": "markdown",
   "metadata": {},
   "source": [
    "Neat, right?\n",
    "\n",
    "### Functional programming resources\n",
    "+ If you want to learn more about functional programming in Python, check out [this tutorial](https://realpython.com/python-first-class-functions/).\n",
    "+ If you want to learn more about the `lambda` keyword, check out [this tutorial](https://realpython.com/python-lambda/).\n",
    "+ You can also learn a little Haskell [here](http://learnyouahaskell.com/).\n",
    "+ Or if you want, your can go and learn some Lisp using the freely available masterpiece [Structure and Interpretation of Computer Programs](https://mitpress.mit.edu/sites/default/files/sicp/full-text/book/book.html). The language used in the book is Scheme, which is hardly used. But your brain will thank you after reading the book. You will be a better programmer.\n"
   ]
  }
 ],
 "metadata": {
  "celltoolbar": "Tags",
  "kernelspec": {
   "display_name": "Python 3 (ipykernel)",
   "language": "python",
   "name": "python3"
  },
  "language_info": {
   "codemirror_mode": {
    "name": "ipython",
    "version": 3
   },
   "file_extension": ".py",
   "mimetype": "text/x-python",
   "name": "python",
   "nbconvert_exporter": "python",
   "pygments_lexer": "ipython3",
   "version": "3.12.5"
  }
 },
 "nbformat": 4,
 "nbformat_minor": 4
}
