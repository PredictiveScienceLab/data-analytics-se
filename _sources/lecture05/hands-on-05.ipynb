{
 "cells": [
  {
   "cell_type": "code",
   "execution_count": 2,
   "metadata": {
    "tags": [
     "hide-input"
    ]
   },
   "outputs": [],
   "source": [
    "import matplotlib.pyplot as plt\n",
    "%matplotlib inline\n",
    "import matplotlib_inline\n",
    "matplotlib_inline.backend_inline.set_matplotlib_formats('svg')\n",
    "import seaborn as sns\n",
    "sns.set_context(\"paper\")\n",
    "sns.set_style(\"ticks\");"
   ]
  },
  {
   "cell_type": "markdown",
   "metadata": {},
   "source": [
    "# Practicing with Joint Probability Mass Functions\n",
    "\n",
    "## Joint probability mass function of two discrete random variables\n",
    "\n",
    "Consider two discrete random variables, $X$ and $Y$.\n",
    "Say that $X$ takes $5$ values, $0,1,\\dots,4$, and $Y$ takes $10$ values, $0,1,\\dots,9$.\n",
    "Then, you can think of the joint probability mass function of $X$ and $Y$ as the $5\\times 10$ matrix:\n",
    "\n",
    "$$\n",
    "A_{ij} = p(X=i, Y=j).\n",
    "$$\n",
    "\n",
    "Let's make up such a matrix to play with:"
   ]
  },
  {
   "cell_type": "code",
   "execution_count": 4,
   "metadata": {},
   "outputs": [
    {
     "name": "stdout",
     "output_type": "stream",
     "text": [
      "[[0.92961609 0.31637555 0.18391881 0.20456028 0.56772503 0.5955447\n",
      "  0.96451452 0.6531771  0.74890664 0.65356987]\n",
      " [0.74771481 0.96130674 0.0083883  0.10644438 0.29870371 0.65641118\n",
      "  0.80981255 0.87217591 0.9646476  0.72368535]\n",
      " [0.64247533 0.71745362 0.46759901 0.32558468 0.43964461 0.72968908\n",
      "  0.99401459 0.67687371 0.79082252 0.17091426]\n",
      " [0.02684928 0.80037024 0.90372254 0.02467621 0.49174732 0.52625517\n",
      "  0.59636601 0.05195755 0.89508953 0.72826618]\n",
      " [0.81835001 0.50022275 0.81018941 0.09596853 0.21895004 0.25871906\n",
      "  0.46810575 0.4593732  0.70950978 0.17805301]]\n"
     ]
    }
   ],
   "source": [
    "import numpy as np\n",
    "# This is to make sure that we all get the same results\n",
    "np.random.seed(12345)\n",
    "# First I draw a matrix with random entries in [0,1]\n",
    "A = np.random.rand(5, 10)\n",
    "print(A)"
   ]
  },
  {
   "cell_type": "code",
   "execution_count": 5,
   "metadata": {},
   "outputs": [
    {
     "name": "stdout",
     "output_type": "stream",
     "text": [
      "A = [[0.03382266 0.01151084 0.0066916  0.00744261 0.0206558  0.02166798\n",
      "  0.03509238 0.02376485 0.02724782 0.02377914]\n",
      " [0.02720446 0.03497567 0.0003052  0.00387282 0.01086788 0.02388251\n",
      "  0.02946379 0.03173278 0.03509722 0.02633018]\n",
      " [0.02337548 0.02610345 0.01701287 0.0118459  0.01599579 0.02654862\n",
      "  0.0361657  0.02462701 0.02877286 0.00621845]\n",
      " [0.00097687 0.02912024 0.03288056 0.00089781 0.01789147 0.01914699\n",
      "  0.02169786 0.0018904  0.03256646 0.02649685]\n",
      " [0.02977441 0.01819984 0.0294775  0.00349167 0.00796616 0.0094131\n",
      "  0.01703131 0.01671359 0.02581442 0.00647819]]\n",
      "Sum of A_ij = 1.00\n"
     ]
    }
   ],
   "source": [
    "# And then I scale it so that the sum of all elements is one:\n",
    "A = A / np.sum(A)\n",
    "print(f\"A = {A}\")\n",
    "print(f\"Sum of A_ij = {np.sum(A):.2f}\")"
   ]
  },
  {
   "cell_type": "markdown",
   "metadata": {},
   "source": [
    "Now we have a matrix that corresponds to a proper joint probability mass function."
   ]
  },
  {
   "cell_type": "markdown",
   "metadata": {},
   "source": [
    "Let's start by extracting the probability mass function of $X$ from the joint probability mass function of $X$ and $Y$.\n",
    "Remember that you need to marginalize:\n",
    "\n",
    "$$\n",
    "p(x) = \\sum_{y} p(x,y) = \\sum_{y} A_{xy}.\n",
    "$$\n",
    "\n",
    "This is easy:"
   ]
  },
  {
   "cell_type": "code",
   "execution_count": 6,
   "metadata": {},
   "outputs": [
    {
     "name": "stdout",
     "output_type": "stream",
     "text": [
      "pmf of just X: [0.21167568 0.2237325  0.21666614 0.1835655  0.16436018]\n"
     ]
    }
   ],
   "source": [
    "p_x = np.sum(A, axis=1) # Axis = 1 tells sum to sum only the second axis\n",
    "print(f\"pmf of just X: {p_x}\")"
   ]
  },
  {
   "cell_type": "markdown",
   "metadata": {},
   "source": [
    "Verify that this is indeed a pmf:"
   ]
  },
  {
   "cell_type": "code",
   "execution_count": 7,
   "metadata": {},
   "outputs": [
    {
     "name": "stdout",
     "output_type": "stream",
     "text": [
      "sum of p_x = 1.00\n"
     ]
    }
   ],
   "source": [
    "print(f\"sum of p_x = {np.sum(p_x):.2f}\")"
   ]
  },
  {
   "cell_type": "markdown",
   "metadata": {},
   "source": [
    "With this you can easily find the expectation of $X$:"
   ]
  },
  {
   "cell_type": "code",
   "execution_count": 8,
   "metadata": {},
   "outputs": [
    {
     "name": "stdout",
     "output_type": "stream",
     "text": [
      "E[X] = 1.87\n"
     ]
    }
   ],
   "source": [
    "E_X = np.sum(np.arange(5) * p_x)\n",
    "print(f\"E[X] = {E_X:.2f}\")"
   ]
  },
  {
   "cell_type": "markdown",
   "metadata": {},
   "source": [
    "Similarly for the variance of $X$:"
   ]
  },
  {
   "cell_type": "code",
   "execution_count": 9,
   "metadata": {},
   "outputs": [
    {
     "name": "stdout",
     "output_type": "stream",
     "text": [
      "V[X] = 1.89\n"
     ]
    }
   ],
   "source": [
    "E_X2 = np.sum(np.arange(5) ** 2 * p_x)\n",
    "V_X = E_X2 - E_X ** 2\n",
    "print(f\"V[X] = {V_X:.2f}\")"
   ]
  },
  {
   "cell_type": "markdown",
   "metadata": {},
   "source": [
    "Let's do the same for $Y$:"
   ]
  },
  {
   "cell_type": "code",
   "execution_count": 10,
   "metadata": {},
   "outputs": [
    {
     "name": "stdout",
     "output_type": "stream",
     "text": [
      "pmf of just Y: [0.11515387 0.11991004 0.08636773 0.0275508  0.07337711 0.1006592\n",
      " 0.13945104 0.09872863 0.14949879 0.0893028 ]\n",
      "E[Y] = 4.70\n",
      "V[Y] = 8.98\n"
     ]
    }
   ],
   "source": [
    "p_y = np.sum(A, axis=0)\n",
    "print(f\"pmf of just Y: {p_y}\")\n",
    "E_Y = np.sum(np.arange(10) * p_y)\n",
    "print(f\"E[Y] = {E_Y:.2f}\")\n",
    "E_Y2 = np.sum(np.arange(10) ** 2 * p_y)\n",
    "V_Y = E_Y2 - E_Y ** 2\n",
    "print(f\"V[Y] = {V_Y:.2f}\")"
   ]
  },
  {
   "cell_type": "markdown",
   "metadata": {},
   "source": [
    "Alright, we have found all the individual statistics.\n",
    "Let's now find the covariance of the two random variables.\n",
    "Remember the formula:\n",
    "\n",
    "$$\n",
    "\\mathbb{C}[X,Y] = \\sum_{x,y} (x-\\mathbb{E}[X])(y-\\mathbb{E}[Y])p(x,y).\n",
    "$$\n",
    "\n",
    "Here we go:"
   ]
  },
  {
   "cell_type": "code",
   "execution_count": 11,
   "metadata": {},
   "outputs": [
    {
     "name": "stdout",
     "output_type": "stream",
     "text": [
      "C[X, Y] = -0.38\n"
     ]
    }
   ],
   "source": [
    "# We will loop over all the possible values\n",
    "C_XY = 0.0 # Keeping track of the sum\n",
    "for x in range(5):\n",
    "    for y in range(10):\n",
    "        C_XY += (x - E_X) * (y - E_Y) * A[x, y] # the += means add to the left hand side\n",
    "print(f\"C[X, Y] = {C_XY:.2f}\")"
   ]
  },
  {
   "cell_type": "markdown",
   "metadata": {},
   "source": [
    "Remember that the covariance depends on the units of the random variables. Let's find the correlation coefficient:"
   ]
  },
  {
   "cell_type": "code",
   "execution_count": 12,
   "metadata": {},
   "outputs": [
    {
     "name": "stdout",
     "output_type": "stream",
     "text": [
      "rho_XY = -0.09\n"
     ]
    }
   ],
   "source": [
    "rho_XY = C_XY / (np.sqrt(V_X) * np.sqrt(V_Y))\n",
    "print(f\"rho_XY = {rho_XY:.2f}\")"
   ]
  },
  {
   "cell_type": "markdown",
   "metadata": {},
   "source": [
    "We see that $X$ and $Y$ are slightly negatively correlated.\n",
    "How can we visualize this?\n",
    "We need to sample from the joint distribution of $X$ and $Y$.\n",
    "We can do this by sampling a tuple of indices $(i,j)$ with probability $A_{ij}$.\n",
    "This is like sampling from a categorical with $5\\times 10 = 50$ different labels $c_0 = (1,1), c_1 = (1,2), \\dots, c_{49} = (5, 10)$ each with a probability $A_{00}, A_{01}, \\dots, A_{4,9}$.\n",
    "\n",
    "This is what the code below does. You can look at the details, if you are so inclined."
   ]
  },
  {
   "cell_type": "code",
   "execution_count": 13,
   "metadata": {
    "tags": [
     "hide-input"
    ]
   },
   "outputs": [],
   "source": [
    "import scipy.stats as st\n",
    "\n",
    "# A.flatten() is the matrix flattened out as a row\n",
    "XY = st.rv_discrete('Joinnt XY', values=(range(50), A.flatten()))\n",
    "\n",
    "# Let's now write a function that samples X and Y using a sample from XY\n",
    "def sample_X_and_Y():\n",
    "    \"\"\"Samples X and Y once.\"\"\"\n",
    "    k = XY.rvs()\n",
    "    # This is integer division\n",
    "    i = k // 10\n",
    "    # This is the remainder\n",
    "    j = k % 10\n",
    "    return i, j"
   ]
  },
  {
   "cell_type": "markdown",
   "metadata": {},
   "source": [
    "Let's try it out - take 10 samples:"
   ]
  },
  {
   "cell_type": "code",
   "execution_count": 14,
   "metadata": {},
   "outputs": [
    {
     "name": "stdout",
     "output_type": "stream",
     "text": [
      "x = 2, y = 5\n",
      "x = 0, y = 8\n",
      "x = 3, y = 6\n",
      "x = 4, y = 5\n",
      "x = 2, y = 7\n",
      "x = 0, y = 7\n",
      "x = 2, y = 2\n",
      "x = 1, y = 8\n",
      "x = 4, y = 0\n",
      "x = 4, y = 2\n"
     ]
    }
   ],
   "source": [
    "for n in range(10):\n",
    "    x, y = sample_X_and_Y()\n",
    "    print(f\"x = {x:d}, y = {y:d}\")"
   ]
  },
  {
   "cell_type": "markdown",
   "metadata": {},
   "source": [
    "Let's take many more samples and do a scatter plot:\n",
    "```python"
   ]
  },
  {
   "cell_type": "code",
   "execution_count": 17,
   "metadata": {},
   "outputs": [
    {
     "data": {
      "image/svg+xml": [
       "<?xml version=\"1.0\" encoding=\"utf-8\" standalone=\"no\"?>\n",
       "<!DOCTYPE svg PUBLIC \"-//W3C//DTD SVG 1.1//EN\"\n",
       "  \"http://www.w3.org/Graphics/SVG/1.1/DTD/svg11.dtd\">\n",
       "<svg xmlns:xlink=\"http://www.w3.org/1999/xlink\" width=\"397.493125pt\" height=\"309.639375pt\" viewBox=\"0 0 397.493125 309.639375\" xmlns=\"http://www.w3.org/2000/svg\" version=\"1.1\">\n",
       " <metadata>\n",
       "  <rdf:RDF xmlns:dc=\"http://purl.org/dc/elements/1.1/\" xmlns:cc=\"http://creativecommons.org/ns#\" xmlns:rdf=\"http://www.w3.org/1999/02/22-rdf-syntax-ns#\">\n",
       "   <cc:Work>\n",
       "    <dc:type rdf:resource=\"http://purl.org/dc/dcmitype/StillImage\"/>\n",
       "    <dc:date>2023-08-11T00:15:52.986560</dc:date>\n",
       "    <dc:format>image/svg+xml</dc:format>\n",
       "    <dc:creator>\n",
       "     <cc:Agent>\n",
       "      <dc:title>Matplotlib v3.7.1, https://matplotlib.org/</dc:title>\n",
       "     </cc:Agent>\n",
       "    </dc:creator>\n",
       "   </cc:Work>\n",
       "  </rdf:RDF>\n",
       " </metadata>\n",
       " <defs>\n",
       "  <style type=\"text/css\">*{stroke-linejoin: round; stroke-linecap: butt}</style>\n",
       " </defs>\n",
       " <g id=\"figure_1\">\n",
       "  <g id=\"patch_1\">\n",
       "   <path d=\"M 0 309.639375 \n",
       "L 397.493125 309.639375 \n",
       "L 397.493125 0 \n",
       "L 0 0 \n",
       "z\n",
       "\" style=\"fill: #ffffff\"/>\n",
       "  </g>\n",
       "  <g id=\"axes_1\">\n",
       "   <g id=\"patch_2\">\n",
       "    <path d=\"M 33.173125 273.312 \n",
       "L 390.293125 273.312 \n",
       "L 390.293125 7.2 \n",
       "L 33.173125 7.2 \n",
       "z\n",
       "\" style=\"fill: #ffffff\"/>\n",
       "   </g>\n",
       "   <g id=\"matplotlib.axis_1\">\n",
       "    <g id=\"xtick_1\">\n",
       "     <g id=\"line2d_1\">\n",
       "      <defs>\n",
       "       <path id=\"m50e2100c42\" d=\"M 0 0 \n",
       "L 0 4.8 \n",
       "\" style=\"stroke: #262626\"/>\n",
       "      </defs>\n",
       "      <g>\n",
       "       <use xlink:href=\"#m50e2100c42\" x=\"49.405852\" y=\"273.312\" style=\"fill: #262626; stroke: #262626\"/>\n",
       "      </g>\n",
       "     </g>\n",
       "     <g id=\"text_1\">\n",
       "      <!-- 0.0 -->\n",
       "      <g style=\"fill: #262626\" transform=\"translate(43.289852 287.910875) scale(0.088 -0.088)\">\n",
       "       <defs>\n",
       "        <path id=\"ArialMT-30\" d=\"M 266 2259 \n",
       "Q 266 3072 433 3567 \n",
       "Q 600 4063 929 4331 \n",
       "Q 1259 4600 1759 4600 \n",
       "Q 2128 4600 2406 4451 \n",
       "Q 2684 4303 2865 4023 \n",
       "Q 3047 3744 3150 3342 \n",
       "Q 3253 2941 3253 2259 \n",
       "Q 3253 1453 3087 958 \n",
       "Q 2922 463 2592 192 \n",
       "Q 2263 -78 1759 -78 \n",
       "Q 1097 -78 719 397 \n",
       "Q 266 969 266 2259 \n",
       "z\n",
       "M 844 2259 \n",
       "Q 844 1131 1108 757 \n",
       "Q 1372 384 1759 384 \n",
       "Q 2147 384 2411 759 \n",
       "Q 2675 1134 2675 2259 \n",
       "Q 2675 3391 2411 3762 \n",
       "Q 2147 4134 1753 4134 \n",
       "Q 1366 4134 1134 3806 \n",
       "Q 844 3388 844 2259 \n",
       "z\n",
       "\" transform=\"scale(0.015625)\"/>\n",
       "        <path id=\"ArialMT-2e\" d=\"M 581 0 \n",
       "L 581 641 \n",
       "L 1222 641 \n",
       "L 1222 0 \n",
       "L 581 0 \n",
       "z\n",
       "\" transform=\"scale(0.015625)\"/>\n",
       "       </defs>\n",
       "       <use xlink:href=\"#ArialMT-30\"/>\n",
       "       <use xlink:href=\"#ArialMT-2e\" x=\"55.615234\"/>\n",
       "       <use xlink:href=\"#ArialMT-30\" x=\"83.398438\"/>\n",
       "      </g>\n",
       "     </g>\n",
       "    </g>\n",
       "    <g id=\"xtick_2\">\n",
       "     <g id=\"line2d_2\">\n",
       "      <g>\n",
       "       <use xlink:href=\"#m50e2100c42\" x=\"89.98767\" y=\"273.312\" style=\"fill: #262626; stroke: #262626\"/>\n",
       "      </g>\n",
       "     </g>\n",
       "     <g id=\"text_2\">\n",
       "      <!-- 0.5 -->\n",
       "      <g style=\"fill: #262626\" transform=\"translate(83.87167 287.910875) scale(0.088 -0.088)\">\n",
       "       <defs>\n",
       "        <path id=\"ArialMT-35\" d=\"M 266 1200 \n",
       "L 856 1250 \n",
       "Q 922 819 1161 601 \n",
       "Q 1400 384 1738 384 \n",
       "Q 2144 384 2425 690 \n",
       "Q 2706 997 2706 1503 \n",
       "Q 2706 1984 2436 2262 \n",
       "Q 2166 2541 1728 2541 \n",
       "Q 1456 2541 1237 2417 \n",
       "Q 1019 2294 894 2097 \n",
       "L 366 2166 \n",
       "L 809 4519 \n",
       "L 3088 4519 \n",
       "L 3088 3981 \n",
       "L 1259 3981 \n",
       "L 1013 2750 \n",
       "Q 1425 3038 1878 3038 \n",
       "Q 2478 3038 2890 2622 \n",
       "Q 3303 2206 3303 1553 \n",
       "Q 3303 931 2941 478 \n",
       "Q 2500 -78 1738 -78 \n",
       "Q 1113 -78 717 272 \n",
       "Q 322 622 266 1200 \n",
       "z\n",
       "\" transform=\"scale(0.015625)\"/>\n",
       "       </defs>\n",
       "       <use xlink:href=\"#ArialMT-30\"/>\n",
       "       <use xlink:href=\"#ArialMT-2e\" x=\"55.615234\"/>\n",
       "       <use xlink:href=\"#ArialMT-35\" x=\"83.398438\"/>\n",
       "      </g>\n",
       "     </g>\n",
       "    </g>\n",
       "    <g id=\"xtick_3\">\n",
       "     <g id=\"line2d_3\">\n",
       "      <g>\n",
       "       <use xlink:href=\"#m50e2100c42\" x=\"130.569489\" y=\"273.312\" style=\"fill: #262626; stroke: #262626\"/>\n",
       "      </g>\n",
       "     </g>\n",
       "     <g id=\"text_3\">\n",
       "      <!-- 1.0 -->\n",
       "      <g style=\"fill: #262626\" transform=\"translate(124.453489 287.910875) scale(0.088 -0.088)\">\n",
       "       <defs>\n",
       "        <path id=\"ArialMT-31\" d=\"M 2384 0 \n",
       "L 1822 0 \n",
       "L 1822 3584 \n",
       "Q 1619 3391 1289 3197 \n",
       "Q 959 3003 697 2906 \n",
       "L 697 3450 \n",
       "Q 1169 3672 1522 3987 \n",
       "Q 1875 4303 2022 4600 \n",
       "L 2384 4600 \n",
       "L 2384 0 \n",
       "z\n",
       "\" transform=\"scale(0.015625)\"/>\n",
       "       </defs>\n",
       "       <use xlink:href=\"#ArialMT-31\"/>\n",
       "       <use xlink:href=\"#ArialMT-2e\" x=\"55.615234\"/>\n",
       "       <use xlink:href=\"#ArialMT-30\" x=\"83.398438\"/>\n",
       "      </g>\n",
       "     </g>\n",
       "    </g>\n",
       "    <g id=\"xtick_4\">\n",
       "     <g id=\"line2d_4\">\n",
       "      <g>\n",
       "       <use xlink:href=\"#m50e2100c42\" x=\"171.151307\" y=\"273.312\" style=\"fill: #262626; stroke: #262626\"/>\n",
       "      </g>\n",
       "     </g>\n",
       "     <g id=\"text_4\">\n",
       "      <!-- 1.5 -->\n",
       "      <g style=\"fill: #262626\" transform=\"translate(165.035307 287.910875) scale(0.088 -0.088)\">\n",
       "       <use xlink:href=\"#ArialMT-31\"/>\n",
       "       <use xlink:href=\"#ArialMT-2e\" x=\"55.615234\"/>\n",
       "       <use xlink:href=\"#ArialMT-35\" x=\"83.398438\"/>\n",
       "      </g>\n",
       "     </g>\n",
       "    </g>\n",
       "    <g id=\"xtick_5\">\n",
       "     <g id=\"line2d_5\">\n",
       "      <g>\n",
       "       <use xlink:href=\"#m50e2100c42\" x=\"211.733125\" y=\"273.312\" style=\"fill: #262626; stroke: #262626\"/>\n",
       "      </g>\n",
       "     </g>\n",
       "     <g id=\"text_5\">\n",
       "      <!-- 2.0 -->\n",
       "      <g style=\"fill: #262626\" transform=\"translate(205.617125 287.910875) scale(0.088 -0.088)\">\n",
       "       <defs>\n",
       "        <path id=\"ArialMT-32\" d=\"M 3222 541 \n",
       "L 3222 0 \n",
       "L 194 0 \n",
       "Q 188 203 259 391 \n",
       "Q 375 700 629 1000 \n",
       "Q 884 1300 1366 1694 \n",
       "Q 2113 2306 2375 2664 \n",
       "Q 2638 3022 2638 3341 \n",
       "Q 2638 3675 2398 3904 \n",
       "Q 2159 4134 1775 4134 \n",
       "Q 1369 4134 1125 3890 \n",
       "Q 881 3647 878 3216 \n",
       "L 300 3275 \n",
       "Q 359 3922 746 4261 \n",
       "Q 1134 4600 1788 4600 \n",
       "Q 2447 4600 2831 4234 \n",
       "Q 3216 3869 3216 3328 \n",
       "Q 3216 3053 3103 2787 \n",
       "Q 2991 2522 2730 2228 \n",
       "Q 2469 1934 1863 1422 \n",
       "Q 1356 997 1212 845 \n",
       "Q 1069 694 975 541 \n",
       "L 3222 541 \n",
       "z\n",
       "\" transform=\"scale(0.015625)\"/>\n",
       "       </defs>\n",
       "       <use xlink:href=\"#ArialMT-32\"/>\n",
       "       <use xlink:href=\"#ArialMT-2e\" x=\"55.615234\"/>\n",
       "       <use xlink:href=\"#ArialMT-30\" x=\"83.398438\"/>\n",
       "      </g>\n",
       "     </g>\n",
       "    </g>\n",
       "    <g id=\"xtick_6\">\n",
       "     <g id=\"line2d_6\">\n",
       "      <g>\n",
       "       <use xlink:href=\"#m50e2100c42\" x=\"252.314943\" y=\"273.312\" style=\"fill: #262626; stroke: #262626\"/>\n",
       "      </g>\n",
       "     </g>\n",
       "     <g id=\"text_6\">\n",
       "      <!-- 2.5 -->\n",
       "      <g style=\"fill: #262626\" transform=\"translate(246.198943 287.910875) scale(0.088 -0.088)\">\n",
       "       <use xlink:href=\"#ArialMT-32\"/>\n",
       "       <use xlink:href=\"#ArialMT-2e\" x=\"55.615234\"/>\n",
       "       <use xlink:href=\"#ArialMT-35\" x=\"83.398438\"/>\n",
       "      </g>\n",
       "     </g>\n",
       "    </g>\n",
       "    <g id=\"xtick_7\">\n",
       "     <g id=\"line2d_7\">\n",
       "      <g>\n",
       "       <use xlink:href=\"#m50e2100c42\" x=\"292.896761\" y=\"273.312\" style=\"fill: #262626; stroke: #262626\"/>\n",
       "      </g>\n",
       "     </g>\n",
       "     <g id=\"text_7\">\n",
       "      <!-- 3.0 -->\n",
       "      <g style=\"fill: #262626\" transform=\"translate(286.780761 287.910875) scale(0.088 -0.088)\">\n",
       "       <defs>\n",
       "        <path id=\"ArialMT-33\" d=\"M 269 1209 \n",
       "L 831 1284 \n",
       "Q 928 806 1161 595 \n",
       "Q 1394 384 1728 384 \n",
       "Q 2125 384 2398 659 \n",
       "Q 2672 934 2672 1341 \n",
       "Q 2672 1728 2419 1979 \n",
       "Q 2166 2231 1775 2231 \n",
       "Q 1616 2231 1378 2169 \n",
       "L 1441 2663 \n",
       "Q 1497 2656 1531 2656 \n",
       "Q 1891 2656 2178 2843 \n",
       "Q 2466 3031 2466 3422 \n",
       "Q 2466 3731 2256 3934 \n",
       "Q 2047 4138 1716 4138 \n",
       "Q 1388 4138 1169 3931 \n",
       "Q 950 3725 888 3313 \n",
       "L 325 3413 \n",
       "Q 428 3978 793 4289 \n",
       "Q 1159 4600 1703 4600 \n",
       "Q 2078 4600 2393 4439 \n",
       "Q 2709 4278 2876 4000 \n",
       "Q 3044 3722 3044 3409 \n",
       "Q 3044 3113 2884 2869 \n",
       "Q 2725 2625 2413 2481 \n",
       "Q 2819 2388 3044 2092 \n",
       "Q 3269 1797 3269 1353 \n",
       "Q 3269 753 2831 336 \n",
       "Q 2394 -81 1725 -81 \n",
       "Q 1122 -81 723 278 \n",
       "Q 325 638 269 1209 \n",
       "z\n",
       "\" transform=\"scale(0.015625)\"/>\n",
       "       </defs>\n",
       "       <use xlink:href=\"#ArialMT-33\"/>\n",
       "       <use xlink:href=\"#ArialMT-2e\" x=\"55.615234\"/>\n",
       "       <use xlink:href=\"#ArialMT-30\" x=\"83.398438\"/>\n",
       "      </g>\n",
       "     </g>\n",
       "    </g>\n",
       "    <g id=\"xtick_8\">\n",
       "     <g id=\"line2d_8\">\n",
       "      <g>\n",
       "       <use xlink:href=\"#m50e2100c42\" x=\"333.47858\" y=\"273.312\" style=\"fill: #262626; stroke: #262626\"/>\n",
       "      </g>\n",
       "     </g>\n",
       "     <g id=\"text_8\">\n",
       "      <!-- 3.5 -->\n",
       "      <g style=\"fill: #262626\" transform=\"translate(327.36258 287.910875) scale(0.088 -0.088)\">\n",
       "       <use xlink:href=\"#ArialMT-33\"/>\n",
       "       <use xlink:href=\"#ArialMT-2e\" x=\"55.615234\"/>\n",
       "       <use xlink:href=\"#ArialMT-35\" x=\"83.398438\"/>\n",
       "      </g>\n",
       "     </g>\n",
       "    </g>\n",
       "    <g id=\"xtick_9\">\n",
       "     <g id=\"line2d_9\">\n",
       "      <g>\n",
       "       <use xlink:href=\"#m50e2100c42\" x=\"374.060398\" y=\"273.312\" style=\"fill: #262626; stroke: #262626\"/>\n",
       "      </g>\n",
       "     </g>\n",
       "     <g id=\"text_9\">\n",
       "      <!-- 4.0 -->\n",
       "      <g style=\"fill: #262626\" transform=\"translate(367.944398 287.910875) scale(0.088 -0.088)\">\n",
       "       <defs>\n",
       "        <path id=\"ArialMT-34\" d=\"M 2069 0 \n",
       "L 2069 1097 \n",
       "L 81 1097 \n",
       "L 81 1613 \n",
       "L 2172 4581 \n",
       "L 2631 4581 \n",
       "L 2631 1613 \n",
       "L 3250 1613 \n",
       "L 3250 1097 \n",
       "L 2631 1097 \n",
       "L 2631 0 \n",
       "L 2069 0 \n",
       "z\n",
       "M 2069 1613 \n",
       "L 2069 3678 \n",
       "L 634 1613 \n",
       "L 2069 1613 \n",
       "z\n",
       "\" transform=\"scale(0.015625)\"/>\n",
       "       </defs>\n",
       "       <use xlink:href=\"#ArialMT-34\"/>\n",
       "       <use xlink:href=\"#ArialMT-2e\" x=\"55.615234\"/>\n",
       "       <use xlink:href=\"#ArialMT-30\" x=\"83.398438\"/>\n",
       "      </g>\n",
       "     </g>\n",
       "    </g>\n",
       "    <g id=\"text_10\">\n",
       "     <!-- $x$ -->\n",
       "     <g style=\"fill: #262626\" transform=\"translate(208.853125 300.531375) scale(0.096 -0.096)\">\n",
       "      <defs>\n",
       "       <path id=\"DejaVuSans-Oblique-78\" d=\"M 3841 3500 \n",
       "L 2234 1784 \n",
       "L 3219 0 \n",
       "L 2559 0 \n",
       "L 1819 1388 \n",
       "L 531 0 \n",
       "L -166 0 \n",
       "L 1556 1844 \n",
       "L 641 3500 \n",
       "L 1300 3500 \n",
       "L 1972 2234 \n",
       "L 3144 3500 \n",
       "L 3841 3500 \n",
       "z\n",
       "\" transform=\"scale(0.015625)\"/>\n",
       "      </defs>\n",
       "      <use xlink:href=\"#DejaVuSans-Oblique-78\" transform=\"translate(0 0.3125)\"/>\n",
       "     </g>\n",
       "    </g>\n",
       "   </g>\n",
       "   <g id=\"matplotlib.axis_2\">\n",
       "    <g id=\"ytick_1\">\n",
       "     <g id=\"line2d_10\">\n",
       "      <defs>\n",
       "       <path id=\"mf6015f4b16\" d=\"M 0 0 \n",
       "L -4.8 0 \n",
       "\" style=\"stroke: #262626\"/>\n",
       "      </defs>\n",
       "      <g>\n",
       "       <use xlink:href=\"#mf6015f4b16\" x=\"33.173125\" y=\"261.216\" style=\"fill: #262626; stroke: #262626\"/>\n",
       "      </g>\n",
       "     </g>\n",
       "     <g id=\"text_11\">\n",
       "      <!-- 0 -->\n",
       "      <g style=\"fill: #262626\" transform=\"translate(19.9795 264.365437) scale(0.088 -0.088)\">\n",
       "       <use xlink:href=\"#ArialMT-30\"/>\n",
       "      </g>\n",
       "     </g>\n",
       "    </g>\n",
       "    <g id=\"ytick_2\">\n",
       "     <g id=\"line2d_11\">\n",
       "      <g>\n",
       "       <use xlink:href=\"#mf6015f4b16\" x=\"33.173125\" y=\"207.456\" style=\"fill: #262626; stroke: #262626\"/>\n",
       "      </g>\n",
       "     </g>\n",
       "     <g id=\"text_12\">\n",
       "      <!-- 2 -->\n",
       "      <g style=\"fill: #262626\" transform=\"translate(19.9795 210.605437) scale(0.088 -0.088)\">\n",
       "       <use xlink:href=\"#ArialMT-32\"/>\n",
       "      </g>\n",
       "     </g>\n",
       "    </g>\n",
       "    <g id=\"ytick_3\">\n",
       "     <g id=\"line2d_12\">\n",
       "      <g>\n",
       "       <use xlink:href=\"#mf6015f4b16\" x=\"33.173125\" y=\"153.696\" style=\"fill: #262626; stroke: #262626\"/>\n",
       "      </g>\n",
       "     </g>\n",
       "     <g id=\"text_13\">\n",
       "      <!-- 4 -->\n",
       "      <g style=\"fill: #262626\" transform=\"translate(19.9795 156.845437) scale(0.088 -0.088)\">\n",
       "       <use xlink:href=\"#ArialMT-34\"/>\n",
       "      </g>\n",
       "     </g>\n",
       "    </g>\n",
       "    <g id=\"ytick_4\">\n",
       "     <g id=\"line2d_13\">\n",
       "      <g>\n",
       "       <use xlink:href=\"#mf6015f4b16\" x=\"33.173125\" y=\"99.936\" style=\"fill: #262626; stroke: #262626\"/>\n",
       "      </g>\n",
       "     </g>\n",
       "     <g id=\"text_14\">\n",
       "      <!-- 6 -->\n",
       "      <g style=\"fill: #262626\" transform=\"translate(19.9795 103.085437) scale(0.088 -0.088)\">\n",
       "       <defs>\n",
       "        <path id=\"ArialMT-36\" d=\"M 3184 3459 \n",
       "L 2625 3416 \n",
       "Q 2550 3747 2413 3897 \n",
       "Q 2184 4138 1850 4138 \n",
       "Q 1581 4138 1378 3988 \n",
       "Q 1113 3794 959 3422 \n",
       "Q 806 3050 800 2363 \n",
       "Q 1003 2672 1297 2822 \n",
       "Q 1591 2972 1913 2972 \n",
       "Q 2475 2972 2870 2558 \n",
       "Q 3266 2144 3266 1488 \n",
       "Q 3266 1056 3080 686 \n",
       "Q 2894 316 2569 119 \n",
       "Q 2244 -78 1831 -78 \n",
       "Q 1128 -78 684 439 \n",
       "Q 241 956 241 2144 \n",
       "Q 241 3472 731 4075 \n",
       "Q 1159 4600 1884 4600 \n",
       "Q 2425 4600 2770 4297 \n",
       "Q 3116 3994 3184 3459 \n",
       "z\n",
       "M 888 1484 \n",
       "Q 888 1194 1011 928 \n",
       "Q 1134 663 1356 523 \n",
       "Q 1578 384 1822 384 \n",
       "Q 2178 384 2434 671 \n",
       "Q 2691 959 2691 1453 \n",
       "Q 2691 1928 2437 2201 \n",
       "Q 2184 2475 1800 2475 \n",
       "Q 1419 2475 1153 2201 \n",
       "Q 888 1928 888 1484 \n",
       "z\n",
       "\" transform=\"scale(0.015625)\"/>\n",
       "       </defs>\n",
       "       <use xlink:href=\"#ArialMT-36\"/>\n",
       "      </g>\n",
       "     </g>\n",
       "    </g>\n",
       "    <g id=\"ytick_5\">\n",
       "     <g id=\"line2d_14\">\n",
       "      <g>\n",
       "       <use xlink:href=\"#mf6015f4b16\" x=\"33.173125\" y=\"46.176\" style=\"fill: #262626; stroke: #262626\"/>\n",
       "      </g>\n",
       "     </g>\n",
       "     <g id=\"text_15\">\n",
       "      <!-- 8 -->\n",
       "      <g style=\"fill: #262626\" transform=\"translate(19.9795 49.325437) scale(0.088 -0.088)\">\n",
       "       <defs>\n",
       "        <path id=\"ArialMT-38\" d=\"M 1131 2484 \n",
       "Q 781 2613 612 2850 \n",
       "Q 444 3088 444 3419 \n",
       "Q 444 3919 803 4259 \n",
       "Q 1163 4600 1759 4600 \n",
       "Q 2359 4600 2725 4251 \n",
       "Q 3091 3903 3091 3403 \n",
       "Q 3091 3084 2923 2848 \n",
       "Q 2756 2613 2416 2484 \n",
       "Q 2838 2347 3058 2040 \n",
       "Q 3278 1734 3278 1309 \n",
       "Q 3278 722 2862 322 \n",
       "Q 2447 -78 1769 -78 \n",
       "Q 1091 -78 675 323 \n",
       "Q 259 725 259 1325 \n",
       "Q 259 1772 486 2073 \n",
       "Q 713 2375 1131 2484 \n",
       "z\n",
       "M 1019 3438 \n",
       "Q 1019 3113 1228 2906 \n",
       "Q 1438 2700 1772 2700 \n",
       "Q 2097 2700 2305 2904 \n",
       "Q 2513 3109 2513 3406 \n",
       "Q 2513 3716 2298 3927 \n",
       "Q 2084 4138 1766 4138 \n",
       "Q 1444 4138 1231 3931 \n",
       "Q 1019 3725 1019 3438 \n",
       "z\n",
       "M 838 1322 \n",
       "Q 838 1081 952 856 \n",
       "Q 1066 631 1291 507 \n",
       "Q 1516 384 1775 384 \n",
       "Q 2178 384 2440 643 \n",
       "Q 2703 903 2703 1303 \n",
       "Q 2703 1709 2433 1975 \n",
       "Q 2163 2241 1756 2241 \n",
       "Q 1359 2241 1098 1978 \n",
       "Q 838 1716 838 1322 \n",
       "z\n",
       "\" transform=\"scale(0.015625)\"/>\n",
       "       </defs>\n",
       "       <use xlink:href=\"#ArialMT-38\"/>\n",
       "      </g>\n",
       "     </g>\n",
       "    </g>\n",
       "    <g id=\"text_16\">\n",
       "     <!-- $y$ -->\n",
       "     <g style=\"fill: #262626\" transform=\"translate(13.9635 143.136) rotate(-90) scale(0.096 -0.096)\">\n",
       "      <defs>\n",
       "       <path id=\"DejaVuSans-Oblique-79\" d=\"M 1588 -325 \n",
       "Q 1188 -997 936 -1164 \n",
       "Q 684 -1331 294 -1331 \n",
       "L -159 -1331 \n",
       "L -63 -850 \n",
       "L 269 -850 \n",
       "Q 509 -850 678 -719 \n",
       "Q 847 -588 1056 -206 \n",
       "L 1234 128 \n",
       "L 459 3500 \n",
       "L 1069 3500 \n",
       "L 1650 819 \n",
       "L 3256 3500 \n",
       "L 3859 3500 \n",
       "L 1588 -325 \n",
       "z\n",
       "\" transform=\"scale(0.015625)\"/>\n",
       "      </defs>\n",
       "      <use xlink:href=\"#DejaVuSans-Oblique-79\" transform=\"translate(0 0.3125)\"/>\n",
       "     </g>\n",
       "    </g>\n",
       "   </g>\n",
       "   <g id=\"PathCollection_1\">\n",
       "    <defs>\n",
       "     <path id=\"m7464e0f6e1\" d=\"M 0 2.4 \n",
       "C 0.636487 2.4 1.246992 2.147121 1.697056 1.697056 \n",
       "C 2.147121 1.246992 2.4 0.636487 2.4 0 \n",
       "C 2.4 -0.636487 2.147121 -1.246992 1.697056 -1.697056 \n",
       "C 1.246992 -2.147121 0.636487 -2.4 0 -2.4 \n",
       "C -0.636487 -2.4 -1.246992 -2.147121 -1.697056 -1.697056 \n",
       "C -2.147121 -1.246992 -2.4 -0.636487 -2.4 0 \n",
       "C -2.4 0.636487 -2.147121 1.246992 -1.697056 1.697056 \n",
       "C -1.246992 2.147121 -0.636487 2.4 0 2.4 \n",
       "z\n",
       "\" style=\"stroke: #1f77b4; stroke-opacity: 0.1; stroke-width: 0.8\"/>\n",
       "    </defs>\n",
       "    <g clip-path=\"url(#p95f5c6109a)\">\n",
       "     <use xlink:href=\"#m7464e0f6e1\" x=\"49.405852\" y=\"19.296\" style=\"fill: #1f77b4; fill-opacity: 0.1; stroke: #1f77b4; stroke-opacity: 0.1; stroke-width: 0.8\"/>\n",
       "     <use xlink:href=\"#m7464e0f6e1\" x=\"49.405852\" y=\"46.176\" style=\"fill: #1f77b4; fill-opacity: 0.1; stroke: #1f77b4; stroke-opacity: 0.1; stroke-width: 0.8\"/>\n",
       "     <use xlink:href=\"#m7464e0f6e1\" x=\"292.896761\" y=\"207.456\" style=\"fill: #1f77b4; fill-opacity: 0.1; stroke: #1f77b4; stroke-opacity: 0.1; stroke-width: 0.8\"/>\n",
       "     <use xlink:href=\"#m7464e0f6e1\" x=\"374.060398\" y=\"261.216\" style=\"fill: #1f77b4; fill-opacity: 0.1; stroke: #1f77b4; stroke-opacity: 0.1; stroke-width: 0.8\"/>\n",
       "     <use xlink:href=\"#m7464e0f6e1\" x=\"292.896761\" y=\"234.336\" style=\"fill: #1f77b4; fill-opacity: 0.1; stroke: #1f77b4; stroke-opacity: 0.1; stroke-width: 0.8\"/>\n",
       "     <use xlink:href=\"#m7464e0f6e1\" x=\"130.569489\" y=\"73.056\" style=\"fill: #1f77b4; fill-opacity: 0.1; stroke: #1f77b4; stroke-opacity: 0.1; stroke-width: 0.8\"/>\n",
       "     <use xlink:href=\"#m7464e0f6e1\" x=\"49.405852\" y=\"99.936\" style=\"fill: #1f77b4; fill-opacity: 0.1; stroke: #1f77b4; stroke-opacity: 0.1; stroke-width: 0.8\"/>\n",
       "     <use xlink:href=\"#m7464e0f6e1\" x=\"211.733125\" y=\"46.176\" style=\"fill: #1f77b4; fill-opacity: 0.1; stroke: #1f77b4; stroke-opacity: 0.1; stroke-width: 0.8\"/>\n",
       "     <use xlink:href=\"#m7464e0f6e1\" x=\"49.405852\" y=\"46.176\" style=\"fill: #1f77b4; fill-opacity: 0.1; stroke: #1f77b4; stroke-opacity: 0.1; stroke-width: 0.8\"/>\n",
       "     <use xlink:href=\"#m7464e0f6e1\" x=\"130.569489\" y=\"261.216\" style=\"fill: #1f77b4; fill-opacity: 0.1; stroke: #1f77b4; stroke-opacity: 0.1; stroke-width: 0.8\"/>\n",
       "     <use xlink:href=\"#m7464e0f6e1\" x=\"130.569489\" y=\"126.816\" style=\"fill: #1f77b4; fill-opacity: 0.1; stroke: #1f77b4; stroke-opacity: 0.1; stroke-width: 0.8\"/>\n",
       "     <use xlink:href=\"#m7464e0f6e1\" x=\"292.896761\" y=\"153.696\" style=\"fill: #1f77b4; fill-opacity: 0.1; stroke: #1f77b4; stroke-opacity: 0.1; stroke-width: 0.8\"/>\n",
       "     <use xlink:href=\"#m7464e0f6e1\" x=\"211.733125\" y=\"207.456\" style=\"fill: #1f77b4; fill-opacity: 0.1; stroke: #1f77b4; stroke-opacity: 0.1; stroke-width: 0.8\"/>\n",
       "     <use xlink:href=\"#m7464e0f6e1\" x=\"374.060398\" y=\"73.056\" style=\"fill: #1f77b4; fill-opacity: 0.1; stroke: #1f77b4; stroke-opacity: 0.1; stroke-width: 0.8\"/>\n",
       "     <use xlink:href=\"#m7464e0f6e1\" x=\"211.733125\" y=\"19.296\" style=\"fill: #1f77b4; fill-opacity: 0.1; stroke: #1f77b4; stroke-opacity: 0.1; stroke-width: 0.8\"/>\n",
       "     <use xlink:href=\"#m7464e0f6e1\" x=\"49.405852\" y=\"19.296\" style=\"fill: #1f77b4; fill-opacity: 0.1; stroke: #1f77b4; stroke-opacity: 0.1; stroke-width: 0.8\"/>\n",
       "     <use xlink:href=\"#m7464e0f6e1\" x=\"130.569489\" y=\"153.696\" style=\"fill: #1f77b4; fill-opacity: 0.1; stroke: #1f77b4; stroke-opacity: 0.1; stroke-width: 0.8\"/>\n",
       "     <use xlink:href=\"#m7464e0f6e1\" x=\"130.569489\" y=\"73.056\" style=\"fill: #1f77b4; fill-opacity: 0.1; stroke: #1f77b4; stroke-opacity: 0.1; stroke-width: 0.8\"/>\n",
       "     <use xlink:href=\"#m7464e0f6e1\" x=\"49.405852\" y=\"180.576\" style=\"fill: #1f77b4; fill-opacity: 0.1; stroke: #1f77b4; stroke-opacity: 0.1; stroke-width: 0.8\"/>\n",
       "     <use xlink:href=\"#m7464e0f6e1\" x=\"130.569489\" y=\"234.336\" style=\"fill: #1f77b4; fill-opacity: 0.1; stroke: #1f77b4; stroke-opacity: 0.1; stroke-width: 0.8\"/>\n",
       "     <use xlink:href=\"#m7464e0f6e1\" x=\"130.569489\" y=\"46.176\" style=\"fill: #1f77b4; fill-opacity: 0.1; stroke: #1f77b4; stroke-opacity: 0.1; stroke-width: 0.8\"/>\n",
       "     <use xlink:href=\"#m7464e0f6e1\" x=\"211.733125\" y=\"46.176\" style=\"fill: #1f77b4; fill-opacity: 0.1; stroke: #1f77b4; stroke-opacity: 0.1; stroke-width: 0.8\"/>\n",
       "     <use xlink:href=\"#m7464e0f6e1\" x=\"211.733125\" y=\"46.176\" style=\"fill: #1f77b4; fill-opacity: 0.1; stroke: #1f77b4; stroke-opacity: 0.1; stroke-width: 0.8\"/>\n",
       "     <use xlink:href=\"#m7464e0f6e1\" x=\"374.060398\" y=\"46.176\" style=\"fill: #1f77b4; fill-opacity: 0.1; stroke: #1f77b4; stroke-opacity: 0.1; stroke-width: 0.8\"/>\n",
       "     <use xlink:href=\"#m7464e0f6e1\" x=\"292.896761\" y=\"19.296\" style=\"fill: #1f77b4; fill-opacity: 0.1; stroke: #1f77b4; stroke-opacity: 0.1; stroke-width: 0.8\"/>\n",
       "     <use xlink:href=\"#m7464e0f6e1\" x=\"130.569489\" y=\"99.936\" style=\"fill: #1f77b4; fill-opacity: 0.1; stroke: #1f77b4; stroke-opacity: 0.1; stroke-width: 0.8\"/>\n",
       "     <use xlink:href=\"#m7464e0f6e1\" x=\"49.405852\" y=\"153.696\" style=\"fill: #1f77b4; fill-opacity: 0.1; stroke: #1f77b4; stroke-opacity: 0.1; stroke-width: 0.8\"/>\n",
       "     <use xlink:href=\"#m7464e0f6e1\" x=\"292.896761\" y=\"99.936\" style=\"fill: #1f77b4; fill-opacity: 0.1; stroke: #1f77b4; stroke-opacity: 0.1; stroke-width: 0.8\"/>\n",
       "     <use xlink:href=\"#m7464e0f6e1\" x=\"211.733125\" y=\"153.696\" style=\"fill: #1f77b4; fill-opacity: 0.1; stroke: #1f77b4; stroke-opacity: 0.1; stroke-width: 0.8\"/>\n",
       "     <use xlink:href=\"#m7464e0f6e1\" x=\"211.733125\" y=\"46.176\" style=\"fill: #1f77b4; fill-opacity: 0.1; stroke: #1f77b4; stroke-opacity: 0.1; stroke-width: 0.8\"/>\n",
       "     <use xlink:href=\"#m7464e0f6e1\" x=\"49.405852\" y=\"234.336\" style=\"fill: #1f77b4; fill-opacity: 0.1; stroke: #1f77b4; stroke-opacity: 0.1; stroke-width: 0.8\"/>\n",
       "     <use xlink:href=\"#m7464e0f6e1\" x=\"292.896761\" y=\"126.816\" style=\"fill: #1f77b4; fill-opacity: 0.1; stroke: #1f77b4; stroke-opacity: 0.1; stroke-width: 0.8\"/>\n",
       "     <use xlink:href=\"#m7464e0f6e1\" x=\"374.060398\" y=\"207.456\" style=\"fill: #1f77b4; fill-opacity: 0.1; stroke: #1f77b4; stroke-opacity: 0.1; stroke-width: 0.8\"/>\n",
       "     <use xlink:href=\"#m7464e0f6e1\" x=\"292.896761\" y=\"207.456\" style=\"fill: #1f77b4; fill-opacity: 0.1; stroke: #1f77b4; stroke-opacity: 0.1; stroke-width: 0.8\"/>\n",
       "     <use xlink:href=\"#m7464e0f6e1\" x=\"49.405852\" y=\"46.176\" style=\"fill: #1f77b4; fill-opacity: 0.1; stroke: #1f77b4; stroke-opacity: 0.1; stroke-width: 0.8\"/>\n",
       "     <use xlink:href=\"#m7464e0f6e1\" x=\"130.569489\" y=\"234.336\" style=\"fill: #1f77b4; fill-opacity: 0.1; stroke: #1f77b4; stroke-opacity: 0.1; stroke-width: 0.8\"/>\n",
       "     <use xlink:href=\"#m7464e0f6e1\" x=\"211.733125\" y=\"261.216\" style=\"fill: #1f77b4; fill-opacity: 0.1; stroke: #1f77b4; stroke-opacity: 0.1; stroke-width: 0.8\"/>\n",
       "     <use xlink:href=\"#m7464e0f6e1\" x=\"292.896761\" y=\"126.816\" style=\"fill: #1f77b4; fill-opacity: 0.1; stroke: #1f77b4; stroke-opacity: 0.1; stroke-width: 0.8\"/>\n",
       "     <use xlink:href=\"#m7464e0f6e1\" x=\"211.733125\" y=\"99.936\" style=\"fill: #1f77b4; fill-opacity: 0.1; stroke: #1f77b4; stroke-opacity: 0.1; stroke-width: 0.8\"/>\n",
       "     <use xlink:href=\"#m7464e0f6e1\" x=\"292.896761\" y=\"126.816\" style=\"fill: #1f77b4; fill-opacity: 0.1; stroke: #1f77b4; stroke-opacity: 0.1; stroke-width: 0.8\"/>\n",
       "     <use xlink:href=\"#m7464e0f6e1\" x=\"49.405852\" y=\"99.936\" style=\"fill: #1f77b4; fill-opacity: 0.1; stroke: #1f77b4; stroke-opacity: 0.1; stroke-width: 0.8\"/>\n",
       "     <use xlink:href=\"#m7464e0f6e1\" x=\"374.060398\" y=\"207.456\" style=\"fill: #1f77b4; fill-opacity: 0.1; stroke: #1f77b4; stroke-opacity: 0.1; stroke-width: 0.8\"/>\n",
       "     <use xlink:href=\"#m7464e0f6e1\" x=\"130.569489\" y=\"261.216\" style=\"fill: #1f77b4; fill-opacity: 0.1; stroke: #1f77b4; stroke-opacity: 0.1; stroke-width: 0.8\"/>\n",
       "     <use xlink:href=\"#m7464e0f6e1\" x=\"130.569489\" y=\"99.936\" style=\"fill: #1f77b4; fill-opacity: 0.1; stroke: #1f77b4; stroke-opacity: 0.1; stroke-width: 0.8\"/>\n",
       "     <use xlink:href=\"#m7464e0f6e1\" x=\"130.569489\" y=\"99.936\" style=\"fill: #1f77b4; fill-opacity: 0.1; stroke: #1f77b4; stroke-opacity: 0.1; stroke-width: 0.8\"/>\n",
       "     <use xlink:href=\"#m7464e0f6e1\" x=\"130.569489\" y=\"99.936\" style=\"fill: #1f77b4; fill-opacity: 0.1; stroke: #1f77b4; stroke-opacity: 0.1; stroke-width: 0.8\"/>\n",
       "     <use xlink:href=\"#m7464e0f6e1\" x=\"374.060398\" y=\"261.216\" style=\"fill: #1f77b4; fill-opacity: 0.1; stroke: #1f77b4; stroke-opacity: 0.1; stroke-width: 0.8\"/>\n",
       "     <use xlink:href=\"#m7464e0f6e1\" x=\"130.569489\" y=\"46.176\" style=\"fill: #1f77b4; fill-opacity: 0.1; stroke: #1f77b4; stroke-opacity: 0.1; stroke-width: 0.8\"/>\n",
       "     <use xlink:href=\"#m7464e0f6e1\" x=\"130.569489\" y=\"99.936\" style=\"fill: #1f77b4; fill-opacity: 0.1; stroke: #1f77b4; stroke-opacity: 0.1; stroke-width: 0.8\"/>\n",
       "     <use xlink:href=\"#m7464e0f6e1\" x=\"49.405852\" y=\"73.056\" style=\"fill: #1f77b4; fill-opacity: 0.1; stroke: #1f77b4; stroke-opacity: 0.1; stroke-width: 0.8\"/>\n",
       "     <use xlink:href=\"#m7464e0f6e1\" x=\"292.896761\" y=\"153.696\" style=\"fill: #1f77b4; fill-opacity: 0.1; stroke: #1f77b4; stroke-opacity: 0.1; stroke-width: 0.8\"/>\n",
       "     <use xlink:href=\"#m7464e0f6e1\" x=\"130.569489\" y=\"19.296\" style=\"fill: #1f77b4; fill-opacity: 0.1; stroke: #1f77b4; stroke-opacity: 0.1; stroke-width: 0.8\"/>\n",
       "     <use xlink:href=\"#m7464e0f6e1\" x=\"211.733125\" y=\"46.176\" style=\"fill: #1f77b4; fill-opacity: 0.1; stroke: #1f77b4; stroke-opacity: 0.1; stroke-width: 0.8\"/>\n",
       "     <use xlink:href=\"#m7464e0f6e1\" x=\"49.405852\" y=\"126.816\" style=\"fill: #1f77b4; fill-opacity: 0.1; stroke: #1f77b4; stroke-opacity: 0.1; stroke-width: 0.8\"/>\n",
       "     <use xlink:href=\"#m7464e0f6e1\" x=\"211.733125\" y=\"99.936\" style=\"fill: #1f77b4; fill-opacity: 0.1; stroke: #1f77b4; stroke-opacity: 0.1; stroke-width: 0.8\"/>\n",
       "     <use xlink:href=\"#m7464e0f6e1\" x=\"49.405852\" y=\"19.296\" style=\"fill: #1f77b4; fill-opacity: 0.1; stroke: #1f77b4; stroke-opacity: 0.1; stroke-width: 0.8\"/>\n",
       "     <use xlink:href=\"#m7464e0f6e1\" x=\"211.733125\" y=\"73.056\" style=\"fill: #1f77b4; fill-opacity: 0.1; stroke: #1f77b4; stroke-opacity: 0.1; stroke-width: 0.8\"/>\n",
       "     <use xlink:href=\"#m7464e0f6e1\" x=\"292.896761\" y=\"207.456\" style=\"fill: #1f77b4; fill-opacity: 0.1; stroke: #1f77b4; stroke-opacity: 0.1; stroke-width: 0.8\"/>\n",
       "     <use xlink:href=\"#m7464e0f6e1\" x=\"374.060398\" y=\"207.456\" style=\"fill: #1f77b4; fill-opacity: 0.1; stroke: #1f77b4; stroke-opacity: 0.1; stroke-width: 0.8\"/>\n",
       "     <use xlink:href=\"#m7464e0f6e1\" x=\"292.896761\" y=\"207.456\" style=\"fill: #1f77b4; fill-opacity: 0.1; stroke: #1f77b4; stroke-opacity: 0.1; stroke-width: 0.8\"/>\n",
       "     <use xlink:href=\"#m7464e0f6e1\" x=\"374.060398\" y=\"99.936\" style=\"fill: #1f77b4; fill-opacity: 0.1; stroke: #1f77b4; stroke-opacity: 0.1; stroke-width: 0.8\"/>\n",
       "     <use xlink:href=\"#m7464e0f6e1\" x=\"130.569489\" y=\"99.936\" style=\"fill: #1f77b4; fill-opacity: 0.1; stroke: #1f77b4; stroke-opacity: 0.1; stroke-width: 0.8\"/>\n",
       "     <use xlink:href=\"#m7464e0f6e1\" x=\"211.733125\" y=\"46.176\" style=\"fill: #1f77b4; fill-opacity: 0.1; stroke: #1f77b4; stroke-opacity: 0.1; stroke-width: 0.8\"/>\n",
       "     <use xlink:href=\"#m7464e0f6e1\" x=\"292.896761\" y=\"207.456\" style=\"fill: #1f77b4; fill-opacity: 0.1; stroke: #1f77b4; stroke-opacity: 0.1; stroke-width: 0.8\"/>\n",
       "     <use xlink:href=\"#m7464e0f6e1\" x=\"130.569489\" y=\"261.216\" style=\"fill: #1f77b4; fill-opacity: 0.1; stroke: #1f77b4; stroke-opacity: 0.1; stroke-width: 0.8\"/>\n",
       "     <use xlink:href=\"#m7464e0f6e1\" x=\"292.896761\" y=\"19.296\" style=\"fill: #1f77b4; fill-opacity: 0.1; stroke: #1f77b4; stroke-opacity: 0.1; stroke-width: 0.8\"/>\n",
       "     <use xlink:href=\"#m7464e0f6e1\" x=\"49.405852\" y=\"46.176\" style=\"fill: #1f77b4; fill-opacity: 0.1; stroke: #1f77b4; stroke-opacity: 0.1; stroke-width: 0.8\"/>\n",
       "     <use xlink:href=\"#m7464e0f6e1\" x=\"130.569489\" y=\"234.336\" style=\"fill: #1f77b4; fill-opacity: 0.1; stroke: #1f77b4; stroke-opacity: 0.1; stroke-width: 0.8\"/>\n",
       "     <use xlink:href=\"#m7464e0f6e1\" x=\"130.569489\" y=\"99.936\" style=\"fill: #1f77b4; fill-opacity: 0.1; stroke: #1f77b4; stroke-opacity: 0.1; stroke-width: 0.8\"/>\n",
       "     <use xlink:href=\"#m7464e0f6e1\" x=\"292.896761\" y=\"46.176\" style=\"fill: #1f77b4; fill-opacity: 0.1; stroke: #1f77b4; stroke-opacity: 0.1; stroke-width: 0.8\"/>\n",
       "     <use xlink:href=\"#m7464e0f6e1\" x=\"211.733125\" y=\"99.936\" style=\"fill: #1f77b4; fill-opacity: 0.1; stroke: #1f77b4; stroke-opacity: 0.1; stroke-width: 0.8\"/>\n",
       "     <use xlink:href=\"#m7464e0f6e1\" x=\"211.733125\" y=\"73.056\" style=\"fill: #1f77b4; fill-opacity: 0.1; stroke: #1f77b4; stroke-opacity: 0.1; stroke-width: 0.8\"/>\n",
       "     <use xlink:href=\"#m7464e0f6e1\" x=\"49.405852\" y=\"261.216\" style=\"fill: #1f77b4; fill-opacity: 0.1; stroke: #1f77b4; stroke-opacity: 0.1; stroke-width: 0.8\"/>\n",
       "     <use xlink:href=\"#m7464e0f6e1\" x=\"374.060398\" y=\"73.056\" style=\"fill: #1f77b4; fill-opacity: 0.1; stroke: #1f77b4; stroke-opacity: 0.1; stroke-width: 0.8\"/>\n",
       "     <use xlink:href=\"#m7464e0f6e1\" x=\"292.896761\" y=\"234.336\" style=\"fill: #1f77b4; fill-opacity: 0.1; stroke: #1f77b4; stroke-opacity: 0.1; stroke-width: 0.8\"/>\n",
       "     <use xlink:href=\"#m7464e0f6e1\" x=\"374.060398\" y=\"73.056\" style=\"fill: #1f77b4; fill-opacity: 0.1; stroke: #1f77b4; stroke-opacity: 0.1; stroke-width: 0.8\"/>\n",
       "     <use xlink:href=\"#m7464e0f6e1\" x=\"49.405852\" y=\"19.296\" style=\"fill: #1f77b4; fill-opacity: 0.1; stroke: #1f77b4; stroke-opacity: 0.1; stroke-width: 0.8\"/>\n",
       "     <use xlink:href=\"#m7464e0f6e1\" x=\"211.733125\" y=\"126.816\" style=\"fill: #1f77b4; fill-opacity: 0.1; stroke: #1f77b4; stroke-opacity: 0.1; stroke-width: 0.8\"/>\n",
       "     <use xlink:href=\"#m7464e0f6e1\" x=\"130.569489\" y=\"261.216\" style=\"fill: #1f77b4; fill-opacity: 0.1; stroke: #1f77b4; stroke-opacity: 0.1; stroke-width: 0.8\"/>\n",
       "     <use xlink:href=\"#m7464e0f6e1\" x=\"49.405852\" y=\"46.176\" style=\"fill: #1f77b4; fill-opacity: 0.1; stroke: #1f77b4; stroke-opacity: 0.1; stroke-width: 0.8\"/>\n",
       "     <use xlink:href=\"#m7464e0f6e1\" x=\"49.405852\" y=\"126.816\" style=\"fill: #1f77b4; fill-opacity: 0.1; stroke: #1f77b4; stroke-opacity: 0.1; stroke-width: 0.8\"/>\n",
       "     <use xlink:href=\"#m7464e0f6e1\" x=\"49.405852\" y=\"99.936\" style=\"fill: #1f77b4; fill-opacity: 0.1; stroke: #1f77b4; stroke-opacity: 0.1; stroke-width: 0.8\"/>\n",
       "     <use xlink:href=\"#m7464e0f6e1\" x=\"49.405852\" y=\"73.056\" style=\"fill: #1f77b4; fill-opacity: 0.1; stroke: #1f77b4; stroke-opacity: 0.1; stroke-width: 0.8\"/>\n",
       "     <use xlink:href=\"#m7464e0f6e1\" x=\"130.569489\" y=\"73.056\" style=\"fill: #1f77b4; fill-opacity: 0.1; stroke: #1f77b4; stroke-opacity: 0.1; stroke-width: 0.8\"/>\n",
       "     <use xlink:href=\"#m7464e0f6e1\" x=\"130.569489\" y=\"126.816\" style=\"fill: #1f77b4; fill-opacity: 0.1; stroke: #1f77b4; stroke-opacity: 0.1; stroke-width: 0.8\"/>\n",
       "     <use xlink:href=\"#m7464e0f6e1\" x=\"130.569489\" y=\"73.056\" style=\"fill: #1f77b4; fill-opacity: 0.1; stroke: #1f77b4; stroke-opacity: 0.1; stroke-width: 0.8\"/>\n",
       "     <use xlink:href=\"#m7464e0f6e1\" x=\"130.569489\" y=\"73.056\" style=\"fill: #1f77b4; fill-opacity: 0.1; stroke: #1f77b4; stroke-opacity: 0.1; stroke-width: 0.8\"/>\n",
       "     <use xlink:href=\"#m7464e0f6e1\" x=\"49.405852\" y=\"73.056\" style=\"fill: #1f77b4; fill-opacity: 0.1; stroke: #1f77b4; stroke-opacity: 0.1; stroke-width: 0.8\"/>\n",
       "     <use xlink:href=\"#m7464e0f6e1\" x=\"211.733125\" y=\"126.816\" style=\"fill: #1f77b4; fill-opacity: 0.1; stroke: #1f77b4; stroke-opacity: 0.1; stroke-width: 0.8\"/>\n",
       "     <use xlink:href=\"#m7464e0f6e1\" x=\"374.060398\" y=\"126.816\" style=\"fill: #1f77b4; fill-opacity: 0.1; stroke: #1f77b4; stroke-opacity: 0.1; stroke-width: 0.8\"/>\n",
       "     <use xlink:href=\"#m7464e0f6e1\" x=\"374.060398\" y=\"46.176\" style=\"fill: #1f77b4; fill-opacity: 0.1; stroke: #1f77b4; stroke-opacity: 0.1; stroke-width: 0.8\"/>\n",
       "     <use xlink:href=\"#m7464e0f6e1\" x=\"49.405852\" y=\"180.576\" style=\"fill: #1f77b4; fill-opacity: 0.1; stroke: #1f77b4; stroke-opacity: 0.1; stroke-width: 0.8\"/>\n",
       "     <use xlink:href=\"#m7464e0f6e1\" x=\"130.569489\" y=\"261.216\" style=\"fill: #1f77b4; fill-opacity: 0.1; stroke: #1f77b4; stroke-opacity: 0.1; stroke-width: 0.8\"/>\n",
       "     <use xlink:href=\"#m7464e0f6e1\" x=\"374.060398\" y=\"261.216\" style=\"fill: #1f77b4; fill-opacity: 0.1; stroke: #1f77b4; stroke-opacity: 0.1; stroke-width: 0.8\"/>\n",
       "     <use xlink:href=\"#m7464e0f6e1\" x=\"374.060398\" y=\"207.456\" style=\"fill: #1f77b4; fill-opacity: 0.1; stroke: #1f77b4; stroke-opacity: 0.1; stroke-width: 0.8\"/>\n",
       "     <use xlink:href=\"#m7464e0f6e1\" x=\"130.569489\" y=\"261.216\" style=\"fill: #1f77b4; fill-opacity: 0.1; stroke: #1f77b4; stroke-opacity: 0.1; stroke-width: 0.8\"/>\n",
       "     <use xlink:href=\"#m7464e0f6e1\" x=\"130.569489\" y=\"261.216\" style=\"fill: #1f77b4; fill-opacity: 0.1; stroke: #1f77b4; stroke-opacity: 0.1; stroke-width: 0.8\"/>\n",
       "     <use xlink:href=\"#m7464e0f6e1\" x=\"49.405852\" y=\"261.216\" style=\"fill: #1f77b4; fill-opacity: 0.1; stroke: #1f77b4; stroke-opacity: 0.1; stroke-width: 0.8\"/>\n",
       "     <use xlink:href=\"#m7464e0f6e1\" x=\"211.733125\" y=\"99.936\" style=\"fill: #1f77b4; fill-opacity: 0.1; stroke: #1f77b4; stroke-opacity: 0.1; stroke-width: 0.8\"/>\n",
       "     <use xlink:href=\"#m7464e0f6e1\" x=\"374.060398\" y=\"234.336\" style=\"fill: #1f77b4; fill-opacity: 0.1; stroke: #1f77b4; stroke-opacity: 0.1; stroke-width: 0.8\"/>\n",
       "    </g>\n",
       "   </g>\n",
       "   <g id=\"patch_3\">\n",
       "    <path d=\"M 33.173125 261.216 \n",
       "L 33.173125 46.176 \n",
       "\" style=\"fill: none; stroke: #262626; stroke-linejoin: miter; stroke-linecap: square\"/>\n",
       "   </g>\n",
       "   <g id=\"patch_4\">\n",
       "    <path d=\"M 49.405852 273.312 \n",
       "L 374.060398 273.312 \n",
       "\" style=\"fill: none; stroke: #262626; stroke-linejoin: miter; stroke-linecap: square\"/>\n",
       "   </g>\n",
       "  </g>\n",
       " </g>\n",
       " <defs>\n",
       "  <clipPath id=\"p95f5c6109a\">\n",
       "   <rect x=\"33.173125\" y=\"7.2\" width=\"357.12\" height=\"266.112\"/>\n",
       "  </clipPath>\n",
       " </defs>\n",
       "</svg>\n"
      ],
      "text/plain": [
       "<Figure size 640x480 with 1 Axes>"
      ]
     },
     "metadata": {},
     "output_type": "display_data"
    }
   ],
   "source": [
    "samples = np.array([sample_X_and_Y() for _ in range(100)])\n",
    "xs = samples[:,0]\n",
    "ys = samples[:,1]\n",
    "plt.scatter(xs, ys, alpha=0.1)\n",
    "plt.xlabel('$x$')\n",
    "plt.ylabel('$y$')\n",
    "sns.despine(trim=True)\n"
   ]
  },
  {
   "cell_type": "markdown",
   "metadata": {},
   "source": [
    "You can sort of see the negative correlation.\n",
    "We will see more concrete patterns when we work with continuous random variables."
   ]
  },
  {
   "cell_type": "markdown",
   "metadata": {},
   "source": [
    "Now, let's write some code to find the expectation of a function $g(X, Y) = X + Y$.\n",
    "It is:\n",
    "\n",
    "$$\n",
    "\\mathbb{E}[f(X,Y)] = \\sum_{x,y}g(x,y) p(x,y) = \\sum_{x,y}g(x,y)A_{xy}. \n",
    "$$\n",
    "\n",
    "Let's write a function that calculates the expectation of any $f$ and then use it for $g(X,Y) = X + Y$."
   ]
  },
  {
   "cell_type": "code",
   "execution_count": 22,
   "metadata": {},
   "outputs": [],
   "source": [
    "def expectation(g, A):\n",
    "    \"\"\"Returns the expectation of the function f(X, Y).\n",
    "    \n",
    "    Arguments:\n",
    "    g -- A function g(X, Y).\n",
    "    A -- A matrix containing the joint probability mass\n",
    "         function of X and Y. Say that A has dimensions\n",
    "         n x m. We assume that X takes values\n",
    "         0, 1, ..., n-1 and that Y takes values\n",
    "         0, 1, ..., m-1.\n",
    "    \"\"\"\n",
    "    n, m = A.shape\n",
    "    res = 0.\n",
    "    for i in range(n):\n",
    "        for j in range(m):\n",
    "            res += g(i, j) * A[i, j]\n",
    "    return res"
   ]
  },
  {
   "cell_type": "markdown",
   "metadata": {},
   "source": [
    "Notice that `expectation` is a Python function that takes as an input the Python function of which we want to find the expectation.\n",
    "This is cool!\n",
    "It is called a higher-order function or a meta-function.\n",
    "\n",
    "Here is how to use `expectation`.\n",
    "First, you need to define the function the expectation of which you want to find."
   ]
  },
  {
   "cell_type": "code",
   "execution_count": 23,
   "metadata": {},
   "outputs": [],
   "source": [
    "def g(x, y):\n",
    "    return x + y"
   ]
  },
  {
   "cell_type": "markdown",
   "metadata": {},
   "source": [
    "We can calculate the expectation like this:"
   ]
  },
  {
   "cell_type": "code",
   "execution_count": 24,
   "metadata": {},
   "outputs": [
    {
     "name": "stdout",
     "output_type": "stream",
     "text": [
      "E[g(X, Y)] = 6.56\n"
     ]
    }
   ],
   "source": [
    "E_g = expectation(g, A)\n",
    "\n",
    "print(f\"E[g(X, Y)] = {E_g:.2f}\")"
   ]
  },
  {
   "cell_type": "markdown",
   "metadata": {},
   "source": [
    "For the particular case $g(x,y) = x + y$, we also know that\n",
    "\n",
    "$$\n",
    "\\mathbb{E}[X+Y] = \\mathbb{E}[X] + \\mathbb{E}[Y].\n",
    "$$\n",
    "\n",
    "Let's test this:"
   ]
  },
  {
   "cell_type": "code",
   "execution_count": 25,
   "metadata": {},
   "outputs": [
    {
     "name": "stdout",
     "output_type": "stream",
     "text": [
      "E[X] + E[Y] = 6.56\n"
     ]
    }
   ],
   "source": [
    "print(f\"E[X] + E[Y] = {E_X + E_Y:.2f}\")"
   ]
  },
  {
   "cell_type": "markdown",
   "metadata": {},
   "source": [
    "Cool! It's the same!"
   ]
  },
  {
   "cell_type": "markdown",
   "metadata": {},
   "source": [
    "Now let's find the variance of $g(X, Y)$.\n",
    "We can use the formula:\n",
    "\n",
    "$$\n",
    "\\mathbb{V}[g(X,Y)] = \\mathbb{E}\\left[g^2(X,Y)\\right] - \\left\\{\\mathbb{E}[g(X,Y)]\\right\\}^2.\n",
    "$$\n",
    "\n",
    "We need to define a function that corresponds to the square of $g(X,Y)$.\n",
    "Here it is:"
   ]
  },
  {
   "cell_type": "code",
   "execution_count": 26,
   "metadata": {},
   "outputs": [],
   "source": [
    "def f(x, y):\n",
    "    return g(x, y) ** 2"
   ]
  },
  {
   "cell_type": "markdown",
   "metadata": {},
   "source": [
    "So, now we can do:"
   ]
  },
  {
   "cell_type": "code",
   "execution_count": 27,
   "metadata": {},
   "outputs": [
    {
     "name": "stdout",
     "output_type": "stream",
     "text": [
      "V[g(X, Y)] = 10.11\n"
     ]
    }
   ],
   "source": [
    "V_g = expectation(f, A) - E_g ** 2\n",
    "\n",
    "print(f\"V[g(X, Y)] = {V_g:.2f}\")"
   ]
  },
  {
   "cell_type": "markdown",
   "metadata": {},
   "source": [
    "## Questions\n",
    "\n",
    "+ Change the random seed to another number (try a few different ones) and re-run the code above. What happens to the corelation coefficient? How does the scatter plot change?\n",
    "+ Write code to find the expectation of $3X + 5Y$."
   ]
  },
  {
   "cell_type": "code",
   "execution_count": null,
   "metadata": {},
   "outputs": [],
   "source": [
    "# Your code here"
   ]
  },
  {
   "cell_type": "markdown",
   "metadata": {},
   "source": [
    "+ Write code to find the variance of $3X + 5Y$."
   ]
  },
  {
   "cell_type": "code",
   "execution_count": 28,
   "metadata": {},
   "outputs": [],
   "source": [
    "# Your code here"
   ]
  },
  {
   "cell_type": "markdown",
   "metadata": {},
   "source": [
    "+ Write code that finds the expectation and variance of the function $h(X,Y) = XY^3$."
   ]
  },
  {
   "cell_type": "code",
   "execution_count": 17,
   "metadata": {},
   "outputs": [],
   "source": [
    "# Your code here"
   ]
  },
  {
   "cell_type": "markdown",
   "metadata": {},
   "source": [
    "### If you are feeling bored, learn some functional programming...\n",
    "\n",
    "I have to show you a neat way to do this using functional programming ideas.\n",
    "Functional programming is a programming paradigm that is very different from the imperative programming that we have been doing so far.\n",
    "It is a very powerful paradigm, and it is the basis of many modern programming languages.\n",
    "Examples of such languages are Haskell, Scala, and Clojure.\n",
    "Python is not a functional programming language, but it has some functional programming features.\n",
    "Feel free to skip if you find it wierd...\n",
    "It is not required for the rest of the course.\n",
    "\n",
    "First, here is how you can define a function super-quickly in Python:"
   ]
  },
  {
   "cell_type": "code",
   "execution_count": 29,
   "metadata": {},
   "outputs": [],
   "source": [
    "f = lambda x, y: x + y"
   ]
  },
  {
   "cell_type": "markdown",
   "metadata": {},
   "source": [
    "This is called a lambda expression. It is a way to define a function in one line."
   ]
  },
  {
   "cell_type": "markdown",
   "metadata": {},
   "source": [
    "Now, I am going to define a function that squares any function.\n",
    "Pay attention, I will define a function that takes as an argument any function (with any arguments) and it returns another function which is just the square of the first.\n",
    "Here it is in one line:"
   ]
  },
  {
   "cell_type": "code",
   "execution_count": 31,
   "metadata": {},
   "outputs": [],
   "source": [
    "square = lambda f: lambda *args: f(*args) ** 2"
   ]
  },
  {
   "cell_type": "markdown",
   "metadata": {},
   "source": [
    "Here is what I can do with this:"
   ]
  },
  {
   "cell_type": "code",
   "execution_count": 32,
   "metadata": {},
   "outputs": [
    {
     "name": "stdout",
     "output_type": "stream",
     "text": [
      "f(1,2) = 3, f(1, 3) ** 2 = 9\n"
     ]
    }
   ],
   "source": [
    "f2 = square(f)\n",
    "\n",
    "print(f\"f(1,2) = {f(1,2)}, f(1, 3) ** 2 = {f2(1,2)}\")"
   ]
  },
  {
   "cell_type": "markdown",
   "metadata": {},
   "source": [
    "So, now can find the variance like this:"
   ]
  },
  {
   "cell_type": "code",
   "execution_count": 33,
   "metadata": {},
   "outputs": [
    {
     "name": "stdout",
     "output_type": "stream",
     "text": [
      "V[f(X, Y)] = 10.11\n"
     ]
    }
   ],
   "source": [
    "V_f = expectation(square(f), A) - expectation(f, A) ** 2\n",
    "\n",
    "print(f\"V[f(X, Y)] = {V_f:.2f}\")"
   ]
  },
  {
   "cell_type": "markdown",
   "metadata": {},
   "source": [
    "We can even write another function that finds the variance of any function. Here is how:"
   ]
  },
  {
   "cell_type": "code",
   "execution_count": 34,
   "metadata": {},
   "outputs": [],
   "source": [
    "variance = lambda f: expectation(square(f), A) - expectation(f, A)**2"
   ]
  },
  {
   "cell_type": "markdown",
   "metadata": {},
   "source": [
    "Now we can simply do:"
   ]
  },
  {
   "cell_type": "code",
   "execution_count": 35,
   "metadata": {},
   "outputs": [
    {
     "name": "stdout",
     "output_type": "stream",
     "text": [
      "V[f(X, Y)] = 10.11\n"
     ]
    }
   ],
   "source": [
    "print(f\"V[f(X, Y)] = {variance(f):.2f}\")"
   ]
  },
  {
   "cell_type": "markdown",
   "metadata": {},
   "source": [
    "Neat, right?\n",
    "\n",
    "### Functional programming resources\n",
    "+ If you want to learn more about functional programming in Python, check out [this tutorial](https://realpython.com/python-first-class-functions/).\n",
    "+ If you want to learn more about the `lambda` keyword, check out [this tutorial](https://realpython.com/python-lambda/).\n",
    "+ You can also learn a little Haskell [here](http://learnyouahaskell.com/).\n",
    "+ Or if you want, your can go and learn some Lisp using the freely available masterpiece [Structure and Interpretation of Computer Programs](https://mitpress.mit.edu/sites/default/files/sicp/full-text/book/book.html). The language used in the book is Scheme, which is hardly used. But your brain will thank you after reading the book. You will be a better programmer.\n"
   ]
  }
 ],
 "metadata": {
  "celltoolbar": "Tags",
  "kernelspec": {
   "display_name": "Python 3 (ipykernel)",
   "language": "python",
   "name": "python3"
  },
  "language_info": {
   "codemirror_mode": {
    "name": "ipython",
    "version": 3
   },
   "file_extension": ".py",
   "mimetype": "text/x-python",
   "name": "python",
   "nbconvert_exporter": "python",
   "pygments_lexer": "ipython3",
   "version": "3.11.3"
  }
 },
 "nbformat": 4,
 "nbformat_minor": 4
}
