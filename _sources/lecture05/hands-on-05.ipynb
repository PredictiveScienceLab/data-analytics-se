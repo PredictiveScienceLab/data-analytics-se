{
 "cells": [
  {
   "cell_type": "code",
   "execution_count": 1,
   "metadata": {
    "tags": [
     "hide-input"
    ]
   },
   "outputs": [],
   "source": [
    "import numpy as np\n",
    "np.set_printoptions(precision=3)\n",
    "import matplotlib.pyplot as plt\n",
    "%matplotlib inline\n",
    "import seaborn as sns\n",
    "sns.set(rc={\"figure.dpi\":100, 'savefig.dpi':300})\n",
    "sns.set_context('notebook')\n",
    "sns.set_style(\"ticks\")"
   ]
  },
  {
   "cell_type": "markdown",
   "metadata": {},
   "source": [
    "# Practicing with joint probability mass functions\n",
    "\n",
    "## Objectives\n",
    "\n",
    "+ To practice with the joint probability mass function.\n",
    "\n",
    "## Joint probability mass function of two discrete random variables\n",
    "\n",
    "Take two discrete random variabls $X$ and $Y$.\n",
    "Say that $X$ takes $5$ values, $0,1,\\dots,4$, and $Y$ takes $10$ values, $0,1,\\dots,9$.\n",
    "Then, you can think of the joint probability mass function of $X$ and $Y$ as the $5\\times 10$ matrix:\n",
    "\n",
    "$$\n",
    "A_{ij} = p(X=i, Y=j).\n",
    "$$\n",
    "\n",
    "Let's make up such a matrix to play with:"
   ]
  },
  {
   "cell_type": "code",
   "execution_count": 2,
   "metadata": {},
   "outputs": [
    {
     "name": "stdout",
     "output_type": "stream",
     "text": [
      "[[0.93  0.316 0.184 0.205 0.568 0.596 0.965 0.653 0.749 0.654]\n",
      " [0.748 0.961 0.008 0.106 0.299 0.656 0.81  0.872 0.965 0.724]\n",
      " [0.642 0.717 0.468 0.326 0.44  0.73  0.994 0.677 0.791 0.171]\n",
      " [0.027 0.8   0.904 0.025 0.492 0.526 0.596 0.052 0.895 0.728]\n",
      " [0.818 0.5   0.81  0.096 0.219 0.259 0.468 0.459 0.71  0.178]]\n"
     ]
    }
   ],
   "source": [
    "# This is to make sure that we all get the same results\n",
    "np.random.seed(12345)\n",
    "# First I draw a matrix with random entries in [0,1]\n",
    "A = np.random.rand(5, 10)\n",
    "print(A)"
   ]
  },
  {
   "cell_type": "code",
   "execution_count": 3,
   "metadata": {},
   "outputs": [
    {
     "name": "stdout",
     "output_type": "stream",
     "text": [
      "A = [[0.034 0.012 0.007 0.007 0.021 0.022 0.035 0.024 0.027 0.024]\n",
      " [0.027 0.035 0.    0.004 0.011 0.024 0.029 0.032 0.035 0.026]\n",
      " [0.023 0.026 0.017 0.012 0.016 0.027 0.036 0.025 0.029 0.006]\n",
      " [0.001 0.029 0.033 0.001 0.018 0.019 0.022 0.002 0.033 0.026]\n",
      " [0.03  0.018 0.029 0.003 0.008 0.009 0.017 0.017 0.026 0.006]]\n",
      "Sum of A_ij = 1.00\n"
     ]
    }
   ],
   "source": [
    "# And then I scale it so that the sum of all elements is one:\n",
    "A = A / np.sum(A)\n",
    "print(f\"A = {A}\")\n",
    "print(f\"Sum of A_ij = {np.sum(A):.2f}\")"
   ]
  },
  {
   "cell_type": "markdown",
   "metadata": {},
   "source": [
    "Now we have a matrix that corresponds to a proper joint probability mass function."
   ]
  },
  {
   "cell_type": "markdown",
   "metadata": {},
   "source": [
    "Okay, this is great we can sample from this. Let's find now the probability mass function of just $X$.\n",
    "Remember that you need to marginalize:\n",
    "\n",
    "$$\n",
    "p(x) = \\sum_{y} p(x,y) = \\sum_{y} A_{xy}.\n",
    "$$\n",
    "\n",
    "This is easy:"
   ]
  },
  {
   "cell_type": "code",
   "execution_count": 4,
   "metadata": {},
   "outputs": [
    {
     "name": "stdout",
     "output_type": "stream",
     "text": [
      "pmf of just X: [0.212 0.224 0.217 0.184 0.164]\n"
     ]
    }
   ],
   "source": [
    "p_x = np.sum(A, axis=1) # Axis = 1 tells sum to sum only the second axis\n",
    "print(f\"pmf of just X: {p_x}\")"
   ]
  },
  {
   "cell_type": "markdown",
   "metadata": {},
   "source": [
    "Verify that this is indeed a pmf:"
   ]
  },
  {
   "cell_type": "code",
   "execution_count": 5,
   "metadata": {},
   "outputs": [
    {
     "name": "stdout",
     "output_type": "stream",
     "text": [
      "sum of p_x = 1.00\n"
     ]
    }
   ],
   "source": [
    "print(f\"sum of p_x = {np.sum(p_x):.2f}\")"
   ]
  },
  {
   "cell_type": "markdown",
   "metadata": {},
   "source": [
    "With this you can easily find the expectation of $X$:"
   ]
  },
  {
   "cell_type": "code",
   "execution_count": 6,
   "metadata": {},
   "outputs": [
    {
     "name": "stdout",
     "output_type": "stream",
     "text": [
      "E[X] = 1.87\n"
     ]
    }
   ],
   "source": [
    "E_X = np.sum(np.arange(5) * p_x)\n",
    "print(f\"E[X] = {E_X:.2f}\")"
   ]
  },
  {
   "cell_type": "markdown",
   "metadata": {},
   "source": [
    "Similarly for the variance of X:"
   ]
  },
  {
   "cell_type": "code",
   "execution_count": 7,
   "metadata": {},
   "outputs": [
    {
     "name": "stdout",
     "output_type": "stream",
     "text": [
      "V[X] = 1.89\n"
     ]
    }
   ],
   "source": [
    "E_X2 = np.sum(np.arange(5) ** 2 * p_x)\n",
    "V_X = E_X2 - E_X ** 2\n",
    "print(f\"V[X] = {V_X:.2f}\")"
   ]
  },
  {
   "cell_type": "markdown",
   "metadata": {},
   "source": [
    "Let's do the same for $Y$:"
   ]
  },
  {
   "cell_type": "code",
   "execution_count": 8,
   "metadata": {},
   "outputs": [
    {
     "name": "stdout",
     "output_type": "stream",
     "text": [
      "pmf of just Y: [0.115 0.12  0.086 0.028 0.073 0.101 0.139 0.099 0.149 0.089]\n",
      "E[Y] = 4.70\n",
      "V[Y] = 8.98\n"
     ]
    }
   ],
   "source": [
    "p_y = np.sum(A, axis=0)\n",
    "print(f\"pmf of just Y: {p_y}\")\n",
    "E_Y = np.sum(np.arange(10) * p_y)\n",
    "print(f\"E[Y] = {E_Y:.2f}\")\n",
    "E_Y2 = np.sum(np.arange(10) ** 2 * p_y)\n",
    "V_Y = E_Y2 - E_Y ** 2\n",
    "print(f\"V[Y] = {V_Y:.2f}\")"
   ]
  },
  {
   "cell_type": "markdown",
   "metadata": {},
   "source": [
    "Alright, we have found all the individual statistics.\n",
    "Let's now find the covariance of the two random variables.\n",
    "Remember the formula:\n",
    "\n",
    "$$\n",
    "\\mathbb{C}[X,Y] = \\sum_{x,y} (x-\\mathbb{E}[X])(y-\\mathbb{E}[Y])p(x,y).\n",
    "$$\n",
    "\n",
    "Here we go:"
   ]
  },
  {
   "cell_type": "code",
   "execution_count": 9,
   "metadata": {},
   "outputs": [
    {
     "name": "stdout",
     "output_type": "stream",
     "text": [
      "C[X, Y] = -0.38\n"
     ]
    }
   ],
   "source": [
    "# We will loop over all the possible values\n",
    "C_XY = 0.0 # Keeping track of the sum\n",
    "for x in range(5):\n",
    "    for y in range(10):\n",
    "        C_XY += (x - E_X) * (y - E_Y) * A[x, y] # the += means add to the left hand side\n",
    "print(f\"C[X, Y] = {C_XY:.2f}\")"
   ]
  },
  {
   "cell_type": "markdown",
   "metadata": {},
   "source": [
    "We see that $X$ and $Y$ are negatively correlated.\n",
    "If only we could sample from them to visualize it...\n",
    "How can we do this? We cannot just sample $X$ and then $Y$ without thinking about it.\n",
    "We need to sample $X$ and $Y$ together.\n",
    "Basically, we need to sample a set of index $(i,j)$ with probability $A_{ij}$.\n",
    "This is like sampling from a categorical with $5\\times 10 = 50$ different labels $c_0 = (1,1), c_1 = (1,2), \\dots, c_{49} = (5, 10)$ each with a probability $A_{00}, A_{01}, \\dots, A_{4,9}$.\n",
    "\n",
    "This is what the code below does. You can look at the details, if you are so inclined."
   ]
  },
  {
   "cell_type": "code",
   "execution_count": 10,
   "metadata": {
    "tags": [
     "hide-input"
    ]
   },
   "outputs": [],
   "source": [
    "import scipy.stats as st\n",
    "\n",
    "# A.flatten() is the matrix flattened out as a row\n",
    "XY = st.rv_discrete('Joinnt XY', values=(range(50), A.flatten()))\n",
    "\n",
    "# Let's now write a function that samples X and Y using a sample from XY\n",
    "def sample_X_and_Y():\n",
    "    \"\"\"Samples X and Y once.\"\"\"\n",
    "    k = XY.rvs()\n",
    "    # This is integer division\n",
    "    i = k // 10\n",
    "    # This is the remainder\n",
    "    j = k % 10\n",
    "    return i, j"
   ]
  },
  {
   "cell_type": "markdown",
   "metadata": {},
   "source": [
    "Let's try it out - take 10 samples:"
   ]
  },
  {
   "cell_type": "code",
   "execution_count": 11,
   "metadata": {},
   "outputs": [
    {
     "name": "stdout",
     "output_type": "stream",
     "text": [
      "x = 2, y = 5\n",
      "x = 0, y = 8\n",
      "x = 3, y = 6\n",
      "x = 4, y = 5\n",
      "x = 2, y = 7\n",
      "x = 0, y = 7\n",
      "x = 2, y = 2\n",
      "x = 1, y = 8\n",
      "x = 4, y = 0\n",
      "x = 4, y = 2\n"
     ]
    }
   ],
   "source": [
    "for n in range(10):\n",
    "    x, y = sample_X_and_Y()\n",
    "    print(f\"x = {x:d}, y = {y:d}\")"
   ]
  },
  {
   "cell_type": "markdown",
   "metadata": {},
   "source": [
    "Now, let's write some code to find the expectation of a function $f(X, Y) = X + Y$.\n",
    "It is:\n",
    "\n",
    "$$\n",
    "\\mathbb{E}[f(X,Y)] = \\sum_{x,y}f(x,y) p(x,y) = \\sum_{x,y}f(x,y)A_{xy}. \n",
    "$$\n",
    "\n",
    "Let's write a function that calculates the expectation of any $f$ and then use it for $f(X,Y) = X + Y$."
   ]
  },
  {
   "cell_type": "code",
   "execution_count": 12,
   "metadata": {},
   "outputs": [],
   "source": [
    "def expectation(f, A):\n",
    "    \"\"\"Returns the expectation of the function f(X, Y).\n",
    "    \n",
    "    Arguments:\n",
    "    f -- A function f(X, Y).\n",
    "    A -- A matrix containing the joint probability mass\n",
    "         function of X and Y. Say that A has dimensions\n",
    "         n x m. We assume that X takes values\n",
    "         1, 2, ..., n and that Y takes values\n",
    "         1, 2, ..., m.\n",
    "    \"\"\"\n",
    "    n, m = A.shape\n",
    "    res = 0.\n",
    "    for i in range(n):\n",
    "        for j in range(m):\n",
    "            res += f(i - 1, j - 1) * A[i, j]\n",
    "    return res"
   ]
  },
  {
   "cell_type": "markdown",
   "metadata": {},
   "source": [
    "Notice that `expectation` is a Python function that takes as an input the Python function of which we want to find the expectation.\n",
    "This is cool!\n",
    "\n",
    "Here is how to use `expectation`.\n",
    "First, you need to define the function the expectation of which you want to find."
   ]
  },
  {
   "cell_type": "code",
   "execution_count": 13,
   "metadata": {},
   "outputs": [],
   "source": [
    "def f(x, y):\n",
    "    return x + y"
   ]
  },
  {
   "cell_type": "markdown",
   "metadata": {},
   "source": [
    "We can calculate the expectation like this:"
   ]
  },
  {
   "cell_type": "code",
   "execution_count": 14,
   "metadata": {},
   "outputs": [
    {
     "name": "stdout",
     "output_type": "stream",
     "text": [
      "E[f(X, Y)] = 4.56\n"
     ]
    }
   ],
   "source": [
    "E_f = expectation(f, A)\n",
    "\n",
    "print(f\"E[f(X, Y)] = {E_f:.2f}\")"
   ]
  },
  {
   "cell_type": "markdown",
   "metadata": {},
   "source": [
    "Now let's find the variance of $f(X, Y)$.\n",
    "We can use the formula:\n",
    "\n",
    "$$\n",
    "\\mathbb{V}[f(X,Y)] = \\mathbb{E}\\left[f^2(X,Y)\\right] - \\left\\{\\mathbb{E}[f(X,Y)]\\right\\}^2.\n",
    "$$\n",
    "\n",
    "We need to define a function that corresponds to the square of $f(X,Y)$.\n",
    "Here it is:"
   ]
  },
  {
   "cell_type": "code",
   "execution_count": 15,
   "metadata": {},
   "outputs": [],
   "source": [
    "def g(x, y):\n",
    "    return f(x, y) ** 2"
   ]
  },
  {
   "cell_type": "markdown",
   "metadata": {},
   "source": [
    "So, now we can do:"
   ]
  },
  {
   "cell_type": "code",
   "execution_count": 16,
   "metadata": {},
   "outputs": [
    {
     "name": "stdout",
     "output_type": "stream",
     "text": [
      "V[f(X, Y)] = 10.11\n"
     ]
    }
   ],
   "source": [
    "V_f = expectation(g, A) - E_f ** 2\n",
    "\n",
    "print(f\"V[f(X, Y)] = {V_f:.2f}\")"
   ]
  },
  {
   "cell_type": "markdown",
   "metadata": {},
   "source": [
    "## Questions\n",
    "\n",
    "+ Modify the code above to find the variance of $3X + 5Y$.\n",
    "+ Write code that finds the expectation of the function $f(X,Y) = XY^3$."
   ]
  },
  {
   "cell_type": "code",
   "execution_count": 17,
   "metadata": {},
   "outputs": [],
   "source": [
    "# Your code here"
   ]
  },
  {
   "cell_type": "markdown",
   "metadata": {},
   "source": [
    "### If you are feeling bored, learn some functional programming...\n",
    "\n",
    "I have to show you a neat way to do this using functional programming ideas.\n",
    "Feel free to skip if you find it wierd...\n",
    "It is not required for the rest of the course.\n",
    "\n",
    "First, here is how you can define a function super-quickly in Python:"
   ]
  },
  {
   "cell_type": "code",
   "execution_count": 18,
   "metadata": {},
   "outputs": [],
   "source": [
    "f = lambda x, y: x + y"
   ]
  },
  {
   "cell_type": "markdown",
   "metadata": {},
   "source": [
    "Now, I am going to define a function that squares any function.\n",
    "Pay attention, I will define a function that takes as an argument any function (with any arguments) and it returns another function which is just the square of the first.\n",
    "Here it is in one line:"
   ]
  },
  {
   "cell_type": "code",
   "execution_count": 19,
   "metadata": {},
   "outputs": [],
   "source": [
    "square = lambda f: lambda *args: f(*args) ** 2"
   ]
  },
  {
   "cell_type": "markdown",
   "metadata": {},
   "source": [
    "Here is what I can do with this:"
   ]
  },
  {
   "cell_type": "code",
   "execution_count": 20,
   "metadata": {},
   "outputs": [
    {
     "name": "stdout",
     "output_type": "stream",
     "text": [
      "f(1,2) = 3, f(1, 3) ** 2 = 9\n"
     ]
    }
   ],
   "source": [
    "f2 = square(f)\n",
    "\n",
    "print(f\"f(1,2) = {f(1,2)}, f(1, 3) ** 2 = {f2(1,2)}\")"
   ]
  },
  {
   "cell_type": "markdown",
   "metadata": {},
   "source": [
    "So, now can find the variance like this:"
   ]
  },
  {
   "cell_type": "code",
   "execution_count": 21,
   "metadata": {},
   "outputs": [
    {
     "name": "stdout",
     "output_type": "stream",
     "text": [
      "V[f(X, Y)] = 10.11\n"
     ]
    }
   ],
   "source": [
    "V_f = expectation(square(f), A) - expectation(f, A) ** 2\n",
    "\n",
    "print(f\"V[f(X, Y)] = {V_f:.2f}\")"
   ]
  },
  {
   "cell_type": "code",
   "execution_count": null,
   "metadata": {},
   "outputs": [],
   "source": []
  }
 ],
 "metadata": {
  "celltoolbar": "Tags",
  "kernelspec": {
   "display_name": "Python 3 (ipykernel)",
   "language": "python",
   "name": "python3"
  },
  "language_info": {
   "codemirror_mode": {
    "name": "ipython",
    "version": 3
   },
   "file_extension": ".py",
   "mimetype": "text/x-python",
   "name": "python",
   "nbconvert_exporter": "python",
   "pygments_lexer": "ipython3",
   "version": "3.9.12"
  }
 },
 "nbformat": 4,
 "nbformat_minor": 4
}
