{
 "cells": [
  {
   "cell_type": "code",
   "execution_count": 1,
   "metadata": {
    "tags": [
     "hide-input"
    ]
   },
   "outputs": [],
   "source": [
    "import numpy as np\n",
    "np.set_printoptions(precision=3)\n",
    "import matplotlib.pyplot as plt\n",
    "%matplotlib inline\n",
    "import seaborn as sns\n",
    "sns.set(rc={\"figure.dpi\":100, 'savefig.dpi':300})\n",
    "sns.set_context('notebook')\n",
    "sns.set_style(\"ticks\")"
   ]
  },
  {
   "cell_type": "markdown",
   "metadata": {},
   "source": [
    "# The Principle of Maximum Entropy for Discrete Random Variables\n",
    "\n",
    "## Objectives\n",
    "+ Learn how to find the maximum entropy distribution for discrete random variables.\n",
    "\n",
    "## The Brandeis dice problem\n",
    "This is from the 1962 Brandeis lectures of E. T. Jaynes.\n",
    "\n",
    "> When a die is tossed, the number of spots up can have any value $x$ in $1,\\dots,6$. Suppose a die has been tossed $N$ times and we are told only that the average number of spots up was not $3.5$ (as we might expect from an \"honest\" die) but 4.5. Given this information, <u>and nothing else</u>, what probability should we assign to $x$ spots on the next toss?\n",
    "\n",
    "Let $X$ be a random variable corresponding to the result of tossing the die.\n",
    "The description above imposes the following mean value constraint on the random variable $X$:\n",
    "\n",
    "$$\n",
    "\\sum_{x=1}^6 x p(x) = 4.5.\n",
    "$$\n",
    "\n",
    "As we discussed in the lecture, to come up with a probability mass function for $X$ you have to maximize the entropy subject to the constraints above.\n",
    "We saw that this constrained optimization problem has a unique solution of the form:\n",
    "\n",
    "$$\n",
    "p(x) = \\frac{\\exp\\{\\lambda x\\}}{Z(\\lambda)},\n",
    "$$\n",
    "\n",
    "where $Z(\\lambda)$ is the *partition function*:\n",
    "\n",
    "$$\n",
    "Z(\\lambda) = \\sum_{i}e^{\\lambda i} = e^{\\lambda} + e^{2\\lambda} + \\dots + e^{6\\lambda},\n",
    "$$\n",
    "\n",
    "and $\\lambda$ is a parameter to be tuned so that the constraint is satisfied.\n",
    "We will identify $\\lambda$ by solving a root finding problem.\n",
    "To this end, let us write the partition function as:\n",
    "\n",
    "$$\n",
    "Z(\\lambda) = \\left(e^{\\lambda}\\right)^1+\\left(e^{\\lambda}\\right)^2 + \\dots + \\left(e^{\\lambda}\\right)^6.\n",
    "$$\n",
    "\n",
    "According to the theory, in order to find $\\lambda$ we must solve:\n",
    "\n",
    "$$\n",
    "\\frac{\\partial \\log Z}{\\partial \\lambda} = 4.5.\n",
    "$$\n",
    "\n",
    "Or equivalently:\n",
    "\n",
    "$$\n",
    "\\frac{1}{Z(\\lambda)}\\sum_{i=1}^6 i e^{-\\lambda i} = 4.5.\n",
    "$$\n",
    "\n",
    "So, to find $\\lambda$, we need to find the root of this function:\n",
    "\n",
    "$$\n",
    "f(\\lambda) = \\frac{1}{Z(\\lambda)}\\sum_{i=1}^6 i e^{-\\lambda i} - 4.5.\n",
    "$$\n",
    "\n",
    "Let's code it up:"
   ]
  },
  {
   "cell_type": "code",
   "execution_count": 2,
   "metadata": {},
   "outputs": [],
   "source": [
    "def f(lam : float):\n",
    "    \"\"\"The function of which the root we want to find.\"\"\"\n",
    "    p_unormalized = np.exp(np.arange(1, 7) * lam)\n",
    "    p = p_unormalized / np.sum(p_unormalized)\n",
    "    E_X = np.sum(np.arange(1, 7) * p)\n",
    "    return E_X - 4.5"
   ]
  },
  {
   "cell_type": "markdown",
   "metadata": {},
   "source": [
    "To find the root, we will use the [Brent's method](https://en.wikipedia.org/wiki/Brent%27s_method) as implemented in `scipy`:"
   ]
  },
  {
   "cell_type": "code",
   "execution_count": 3,
   "metadata": {},
   "outputs": [
    {
     "name": "stdout",
     "output_type": "stream",
     "text": [
      "      converged: True\n",
      "           flag: 'converged'\n",
      " function_calls: 11\n",
      "     iterations: 10\n",
      "           root: 0.3710489380810334\n",
      "Lambda = 0.37\n",
      "p = [0.054 0.079 0.114 0.165 0.24  0.347]\n"
     ]
    }
   ],
   "source": [
    "import scipy.optimize\n",
    "\n",
    "# Left bound for x\n",
    "a = -2\n",
    "# Right bound for x\n",
    "b = 2\n",
    "res = scipy.optimize.root_scalar(\n",
    "    f,\n",
    "    bracket=(a,b),\n",
    "    method='brentq',\n",
    "    xtol=1e-20,\n",
    "    rtol=1e-15\n",
    ")\n",
    "\n",
    "print(res)\n",
    "\n",
    "lam = res.root\n",
    "\n",
    "print(f'Lambda = {lam:.2f}')\n",
    "\n",
    "# The maximum entropy probabilities\n",
    "p = np.exp(lam * np.arange(1, 7))\n",
    "p = p / np.sum(p)\n",
    "\n",
    "print(f'p = {p}')"
   ]
  },
  {
   "cell_type": "markdown",
   "metadata": {},
   "source": [
    "Check that the expectation turns out to be correct:"
   ]
  },
  {
   "cell_type": "code",
   "execution_count": 4,
   "metadata": {},
   "outputs": [
    {
     "data": {
      "text/plain": [
       "4.5"
      ]
     },
     "execution_count": 4,
     "metadata": {},
     "output_type": "execute_result"
    }
   ],
   "source": [
    "(p * np.arange(1, 7)).sum()"
   ]
  },
  {
   "cell_type": "markdown",
   "metadata": {},
   "source": [
    "We are good!\n",
    "\n",
    "Now, let's plot the maximum entropy probabilities:"
   ]
  },
  {
   "cell_type": "code",
   "execution_count": 5,
   "metadata": {
    "tags": [
     "hide-input"
    ]
   },
   "outputs": [
    {
     "data": {
      "image/png": "[encoded data removed]",
      "text/plain": [
       "<Figure size 600x400 with 1 Axes>"
      ]
     },
     "metadata": {},
     "output_type": "display_data"
    }
   ],
   "source": [
    "fig, ax = plt.subplots()\n",
    "plt.bar(np.arange(1, 7), p, alpha=0.5)\n",
    "ax.set_xlabel('Die result ($x$)')\n",
    "ax.set_ylabel('Probability $p(x)$');"
   ]
  },
  {
   "cell_type": "markdown",
   "metadata": {},
   "source": [
    "## Questions\n",
    "\n",
    "+ Rerun the code above assuming that the mean is 3.5. What kind of distribution do you find? Why?\n",
    "+ If you have some time to spare, modify the example above to add the constraint that the variance of $X$ should be 0.2. Hint: First, translate the constraint about the variance to a constraint about $\\mathbb{E}[X^2]$. Second, you need to introduce one more parameter to optimize for. Call it $\\mu$. The distribution would be $p(x) = \\frac{\\exp\\{\\lambda x + \\mu x^2\\}}{Z(\\lambda,\\mu)}$. Then derive the set of non-linear equations you need solve to find $\\lambda$ and $\\mu$ by expanding these two equations:\n",
    "\n",
    "$$\n",
    "\\frac{\\partial Z}{\\partial \\lambda} = \\mathbb{E}[X],\n",
    "$$\n",
    "\n",
    "and\n",
    "\n",
    "$$\n",
    "\\frac{\\partial Z}{\\partial \\mu} = \\mathbb{E}[X^2].\n",
    "$$\n",
    "\n",
    "Finally, use [scipy.optimize.root](https://docs.scipy.org/doc/scipy/reference/generated/scipy.optimize.root.html#scipy.optimize.root) to solve the root-finding problem.\n",
    "Be careful with this because it could take several hours to do right..."
   ]
  },
  {
   "cell_type": "code",
   "execution_count": null,
   "metadata": {},
   "outputs": [],
   "source": []
  }
 ],
 "metadata": {
  "celltoolbar": "Tags",
  "kernelspec": {
   "display_name": "Python 3 (ipykernel)",
   "language": "python",
   "name": "python3"
  },
  "language_info": {
   "codemirror_mode": {
    "name": "ipython",
    "version": 3
   },
   "file_extension": ".py",
   "mimetype": "text/x-python",
   "name": "python",
   "nbconvert_exporter": "python",
   "pygments_lexer": "ipython3",
   "version": "3.9.12"
  }
 },
 "nbformat": 4,
 "nbformat_minor": 4
}
