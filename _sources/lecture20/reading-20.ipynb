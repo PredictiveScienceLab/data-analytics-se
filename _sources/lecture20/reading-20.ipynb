{
 "cells": [
  {
   "cell_type": "markdown",
   "metadata": {},
   "source": [
    "# State Space Models - Kalman Filters\n",
    "\n",
    "Kalman filters solve the filtering problem for the case of lineat transitions and emissions with Gaussian probabilities.\n",
    "In the notation of the previous lecture, these can be expressed either as equations:\n",
    "+ **Intial conditions:**\n",
    "\n",
    "$$\n",
    "\\mathbf{x}_0 = \\boldsymbol{\\mu}_0 + \\mathbf{z}_0,\n",
    "$$\n",
    "\n",
    "where $\\boldsymbol{\\mu}_0$ is a parameter and $\\mathbf{z}_0\\sim N(\\mathbf{0},\\mathbf{V}_0)$ with $\\mathbf{V}_0$ an properly sized covariance matrix.\n",
    "+ **Transitions:**\n",
    "\n",
    "$$\n",
    "\\mathbf{x}_{t+1} = \\mathbf{A}\\mathbf{x}_t + \\mathbf{B}\\mathbf{u}_t + \\mathbf{z}_t,\n",
    "$$\n",
    "\n",
    "where $\\mathbf{A}$ and $\\mathbf{B}$ are matrices and $\\mathbf{z}_t\\sim N(\\mathbf{0},\\mathbf{Q})$ with $\\mathbf{Q}$ a properly sized covariance matrix (known as process covariance).\n",
    "+ **Emissions:**\n",
    "\n",
    "$$\n",
    "\\mathbf{y}_t = \\mathbf{C}\\mathbf{x}_t + \\mathbf{w}_t,\n",
    "$$\n",
    "\n",
    "where $\\mathbf{C}$ is a matrix and $\\mathbf{w}_t\\sim N(\\mathbf{0},\\mathbf{R})$ with $\\mathbf{R}$ a properly sized covariance matrix (known as process covariance).\n",
    "\n",
    "or as probabilities:\n",
    "+ **Initial conditions:**\n",
    "\n",
    "$$\n",
    "p(\\mathbf{x}_0) = N(\\mathbf{x}_0|\\boldsymbol{\\mu}_0,\\mathbf{V}_0),\n",
    "$$\n",
    "\n",
    "+ **Transitions:**\n",
    "\n",
    "$$\n",
    "p(\\mathbf{x}_{t+1}|\\mathbf{x}_t,\\mathbf{u}_t) = N(\\mathbf{x}_{t+1}|\\mathbf{A}\\mathbf{x}_t+\\mathbf{B}\\mathbf{u}_t,\\mathbf{Q}). \n",
    "$$\n",
    "\n",
    "+ **Emissions:**\n",
    "\n",
    "$$\n",
    "p(\\mathbf{y}_{t}|\\mathbf{x}_t) = N(\\mathbf{y}_t|\\mathbf{C}\\mathbf{x}_t,\\mathbf{R}).\n",
    "$$\n",
    "\n",
    "The details of the Kalman filter are rather involved.\n",
    "They are presented in the video lectures.\n",
    "If you want to dive deeper into the technical part, I suggest you read [Chapter 13.3, Bishop (2006)](https://www.springer.com/gp/book/9780387310732).\n",
    "An other very good resource, albeit rather extensive, is the open source book [Kalman and Bayesian Filters in Python](https://github.com/rlabbe/Kalman-and-Bayesian-Filters-in-Python) and in particular [Chapter 7](https://github.com/rlabbe/Kalman-and-Bayesian-Filters-in-Python/blob/master/07-Kalman-Filter-Math.ipynb)."
   ]
  },
  {
   "cell_type": "code",
   "execution_count": null,
   "metadata": {},
   "outputs": [],
   "source": []
  }
 ],
 "metadata": {
  "kernelspec": {
   "display_name": "Python 3 (ipykernel)",
   "language": "python",
   "name": "python3"
  },
  "language_info": {
   "codemirror_mode": {
    "name": "ipython",
    "version": 3
   },
   "file_extension": ".py",
   "mimetype": "text/x-python",
   "name": "python",
   "nbconvert_exporter": "python",
   "pygments_lexer": "ipython3",
   "version": "3.9.12"
  }
 },
 "nbformat": 4,
 "nbformat_minor": 4
}
