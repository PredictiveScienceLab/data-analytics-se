{
 "cells": [
  {
   "cell_type": "code",
   "execution_count": 1,
   "metadata": {
    "tags": [
     "hide-input"
    ]
   },
   "outputs": [],
   "source": "MAKE_BOOK_FIGURES=True\n\nimport matplotlib as mpl\nimport matplotlib.pyplot as plt\n%matplotlib inline\nimport matplotlib_inline\nmatplotlib_inline.backend_inline.set_matplotlib_formats('svg')\nimport seaborn as sns\nsns.set_context(\"paper\")\nsns.set_style(\"ticks\")\n\ndef set_book_style():\n    plt.style.use('seaborn-v0_8-white') \n    sns.set_style(\"ticks\")\n    sns.set_palette(\"deep\")\n\n    mpl.rcParams.update({\n        # Font settings\n        'font.family': 'serif',  # For academic publishing\n        'font.size': 8,  # As requested, 10pt font\n        'axes.labelsize': 8,\n        'axes.titlesize': 8,\n        'xtick.labelsize': 7,  # Slightly smaller for better readability\n        'ytick.labelsize': 7,\n        'legend.fontsize': 7,\n        \n        # Line and marker settings for consistency\n        'axes.linewidth': 0.5,\n        'grid.linewidth': 0.5,\n        'lines.linewidth': 1.0,\n        'lines.markersize': 4,\n        \n        # Layout to prevent clipped labels\n        'figure.constrained_layout.use': True,\n        \n        # Default DPI (will override when saving)\n        'figure.dpi': 600,\n        'savefig.dpi': 600,\n        \n        # Despine - remove top and right spines\n        'axes.spines.top': False,\n        'axes.spines.right': False,\n        \n        # Remove legend frame\n        'legend.frameon': False,\n        \n        # Additional trim settings\n        'figure.autolayout': True,  # Alternative to constrained_layout\n        'savefig.bbox': 'tight',    # Trim when saving\n        'savefig.pad_inches': 0.1   # Small padding to ensure nothing gets cut off\n    })\n\ndef set_notebook_style():\n    plt.style.use('seaborn-v0_8-white')\n    sns.set_style(\"ticks\")\n    sns.set_palette(\"deep\")\n\n    mpl.rcParams.update({\n        # Font settings - using default sizes\n        'font.family': 'serif',\n        'axes.labelsize': 10,\n        'axes.titlesize': 10,\n        'xtick.labelsize': 9,\n        'ytick.labelsize': 9,\n        'legend.fontsize': 9,\n        \n        # Line and marker settings\n        'axes.linewidth': 0.5,\n        'grid.linewidth': 0.5,\n        'lines.linewidth': 1.0,\n        'lines.markersize': 4,\n        \n        # Layout settings\n        'figure.constrained_layout.use': True,\n        \n        # Remove only top and right spines\n        'axes.spines.top': False,\n        'axes.spines.right': False,\n        \n        # Remove legend frame\n        'legend.frameon': False,\n        \n        # Additional settings\n        'figure.autolayout': True,\n        'savefig.bbox': 'tight',\n        'savefig.pad_inches': 0.1\n    })\n\ndef save_for_book(fig, filename, is_vector=True, **kwargs):\n    \"\"\"\n    Save a figure with book-optimized settings.\n    \n    Parameters:\n    -----------\n    fig : matplotlib figure\n        The figure to save\n    filename : str\n        Filename without extension\n    is_vector : bool\n        If True, saves as vector at 1000 dpi. If False, saves as raster at 600 dpi.\n    **kwargs : dict\n        Additional kwargs to pass to savefig\n    \"\"\"    \n    # Set appropriate DPI and format based on figure type\n    if is_vector:\n        dpi = 1000\n        ext = '.pdf'\n    else:\n        dpi = 600\n        ext = '.tif'\n    \n    # Save the figure with book settings\n    fig.savefig(f\"{filename}{ext}\", dpi=dpi, **kwargs)\n\ndef make_full_width_fig():\n    return plt.subplots(figsize=(4.7, 2.9), constrained_layout=True)\n\ndef make_half_width_fig():\n    return plt.subplots(figsize=(2.35, 1.45), constrained_layout=True)\n\nif MAKE_BOOK_FIGURES:\n    set_book_style()\nelse:\n    set_notebook_style()\n\nmake_full_width_fig = make_full_width_fig if MAKE_BOOK_FIGURES else lambda: plt.subplots()\nmake_half_width_fig = make_half_width_fig if MAKE_BOOK_FIGURES else lambda: plt.subplots()"
  },
  {
   "cell_type": "markdown",
   "metadata": {},
   "source": [
    "(psuedo-random)=\n",
    "# Pseudo-random number generators\n",
    "\n",
    "Random number generation is the backbone of many machine learning algorithms.\n",
    "Computers are deterministic.\n",
    "So, how can they generate random numbers?\n",
    "Well, they cannot!\n",
    "But they can produce sequences of numbers that look like random numbers!\n",
    "These \"fake\" random number generators are called Pseudo-random number generators (PRNG).\n",
    "They generate random numbers between zero and a maximum integer, say $m$.\n",
    "As we argue later, this is sufficient to generate any random variable you want.\n",
    "\n",
    "## The middle square algorithm\n",
    "\n",
    "The [middlesquare algorithm](https://en.wikipedia.org/wiki/Middle-square_method) is the simplest PRNG.\n",
    "It was invented by [John von Neumann](https://en.wikipedia.org/wiki/John_von_Neumann).\n",
    "It works like this:\n",
    "\n",
    "1. Take a number and square it.\n",
    "2. Pad the result with zeros to get to the desired number of digits.\n",
    "3. Take the middle digits of the resulting number.\n",
    "4. Repeat.\n",
    "\n",
    "Here is an implementation:"
   ]
  },
  {
   "cell_type": "code",
   "execution_count": 5,
   "metadata": {
    "tags": [
     "hide-input"
    ]
   },
   "outputs": [],
   "source": [
    "import numpy as np\n",
    "\n",
    "def middlesquare(s : int, digits : int = 4):\n",
    "    \"\"\"Sample random numbers using the middle square algorithm.\n",
    "    \n",
    "    Arguments:\n",
    "        s      -- The initial seed.\n",
    "        digits -- How many digits do you want.\n",
    "    \"\"\"\n",
    "    # Square the number\n",
    "    s2 = s ** 2\n",
    "    # Turn the resulting number into a string padding\n",
    "    # with zeros to get to the desired number of digits\n",
    "    s2_str = str(s2).zfill( 2 * digits)\n",
    "    # Keep only the middle\n",
    "    middle_str = s2_str[int(np.floor(digits/2)):][:-int(np.floor(digits/2))]\n",
    "    return int(middle_str)"
   ]
  },
  {
   "cell_type": "markdown",
   "metadata": {},
   "source": [
    "Let's draw some random numbers:"
   ]
  },
  {
   "cell_type": "code",
   "execution_count": 6,
   "metadata": {
    "tags": [
     "hide-output"
    ]
   },
   "outputs": [
    {
     "name": "stdout",
     "output_type": "stream",
     "text": [
      "5227\n",
      "3215\n",
      "3362\n",
      "3030\n",
      "1809\n",
      "2724\n",
      "4201\n",
      "6484\n",
      "422\n",
      "1780\n",
      "1684\n",
      "8358\n",
      "8561\n",
      "2907\n",
      "4506\n",
      "3040\n",
      "2416\n",
      "8370\n",
      "569\n",
      "3237\n"
     ]
    }
   ],
   "source": [
    "seed = 1234\n",
    "s = seed\n",
    "for _ in range(20):\n",
    "    s = middlesquare(s, digits=4)\n",
    "    print(s)"
   ]
  },
  {
   "cell_type": "markdown",
   "metadata": {},
   "source": [
    "Unfortunately, the middlesquare algorithms results in periodic sequences with very small period. For example:"
   ]
  },
  {
   "cell_type": "code",
   "execution_count": 7,
   "metadata": {
    "tags": [
     "hide-output"
    ]
   },
   "outputs": [
    {
     "name": "stdout",
     "output_type": "stream",
     "text": [
      "2916\n",
      "5030\n",
      "3009\n",
      "540\n",
      "2916\n",
      "5030\n",
      "3009\n",
      "540\n",
      "2916\n",
      "5030\n",
      "3009\n",
      "540\n",
      "2916\n",
      "5030\n",
      "3009\n",
      "540\n",
      "2916\n",
      "5030\n",
      "3009\n",
      "540\n"
     ]
    }
   ],
   "source": [
    "seed = 540\n",
    "s = seed\n",
    "for _ in range(20):\n",
    "    s = middlesquare(s, digits=4)\n",
    "    print(s)"
   ]
  },
  {
   "cell_type": "markdown",
   "metadata": {},
   "source": [
    "## Questions\n",
    "\n",
    "+ What is the minimum number that you can get from the middle square algorithm with 4 digits?\n",
    "+ What is the maximum number that you can get from the middle square algorithm with 4 digits?"
   ]
  },
  {
   "cell_type": "markdown",
   "metadata": {},
   "source": [
    "## Linear congruential generator (LCG)\n",
    "The [linear congruential generator](https://en.wikipedia.org/wiki/Linear_congruential_generator) is a simple algorithm to generate pseudo-random numbers. It is not a good algorithm, but it is simple and fast. \n",
    "\n",
    "It works as follows.\n",
    "You pick three big integers $a$, $b$ and $m$.\n",
    "Pick a seed $x_0$.\n",
    "Then iterate:\n",
    "\n",
    "$$\n",
    "x_{i+1} = (a x_i + b)\\mod m\n",
    "$$\n",
    "\n",
    "Here $\\cdot \\mod \\cdot$ is the modulo operator, which returns the remainder of the division.\n",
    "\n",
    "Here is a simple implementation:"
   ]
  },
  {
   "cell_type": "code",
   "execution_count": 8,
   "metadata": {
    "tags": [
     "hide-input"
    ]
   },
   "outputs": [],
   "source": [
    "def lcg(\n",
    "    x : int,\n",
    "    a : int = 123456,\n",
    "    b : int = 978564,\n",
    "    m : int = 6012119\n",
    "):\n",
    "    \"\"\"Sample random numbers using a linear congruential generator.\n",
    "    \n",
    "    Arguments:\n",
    "        x     -   The previous number in the sequence.\n",
    "        a     -   A big integer.\n",
    "        b     -   Another big integer.\n",
    "        m     -   Another big integer.\n",
    "    \"\"\"\n",
    "    return (a * x + b) % m"
   ]
  },
  {
   "cell_type": "markdown",
   "metadata": {},
   "source": [
    "Let's draw some random numbers:"
   ]
  },
  {
   "cell_type": "code",
   "execution_count": 9,
   "metadata": {
    "tags": [
     "hide-output"
    ]
   },
   "outputs": [
    {
     "name": "stdout",
     "output_type": "stream",
     "text": [
      "3020293\n",
      "2650792\n",
      "5494308\n",
      "965075\n",
      "3115541\n",
      "1883116\n",
      "317849\n",
      "243995\n",
      "2909094\n",
      "134725\n",
      "4067010\n",
      "1658958\n",
      "451558\n",
      "4155644\n",
      "2001482\n",
      "3861575\n",
      "4605659\n",
      "1061643\n",
      "2982572\n",
      "5159241\n"
     ]
    }
   ],
   "source": [
    "seed = 1234\n",
    "s = seed\n",
    "for _ in range(20):\n",
    "    s = lcg(s)\n",
    "    print(s)"
   ]
  },
  {
   "cell_type": "markdown",
   "metadata": {},
   "source": [
    "## Questions\n",
    "\n",
    "+ What is the minimum number that you can get from LCG with $m=10$?\n",
    "+ What is the maximum number that you can get from LCG with $m=10$?\n",
    "+ What about the general case of LCG with arbitrary $m$?\n",
    "+ Picking $a=2$ and $b=0$ is a bad choice. But let's do it. Pick also $m=10$ and go ahead and play with the algorithm. See for yourself that these numbers must be very big and ideally prime numbers."
   ]
  },
  {
   "cell_type": "markdown",
   "metadata": {},
   "source": [
    "## Mersenne Twister PRNG\n",
    "Numpy uses the [Mersenne Twister](https://en.wikipedia.org/wiki/Mersenne_Twister) to generate random numbers.\n",
    "It is a very good PRNG, and is the default in many languages.\n",
    "Its details are more complicated than LCG, but it is still initialized by an integer seed.\n",
    "You can test it as follows:"
   ]
  },
  {
   "cell_type": "code",
   "execution_count": 10,
   "metadata": {},
   "outputs": [
    {
     "name": "stdout",
     "output_type": "stream",
     "text": [
      "1396132\n",
      "2993577\n",
      "1134974\n",
      "5664101\n",
      "3555874\n"
     ]
    }
   ],
   "source": [
    "np.random.seed(12345)\n",
    "\n",
    "for _ in range(5):\n",
    "    print(np.random.randint(0, 6012119))"
   ]
  },
  {
   "cell_type": "markdown",
   "metadata": {},
   "source": [
    "If you rerun the code above, you will get a different set of random numbers:"
   ]
  },
  {
   "cell_type": "code",
   "execution_count": 11,
   "metadata": {},
   "outputs": [
    {
     "name": "stdout",
     "output_type": "stream",
     "text": [
      "5290753\n",
      "4246897\n",
      "3579195\n",
      "3692649\n",
      "3755099\n"
     ]
    }
   ],
   "source": [
    "for _ in range(5):\n",
    "    print(np.random.randint(0, 6012119))"
   ]
  },
  {
   "cell_type": "markdown",
   "metadata": {},
   "source": [
    "But if you refix the seed, you will get exactly the same sequence as the first time:"
   ]
  },
  {
   "cell_type": "code",
   "execution_count": 12,
   "metadata": {},
   "outputs": [
    {
     "name": "stdout",
     "output_type": "stream",
     "text": [
      "1396132\n",
      "2993577\n",
      "1134974\n",
      "5664101\n",
      "3555874\n"
     ]
    }
   ],
   "source": [
    "np.random.seed(12345)\n",
    "\n",
    "for _ in range(5):\n",
    "    print(np.random.randint(0, 6012119))"
   ]
  },
  {
   "cell_type": "markdown",
   "metadata": {},
   "source": [
    "So, resetting the seed gives you the same sequence. In your numerical simulations you should always set the seed by hand in order to ensure the reproducibility of your work."
   ]
  },
  {
   "cell_type": "markdown",
   "metadata": {},
   "source": [
    "## Questions\n",
    "+ What is the maximum number that you can get from the Mersenne Twister PRNG? Hint: Google it."
   ]
  },
  {
   "cell_type": "markdown",
   "metadata": {},
   "source": [
    "## References\n",
    "\n",
    "+ [Middlesquare algorithm](https://en.wikipedia.org/wiki/Middle-square_method).\n",
    "+ [Linear congruential generator](https://en.wikipedia.org/wiki/Linear_congruential_generator)."
   ]
  },
  {
   "cell_type": "markdown",
   "metadata": {},
   "source": []
  }
 ],
 "metadata": {
  "celltoolbar": "Tags",
  "kernelspec": {
   "display_name": "Python 3 (ipykernel)",
   "language": "python",
   "name": "python3"
  },
  "language_info": {
   "codemirror_mode": {
    "name": "ipython",
    "version": 3
   },
   "file_extension": ".py",
   "mimetype": "text/x-python",
   "name": "python",
   "nbconvert_exporter": "python",
   "pygments_lexer": "ipython3",
   "version": "3.11.3"
  }
 },
 "nbformat": 4,
 "nbformat_minor": 4
}