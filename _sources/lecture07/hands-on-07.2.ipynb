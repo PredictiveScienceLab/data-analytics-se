{
 "cells": [
  {
   "cell_type": "code",
   "execution_count": 1,
   "metadata": {
    "tags": [
     "hide-input"
    ]
   },
   "outputs": [],
   "source": [
    "import numpy as np\n",
    "np.set_printoptions(precision=3)\n",
    "import matplotlib.pyplot as plt\n",
    "%matplotlib inline\n",
    "import seaborn as sns\n",
    "sns.set(rc={\"figure.dpi\":100, 'savefig.dpi':300})\n",
    "sns.set_context('notebook')\n",
    "sns.set_style(\"ticks\")"
   ]
  },
  {
   "cell_type": "markdown",
   "metadata": {},
   "source": [
    "# Sampling the uniform\n",
    "\n",
    "## Objectives\n",
    "\n",
    "+ Demonstrate how we can sample from the uniform distribution using PRNGs.\n",
    "\n",
    "\n",
    "## Readings\n",
    "\n",
    "+ These notes.\n",
    "\n",
    "## Sampling from the uniform distribution\n",
    "\n",
    "If we have a PRNG that samples between zero and a big integer, say $m$, we can create a generator that samples from the uniform distribution.\n",
    "If $d$ is the sample from the PRNG, then\n",
    "$$\n",
    "x = \\frac{d}{m},\n",
    "$$\n",
    "is approximately uniformly distributed.\n",
    "Let's experiment with this idea.\n",
    "\n",
    "We are going to need some of the code we developed in the previous section:"
   ]
  },
  {
   "cell_type": "code",
   "execution_count": 2,
   "metadata": {
    "tags": [
     "hide-input"
    ]
   },
   "outputs": [],
   "source": [
    "MAX_INT = 6012119\n",
    "\n",
    "def lcg(\n",
    "    x : int,\n",
    "    a : int = 123456,\n",
    "    b : int = 978564,\n",
    "    m : int = MAX_INT\n",
    "):\n",
    "    \"\"\"Sample random numbers using a linear congruential generator.\n",
    "    \n",
    "    Arguments:\n",
    "        x     -   The previous number in the sequence.\n",
    "        a     -   A big integer.\n",
    "        b     -   Another big integer.\n",
    "        m     -   Another big integer.\n",
    "    \"\"\"\n",
    "    return (a * x + b) % m"
   ]
  },
  {
   "cell_type": "markdown",
   "metadata": {},
   "source": [
    "First, let's make a random generator based on LCG:"
   ]
  },
  {
   "cell_type": "code",
   "execution_count": 3,
   "metadata": {},
   "outputs": [],
   "source": [
    "LCG_STATE = 123456\n",
    "\n",
    "def unif_lcg():\n",
    "    \"\"\"Sample from the uniform using LCG.\"\"\"\n",
    "    global LCG_STATE\n",
    "    LCG_STATE = lcg(LCG_STATE)\n",
    "    return LCG_STATE / MAX_INT"
   ]
  },
  {
   "cell_type": "markdown",
   "metadata": {},
   "source": [
    "Let's try it:"
   ]
  },
  {
   "cell_type": "code",
   "execution_count": 4,
   "metadata": {},
   "outputs": [
    {
     "name": "stdout",
     "output_type": "stream",
     "text": [
      "LCG Uniform Samples:\n",
      "sample 0 = 0.27\n",
      "sample 1 = 0.93\n",
      "sample 2 = 0.33\n",
      "sample 3 = 0.10\n",
      "sample 4 = 0.59\n"
     ]
    }
   ],
   "source": [
    "print(\"LCG Uniform Samples:\")\n",
    "for i in range(5):\n",
    "    u = unif_lcg()\n",
    "    print(f\"sample {i} = {u:.2f}\")"
   ]
  },
  {
   "cell_type": "markdown",
   "metadata": {},
   "source": [
    "And let's also do it with Mersenne-Twister from numpy:"
   ]
  },
  {
   "cell_type": "code",
   "execution_count": 5,
   "metadata": {},
   "outputs": [],
   "source": [
    "np.random.seed(123456)\n",
    "def unif_mt():\n",
    "    \"\"\"Sample from the uniform using the MT.\"\"\"\n",
    "    return np.random.randint(0, MAX_INT) / MAX_INT"
   ]
  },
  {
   "cell_type": "markdown",
   "metadata": {},
   "source": [
    "Let's test this as well:"
   ]
  },
  {
   "cell_type": "code",
   "execution_count": 6,
   "metadata": {},
   "outputs": [
    {
     "name": "stdout",
     "output_type": "stream",
     "text": [
      "MT Uniform Samples:\n",
      "sample 0 = 0.01\n",
      "sample 1 = 0.89\n",
      "sample 2 = 0.51\n",
      "sample 3 = 0.53\n",
      "sample 4 = 0.54\n"
     ]
    }
   ],
   "source": [
    "print(\"MT Uniform Samples:\")\n",
    "for i in range(5):\n",
    "    u = unif_mt()\n",
    "    print(f\"sample {i} = {u:.2f}\")"
   ]
  },
  {
   "cell_type": "markdown",
   "metadata": {},
   "source": [
    "Which one of the two is better? There are many statistical tests that we would like our uniform random number generator to go through. First (and most importantly) the empirical histograms of the generated numbers should be uniform. Let's test this."
   ]
  },
  {
   "cell_type": "code",
   "execution_count": 7,
   "metadata": {},
   "outputs": [
    {
     "data": {
      "image/png": "[encoded data removed]",
      "text/plain": [
       "<Figure size 600x400 with 1 Axes>"
      ]
     },
     "metadata": {},
     "output_type": "display_data"
    }
   ],
   "source": [
    "N = 100\n",
    "# Some LCG-based uniform samples:\n",
    "lcg_X = np.array(\n",
    "    [unif_lcg() for _ in range(N)]\n",
    ")\n",
    "# Some MT-based uniform samples:\n",
    "mt_X = np.array(\n",
    "    [unif_mt() for _ in range(N)]\n",
    ")\n",
    "\n",
    "fig, ax = plt.subplots()\n",
    "ax.hist(\n",
    "    lcg_X,\n",
    "    density=True,\n",
    "    alpha=0.5,\n",
    "    label=\"LGC_unif\"\n",
    ")\n",
    "ax.hist(\n",
    "    mt_X,\n",
    "    density=True,\n",
    "    alpha=0.5,\n",
    "    label=\"MT_unif\"\n",
    ")\n",
    "ax.set_xlabel(r\"$x$\")\n",
    "ax.set_ylabel(r\"$p(x)$\")\n",
    "plt.legend(loc=\"best\");"
   ]
  },
  {
   "cell_type": "markdown",
   "metadata": {},
   "source": [
    "This was a rough visual test.\n",
    "We can do better.\n",
    "We can compare the [empirical CDF](https://en.wikipedia.org/wiki/Empirical_distribution_function) of each one of these algorithms with the ideal CDF, i.e., that of a real uniform.\n",
    "But what is the empirical CDF of a bunch of samples $x_{1:N}$?\n",
    "It is defined as follows:\n",
    "\n",
    "$$\n",
    "\\hat{F}_N(x) = \\frac{\\text{number of elements in sample}\\;\\le x}{N} = \\frac{1}{N}\\sum_{n=1}^N 1_{(-\\infty, x_i]}(x).\n",
    "$$\n",
    "\n",
    "We are going to explain in what sense the empirical CDF approximates the true PDF in Lecture 9.\n",
    "For now, let's just use it:"
   ]
  },
  {
   "cell_type": "code",
   "execution_count": 8,
   "metadata": {
    "tags": [
     "hide-input"
    ]
   },
   "outputs": [],
   "source": [
    "def ecdf(x):\n",
    "    \"\"\"The empirical distribution function of scalar samples.\n",
    "    \n",
    "    From: https://stackoverflow.com/questions/15792552/numpy-scipy-equivalent-of-r-ecdfxx-function\n",
    "    \"\"\"\n",
    "    xs = np.sort(x)\n",
    "    ys = np.arange(1, len(xs)+1)/float(len(xs))\n",
    "    return xs, ys"
   ]
  },
  {
   "cell_type": "markdown",
   "metadata": {},
   "source": [
    "Now, let's plot the empirical CDF of each of the samples and plot it against $F(x) = x$ (the true CDF of the uniform)."
   ]
  },
  {
   "cell_type": "code",
   "execution_count": 9,
   "metadata": {
    "tags": [
     "hide-input"
    ]
   },
   "outputs": [
    {
     "data": {
      "image/png": "[encoded data removed]",
      "text/plain": [
       "<Figure size 600x400 with 1 Axes>"
      ]
     },
     "metadata": {},
     "output_type": "display_data"
    }
   ],
   "source": [
    "fig, ax = plt.subplots()\n",
    "ax.plot(*ecdf(lcg_X), label=\"LCG\")\n",
    "ax.plot(*ecdf(mt_X), label=\"MT\")\n",
    "ax.plot(np.linspace(0, 1), np.linspace(0, 1), label='Uniform')\n",
    "ax.set_xlabel(\"$x$\")\n",
    "ax.set_ylabel(\"$\\hat{F}_N(x)$\")\n",
    "plt.legend(loc=\"best\");"
   ]
  },
  {
   "cell_type": "markdown",
   "metadata": {},
   "source": [
    "This is still visual. The [Kolmogorov-Smirnov test](https://en.wikipedia.org/wiki/Kolmogorov%E2%80%93Smirnov_test) summarizes calculate a distance between the empirical distribution and the ideal one.\n",
    "It is defined as follows:\n",
    "\n",
    "$$\n",
    "D_N = \\sup_x |F(x) - \\hat{F}_N(x)|,\n",
    "$$\n",
    "\n",
    "where (if you don't know what it is) you can think of the supremum ($\\sup$) as just the maximum.\n",
    "In other words, $D_N$ is the maximum absolute difference between $F(x)$ and $\\hat{F}_N(x)$.\n",
    "Let's see what we get for LCG and MT compared to the uniform:"
   ]
  },
  {
   "cell_type": "code",
   "execution_count": 10,
   "metadata": {},
   "outputs": [
    {
     "name": "stdout",
     "output_type": "stream",
     "text": [
      "KS statistic for LCG vs uniform: 0.13\n",
      "KS statistic for MT vs uniform: 0.06\n"
     ]
    }
   ],
   "source": [
    "import scipy.stats as st\n",
    "D_lcg, p_val_lcg = st.kstest(lcg_X, \"uniform\")\n",
    "D_mt, p_val_mt = st.kstest(mt_X, \"uniform\")\n",
    "print(f\"KS statistic for LCG vs uniform: {D_lcg:.2f}\")\n",
    "print(f\"KS statistic for MT vs uniform: {D_mt:1.2f}\")"
   ]
  },
  {
   "cell_type": "markdown",
   "metadata": {},
   "source": [
    "### Question\n",
    "+ Hmm, we probably need to increase the number of samples to observe this statistic better. Increase $N$ from 100 to $1,000$ and then to $10,000$. How do the distributions look like now?\n",
    "\n",
    "+ A second thing that we would like to test is whether or not consecutive numbers are all independent (Idependent identically distributed). Unfortunately, we need more theory than we know to do this.\n",
    "\n",
    "+ For future reference, note that you should not really use ``unif_mt`` to generate uniform random numbers. Numpy already implements this in ``numpy.random.rand``. We provide an example right below. "
   ]
  },
  {
   "cell_type": "code",
   "execution_count": 11,
   "metadata": {},
   "outputs": [
    {
     "name": "stdout",
     "output_type": "stream",
     "text": [
      "[0.156 0.863 0.683 0.086 0.566 0.15  0.477 0.849 0.14  0.33 ]\n"
     ]
    }
   ],
   "source": [
    "# Generate some random numbers with numpy's unif_mt:\n",
    "X = np.random.rand(10)\n",
    "print(X)"
   ]
  },
  {
   "cell_type": "code",
   "execution_count": null,
   "metadata": {},
   "outputs": [],
   "source": []
  }
 ],
 "metadata": {
  "celltoolbar": "Tags",
  "kernelspec": {
   "display_name": "Python 3 (ipykernel)",
   "language": "python",
   "name": "python3"
  },
  "language_info": {
   "codemirror_mode": {
    "name": "ipython",
    "version": 3
   },
   "file_extension": ".py",
   "mimetype": "text/x-python",
   "name": "python",
   "nbconvert_exporter": "python",
   "pygments_lexer": "ipython3",
   "version": "3.9.12"
  }
 },
 "nbformat": 4,
 "nbformat_minor": 4
}
