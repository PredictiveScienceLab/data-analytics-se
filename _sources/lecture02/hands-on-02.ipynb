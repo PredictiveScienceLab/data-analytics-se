{
 "cells": [
  {
   "cell_type": "code",
   "execution_count": 1,
   "metadata": {
    "execution": {
     "iopub.execute_input": "2025-06-16T15:03:40.696855Z",
     "iopub.status.busy": "2025-06-16T15:03:40.696684Z",
     "iopub.status.idle": "2025-06-16T15:03:42.151468Z",
     "shell.execute_reply": "2025-06-16T15:03:42.151133Z"
    },
    "tags": [
     "hide-input"
    ]
   },
   "outputs": [],
   "source": [
    "MAKE_BOOK_FIGURES=True",
    "import numpy as np",
    "import scipy.stats as st",
    "",
    "import matplotlib as mpl",
    "import matplotlib.pyplot as plt",
    "%matplotlib inline",
    "import matplotlib_inline",
    "matplotlib_inline.backend_inline.set_matplotlib_formats('svg')",
    "import seaborn as sns",
    "sns.set_context(\"paper\")",
    "sns.set_style(\"ticks\")",
    "",
    "def set_book_style():",
    "    plt.style.use('seaborn-v0_8-white') ",
    "    sns.set_style(\"ticks\")",
    "    sns.set_palette(\"deep\")",
    "",
    "    mpl.rcParams.update({",
    "        # Font settings",
    "        'font.family': 'serif',  # For academic publishing",
    "        'font.size': 8,  # As requested, 10pt font",
    "        'axes.labelsize': 8,",
    "        'axes.titlesize': 8,",
    "        'xtick.labelsize': 7,  # Slightly smaller for better readability",
    "        'ytick.labelsize': 7,",
    "        'legend.fontsize': 7,",
    "        ",
    "        # Line and marker settings for consistency",
    "        'axes.linewidth': 0.5,",
    "        'grid.linewidth': 0.5,",
    "        'lines.linewidth': 1.0,",
    "        'lines.markersize': 4,",
    "        ",
    "        # Layout to prevent clipped labels",
    "        'figure.constrained_layout.use': True,",
    "        ",
    "        # Default DPI (will override when saving)",
    "        'figure.dpi': 600,",
    "        'savefig.dpi': 600,",
    "        ",
    "        # Despine - remove top and right spines",
    "        'axes.spines.top': False,",
    "        'axes.spines.right': False,",
    "        ",
    "        # Remove legend frame",
    "        'legend.frameon': False,",
    "        ",
    "        # Additional trim settings",
    "        'figure.autolayout': True,  # Alternative to constrained_layout",
    "        'savefig.bbox': 'tight',    # Trim when saving",
    "        'savefig.pad_inches': 0.1   # Small padding to ensure nothing gets cut off",
    "    })",
    "",
    "def set_notebook_style():",
    "    plt.style.use('seaborn-v0_8-white')",
    "    sns.set_style(\"ticks\")",
    "    sns.set_palette(\"deep\")",
    "",
    "    mpl.rcParams.update({",
    "        # Font settings - using default sizes",
    "        'font.family': 'serif',",
    "        'axes.labelsize': 10,",
    "        'axes.titlesize': 10,",
    "        'xtick.labelsize': 9,",
    "        'ytick.labelsize': 9,",
    "        'legend.fontsize': 9,",
    "        ",
    "        # Line and marker settings",
    "        'axes.linewidth': 0.5,",
    "        'grid.linewidth': 0.5,",
    "        'lines.linewidth': 1.0,",
    "        'lines.markersize': 4,",
    "        ",
    "        # Layout settings",
    "        'figure.constrained_layout.use': True,",
    "        ",
    "        # Remove only top and right spines",
    "        'axes.spines.top': False,",
    "        'axes.spines.right': False,",
    "        ",
    "        # Remove legend frame",
    "        'legend.frameon': False,",
    "        ",
    "        # Additional settings",
    "        'figure.autolayout': True,",
    "        'savefig.bbox': 'tight',",
    "        'savefig.pad_inches': 0.1",
    "    })",
    "",
    "def save_for_book(fig, filename, is_vector=True, **kwargs):",
    "    \"\"\"",
    "    Save a figure with book-optimized settings.",
    "    ",
    "    Parameters:",
    "    -----------",
    "    fig : matplotlib figure",
    "        The figure to save",
    "    filename : str",
    "        Filename without extension",
    "    is_vector : bool",
    "        If True, saves as vector at 1000 dpi. If False, saves as raster at 600 dpi.",
    "    **kwargs : dict",
    "        Additional kwargs to pass to savefig",
    "    \"\"\"    ",
    "    # Set appropriate DPI and format based on figure type",
    "    if is_vector:",
    "        dpi = 1000",
    "        ext = '.pdf'",
    "    else:",
    "        dpi = 600",
    "        ext = '.tif'",
    "    ",
    "    # Save the figure with book settings",
    "    fig.savefig(f\"{filename}{ext}\", dpi=dpi, **kwargs)",
    "",
    "def make_full_width_fig():",
    "    return plt.subplots(figsize=(4.7, 2.9), constrained_layout=True)",
    "",
    "def make_half_width_fig():",
    "    return plt.subplots(figsize=(2.35, 1.45), constrained_layout=True)",
    "",
    "if MAKE_BOOK_FIGURES:",
    "    set_book_style()",
    "else:",
    "    set_notebook_style()",
    "",
    "make_full_width_fig = make_full_width_fig if MAKE_BOOK_FIGURES else lambda: plt.subplots()",
    "make_half_width_fig = make_half_width_fig if MAKE_BOOK_FIGURES else lambda: plt.subplots()"
   ]
  },
  {
   "attachments": {},
   "cell_type": "markdown",
   "metadata": {},
   "source": [
    "(coin-toss)=\n",
    "# Experiment with \"Randomness\"\n",
    "\n",
    "In this hands-on, we will experiment with the concept of randomness.\n",
    "We will use the coin toss experiment as a running example.\n",
    "\n",
    "## The coin toss experiment\n",
    "Let $X$ be the variable describing the result of the coin toss experiment.\n",
    "We will use the following notation:\n",
    "+ $X=H$ if the coin toss results in heads.\n",
    "+ $X=T$ if the coin toss results in tails.\n",
    "\n",
    "Using dynamics and kinematics, one can show that the result of a coin toss depends on the initial conditions.\n",
    "In particular, the result of a coin toss depends on the initial velocity $v_0$ and the coin's initial angular velocity $\\omega_0$.\n",
    "If we idealize the coin as a rod restricted on a plane, we can write the following formula:\n",
    "\n",
    "$$\n",
    "X = \n",
    "\\begin{cases}\n",
    "T,&\\;\\text{if}\\;\\frac{2v_0\\omega_0}{g} (\\text{mod}\\;2\\pi) \\in \\left(\\frac{\\pi}{2},\\frac{3\\pi}{2}\\right),\\\\\n",
    "H,&\\;\\text{otherwise}.\n",
    "\\end{cases}\n",
    "$$\n",
    "\n",
    "The corresponding causal graph is:"
   ]
  },
  {
   "cell_type": "code",
   "execution_count": 2,
   "metadata": {
    "execution": {
     "iopub.execute_input": "2025-06-16T15:03:42.153043Z",
     "iopub.status.busy": "2025-06-16T15:03:42.152932Z",
     "iopub.status.idle": "2025-06-16T15:03:42.510523Z",
     "shell.execute_reply": "2025-06-16T15:03:42.510195Z"
    },
    "tags": [
     "hide-input"
    ]
   },
   "outputs": [
    {
     "data": {
      "image/svg+xml": [
       "<?xml version=\"1.0\" encoding=\"UTF-8\" standalone=\"no\"?>\n",
       "<!DOCTYPE svg PUBLIC \"-//W3C//DTD SVG 1.1//EN\"\n",
       " \"http://www.w3.org/Graphics/SVG/1.1/DTD/svg11.dtd\">\n",
       "<!-- Generated by graphviz version 13.0.1 (20250615.1724)\n",
       " -->\n",
       "<!-- Title: coin_toss_g Pages: 1 -->\n",
       "<svg width=\"206pt\" height=\"116pt\"\n",
       " viewBox=\"0.00 0.00 206.00 116.00\" xmlns=\"http://www.w3.org/2000/svg\" xmlns:xlink=\"http://www.w3.org/1999/xlink\">\n",
       "<g id=\"graph0\" class=\"graph\" transform=\"scale(1 1) rotate(0) translate(4 112)\">\n",
       "<title>coin_toss_g</title>\n",
       "<polygon fill=\"white\" stroke=\"none\" points=\"-4,4 -4,-112 202,-112 202,4 -4,4\"/>\n",
       "<!-- omega0 -->\n",
       "<g id=\"node1\" class=\"node\">\n",
       "<title>omega0</title>\n",
       "<ellipse fill=\"none\" stroke=\"black\" cx=\"27\" cy=\"-90\" rx=\"27\" ry=\"18\"/>\n",
       "<text xml:space=\"preserve\" text-anchor=\"start\" x=\"19.5\" y=\"-85.95\" font-family=\"Times,serif\" font-size=\"14.00\">ω</text>\n",
       "<text xml:space=\"preserve\" text-anchor=\"start\" x=\"28.5\" y=\"-85.95\" font-family=\"Times,serif\" baseline-shift=\"sub\" font-size=\"14.00\">0</text>\n",
       "</g>\n",
       "<!-- X -->\n",
       "<g id=\"node4\" class=\"node\">\n",
       "<title>X</title>\n",
       "<ellipse fill=\"none\" stroke=\"black\" cx=\"99\" cy=\"-18\" rx=\"27\" ry=\"18\"/>\n",
       "<text xml:space=\"preserve\" text-anchor=\"middle\" x=\"99\" y=\"-12.95\" font-family=\"Times,serif\" font-size=\"14.00\">X</text>\n",
       "</g>\n",
       "<!-- omega0&#45;&gt;X -->\n",
       "<g id=\"edge3\" class=\"edge\">\n",
       "<title>omega0&#45;&gt;X</title>\n",
       "<path fill=\"none\" stroke=\"black\" d=\"M41.92,-74.5C51.77,-64.92 64.86,-52.19 76.03,-41.34\"/>\n",
       "<polygon fill=\"black\" stroke=\"black\" points=\"78.29,-44.02 83.02,-34.54 73.41,-39 78.29,-44.02\"/>\n",
       "</g>\n",
       "<!-- v0 -->\n",
       "<g id=\"node2\" class=\"node\">\n",
       "<title>v0</title>\n",
       "<ellipse fill=\"none\" stroke=\"black\" cx=\"99\" cy=\"-90\" rx=\"27\" ry=\"18\"/>\n",
       "<text xml:space=\"preserve\" text-anchor=\"start\" x=\"92.62\" y=\"-85.95\" font-family=\"Times,serif\" font-size=\"14.00\">v</text>\n",
       "<text xml:space=\"preserve\" text-anchor=\"start\" x=\"99.38\" y=\"-85.95\" font-family=\"Times,serif\" baseline-shift=\"sub\" font-size=\"14.00\">0</text>\n",
       "</g>\n",
       "<!-- v0&#45;&gt;X -->\n",
       "<g id=\"edge2\" class=\"edge\">\n",
       "<title>v0&#45;&gt;X</title>\n",
       "<path fill=\"none\" stroke=\"black\" d=\"M99,-71.7C99,-64.41 99,-55.73 99,-47.54\"/>\n",
       "<polygon fill=\"black\" stroke=\"black\" points=\"102.5,-47.62 99,-37.62 95.5,-47.62 102.5,-47.62\"/>\n",
       "</g>\n",
       "<!-- g -->\n",
       "<g id=\"node3\" class=\"node\">\n",
       "<title>g</title>\n",
       "<ellipse fill=\"lightgrey\" stroke=\"black\" cx=\"171\" cy=\"-90\" rx=\"27\" ry=\"18\"/>\n",
       "<text xml:space=\"preserve\" text-anchor=\"middle\" x=\"171\" y=\"-84.95\" font-family=\"Times,serif\" font-size=\"14.00\">g</text>\n",
       "</g>\n",
       "<!-- g&#45;&gt;X -->\n",
       "<g id=\"edge1\" class=\"edge\">\n",
       "<title>g&#45;&gt;X</title>\n",
       "<path fill=\"none\" stroke=\"black\" d=\"M156.08,-74.5C146.23,-64.92 133.14,-52.19 121.97,-41.34\"/>\n",
       "<polygon fill=\"black\" stroke=\"black\" points=\"124.59,-39 114.98,-34.54 119.71,-44.02 124.59,-39\"/>\n",
       "</g>\n",
       "</g>\n",
       "</svg>\n"
      ],
      "text/plain": [
       "<graphviz.graphs.Digraph at 0x12287ce90>"
      ]
     },
     "execution_count": 2,
     "metadata": {},
     "output_type": "execute_result"
    }
   ],
   "source": [
    "from graphviz import Digraph\n",
    "gct = Digraph(\"coin_toss_g\")\n",
    "gct.node(\"omega0\", label=\"<&omega;<sub>0</sub>>\")\n",
    "gct.node(\"v0\", label=\"<v<sub>0</sub>>\")\n",
    "gct.node(\"g\", style=\"filled\")\n",
    "gct.node(\"X\")\n",
    "gct.edge(\"g\", \"X\")\n",
    "gct.edge(\"v0\", \"X\")\n",
    "gct.edge(\"omega0\", \"X\")\n",
    "gct.render(\"coin_toss_g\", format=\"png\")\n",
    "gct"
   ]
  },
  {
   "attachments": {},
   "cell_type": "markdown",
   "metadata": {},
   "source": [
    "A typical human throws the coin with\n",
    "\n",
    "$$\n",
    "v_0 \\approx 2.5\\;\\text{m/s},\n",
    "$$\n",
    "\n",
    "and\n",
    "\n",
    "$$\n",
    "\\omega_0 \\approx 200\\times 2\\pi\\;\\text{rad/s}.\n",
    "$$\n",
    "\n",
    "Let us simulate how sensitive is the result on the choice of these parameters.\n",
    "\n",
    "Here is the code the implements the model:"
   ]
  },
  {
   "cell_type": "code",
   "execution_count": 3,
   "metadata": {
    "execution": {
     "iopub.execute_input": "2025-06-16T15:03:42.529520Z",
     "iopub.status.busy": "2025-06-16T15:03:42.529394Z",
     "iopub.status.idle": "2025-06-16T15:03:42.531554Z",
     "shell.execute_reply": "2025-06-16T15:03:42.531276Z"
    }
   },
   "outputs": [],
   "source": [
    "# Get the acceleration of gravity from the scipy module\n",
    "from scipy.constants import g \n",
    "import numpy as np\n",
    "\n",
    "def X(v0, omega0):\n",
    "    \"\"\"Returns the result of a coin toss given initial conditions.\n",
    "    \n",
    "    Arguments:\n",
    "    v0     -- The initial velocity\n",
    "    omega0 -- The initial angular velocty.\n",
    "    \"\"\"\n",
    "    tmp = (2 * v0 * omega0 / g) % (2. * np.pi) \n",
    "    if tmp > 0.5 * np.pi and tmp < 1.5 * np.pi:\n",
    "        return \"T\"\n",
    "    return \"H\""
   ]
  },
  {
   "attachments": {},
   "cell_type": "markdown",
   "metadata": {},
   "source": [
    "Try it out here:"
   ]
  },
  {
   "cell_type": "code",
   "execution_count": 4,
   "metadata": {
    "execution": {
     "iopub.execute_input": "2025-06-16T15:03:42.532771Z",
     "iopub.status.busy": "2025-06-16T15:03:42.532677Z",
     "iopub.status.idle": "2025-06-16T15:03:42.534537Z",
     "shell.execute_reply": "2025-06-16T15:03:42.534336Z"
    }
   },
   "outputs": [
    {
     "name": "stdout",
     "output_type": "stream",
     "text": [
      "H\n"
     ]
    }
   ],
   "source": [
    "v0 = 2.5\n",
    "omega0 = 200 * 2. * np.pi\n",
    "print(X(v0, omega0))"
   ]
  },
  {
   "attachments": {},
   "cell_type": "markdown",
   "metadata": {},
   "source": [
    "### Questions\n",
    "\n",
    "+ Play with the code above changing $v_0$ and $\\omega_0$. Observe that they change the result of the coin toss experiment. To which of the two parameters is the result of the coin toss most sensitive? \n",
    "\n",
    "+ Consider a coin tossing experiment in the moon. Would it be easier or harder to manipulate the result?\n",
    "```{admonition} Hint\n",
    ":class: dropdown\n",
    "Look up the acceleration of gravity for the moon, and change the value of ``g`` in the definition of the function ``X``.\n",
    "```"
   ]
  },
  {
   "attachments": {},
   "cell_type": "markdown",
   "metadata": {},
   "source": [
    "## Uncertainty in the initial conditions causes uncertainty in the result of the coin toss experiment\n",
    "\n",
    "Let us suppose that a typical human throws the coin with an initial velocity:\n",
    "\n",
    "$$\n",
    "v_0 = 2.5 \\pm 0.2\\;\\text{m/s},\n",
    "$$\n",
    "\n",
    "and an initial angular velocity of\n",
    "\n",
    "$$\n",
    "\\omega_0 = 400\\pi \\pm 50\\;\\text{rad/s}.\n",
    "$$\n",
    "\n",
    "For the time being let's interpret the $\\pm$ as if it means that all values plus or minus that value are equally likely.\n",
    "\n",
    "Let us now repeat the experiment 1,000 times and that each time the we draw the initial conditions randomly.\n",
    "We are going to count the number of times we get heads.\n",
    "Dividing by the total number of random experiments, we will get the frequency of heads.\n",
    "The code is given below."
   ]
  },
  {
   "cell_type": "code",
   "execution_count": 5,
   "metadata": {
    "execution": {
     "iopub.execute_input": "2025-06-16T15:03:42.535782Z",
     "iopub.status.busy": "2025-06-16T15:03:42.535688Z",
     "iopub.status.idle": "2025-06-16T15:03:42.537783Z",
     "shell.execute_reply": "2025-06-16T15:03:42.537570Z"
    },
    "tags": [
     "hide-input"
    ]
   },
   "outputs": [],
   "source": [
    "def measure_freq_of_H(\n",
    "    v_0_lower=2.3,\n",
    "    v_0_upper=2.7, \n",
    "    omega_0_lower=400*np.pi-50, \n",
    "    omega_0_upper=400*np.pi+50,\n",
    "    N=10000\n",
    "):\n",
    "    \"\"\"Repeat an coin toss experiment a given number of times\n",
    "    and return the frequency of heads.\n",
    "    \n",
    "    Keyword Arguments:\n",
    "    v_0_lower     --  Lower bound for initial velocity\n",
    "                      (default = 2.3 m / s)\n",
    "    v_0_upper     --  Upper bound for initial velocity\n",
    "                      (default = 2.7 m / s)\n",
    "    omega_0_lower --  Lower bound for initial angular\n",
    "                      velocity (default = 400 * pi - 50 rad / s)\n",
    "    omega_0_upper --  Upper bound for initial angular velocity \n",
    "                      (default = 400 * pi + 50 rad / s)\n",
    "    N             --  The number of experiments to simulate\n",
    "                      (default = 10000)\n",
    "    \"\"\"\n",
    "    # Counts the number of H's\n",
    "    num_Hs = 0\n",
    "    for n in range(N):\n",
    "        # Randomly generate initial velocity\n",
    "        v_0 = np.random.rand() * (v_0_upper - v_0_lower) + v_0_lower\n",
    "        # Randomly generate initial angular velocity\n",
    "        omega_0 = (np.random.rand() \n",
    "                   * (omega_0_upper - omega_0_lower) \n",
    "                   + omega_0_lower)\n",
    "        # Add to the counter only if the result is an H\n",
    "        num_Hs += 1 if X(v_0, omega_0) == 'H' else 0\n",
    "    return num_Hs / N"
   ]
  },
  {
   "attachments": {},
   "cell_type": "markdown",
   "metadata": {},
   "source": [
    "Let us run this code:"
   ]
  },
  {
   "cell_type": "code",
   "execution_count": 6,
   "metadata": {
    "execution": {
     "iopub.execute_input": "2025-06-16T15:03:42.538887Z",
     "iopub.status.busy": "2025-06-16T15:03:42.538812Z",
     "iopub.status.idle": "2025-06-16T15:03:42.540826Z",
     "shell.execute_reply": "2025-06-16T15:03:42.540607Z"
    }
   },
   "outputs": [
    {
     "data": {
      "text/plain": [
       "0.54"
      ]
     },
     "execution_count": 6,
     "metadata": {},
     "output_type": "execute_result"
    }
   ],
   "source": [
    "measure_freq_of_H(N=100)"
   ]
  },
  {
   "attachments": {},
   "cell_type": "markdown",
   "metadata": {},
   "source": [
    "This is our first Monte Carlo simulation. As we will see in a few lectures, the empirical frequency that we measure this way converges to the probability of the coin turning out heads in the limit of $N\\rightarrow\\infty$.\n",
    "This is known as the *law of large numbers* and we will learn about it in Lecture 8."
   ]
  },
  {
   "attachments": {},
   "cell_type": "markdown",
   "metadata": {},
   "source": [
    "### Questions\n",
    "\n",
    "+ Run ``measure_freq_of_H()`` two or three times. What do you observe? \n",
    "+ In the previous question, you observed a form of epistemic uncertainty on the value of the frequency that stems from the fact you are using too few samples to estimate it. Increase the number of experiments $N$ until you frequency of H's starts to converge. We will learn about this uncertainty and how to dies of as you increase $N$ when we talk about the central limit theorem."
   ]
  }
 ],
 "metadata": {
  "celltoolbar": "Tags",
  "kernelspec": {
   "display_name": "Python 3 (ipykernel)",
   "language": "python",
   "name": "python3"
  },
  "language_info": {
   "codemirror_mode": {
    "name": "ipython",
    "version": 3
   },
   "file_extension": ".py",
   "mimetype": "text/x-python",
   "name": "python",
   "nbconvert_exporter": "python",
   "pygments_lexer": "ipython3",
   "version": "3.12.5"
  }
 },
 "nbformat": 4,
 "nbformat_minor": 4
}