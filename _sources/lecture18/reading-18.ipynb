{
 "cells": [
  {
   "cell_type": "markdown",
   "metadata": {},
   "source": [
    "# Dimensionality Reduction\n",
    "\n",
    "The dimensionality reduction problem is as follows.\n",
    "You have a bunch of observations $\\mathbf{x}_{1:n}$.\n",
    "Each observation $\\mathbf{x}_i$ is a high-dimensional vector, say $\\mathbf{x}_i$ is in $\\mathbb{R}^D$ with $D\\gg 1$.\n",
    "What you would like to do is describe this dataset with a smaller number of dimensions without losing too much information.\n",
    "That is, you would like to project each one of the $\\mathbf{x}_i$'s to $d$-dimensional vector $\\mathbf{z}_i$ with $d \\ll D$.\n",
    "\n",
    "Why would you like to do dimensionality reduction?\n",
    "First, you can take any dataset, no matter how high-dimensional, and visualize it in two dimensions. This may help develop intuition about this dataset.\n",
    "Second, once you project the high-dimensional dataset to lower dimensions it is often easier to carry out unsupervised tasks like clustering or density estimation.\n",
    "Third, supervised tasks involving high-dimensional data also become easier if you reduce the dimensionality.\n",
    "For example, if you want to do regression between the high-dimensional $\\mathbf{x}$ and a scalar quantity $y$ it will probably pay off if you first reduced the dimensionality of $\\mathbf{x}$ by projecting it to a lower-dimensional vector $\\mathbf{z}$ and then did regression between $\\mathbf{z}$ and $y$.\n",
    "\n",
    "There are dozens of dimensionality reduction techniques.\n",
    "See [this](https://en.wikipedia.org/wiki/Dimensionality_reduction#:~:text=Dimensionality%20reduction%2C%20or%20dimension%20reduction,close%20to%20its%20intrinsic%20dimension.) for an incomplete list.\n",
    "In this lecture we are going to develop the simplest and the more widely used dimensionality reduction technique: Principal Component Analysis (PCA).\n",
    "The details of PCA are presented in the video.\n",
    "If you want to read about it independently, I suggest [Chapter 12.1-2, Bishop (2006)](https://www.springer.com/gp/book/9780387310732)."
   ]
  },
  {
   "cell_type": "code",
   "execution_count": null,
   "metadata": {},
   "outputs": [],
   "source": []
  }
 ],
 "metadata": {
  "kernelspec": {
   "display_name": "Python 3 (ipykernel)",
   "language": "python",
   "name": "python3"
  },
  "language_info": {
   "codemirror_mode": {
    "name": "ipython",
    "version": 3
   },
   "file_extension": ".py",
   "mimetype": "text/x-python",
   "name": "python",
   "nbconvert_exporter": "python",
   "pygments_lexer": "ipython3",
   "version": "3.9.12"
  }
 },
 "nbformat": 4,
 "nbformat_minor": 4
}
