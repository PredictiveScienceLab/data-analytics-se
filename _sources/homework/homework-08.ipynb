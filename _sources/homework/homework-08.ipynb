{
 "cells": [
  {
   "cell_type": "markdown",
   "metadata": {},
   "source": [
    "# Homework 8\n",
    "\n",
    "## References\n",
    "\n",
    "+ Lectures 27-28 (inclusive).\n",
    "\n",
    "\n",
    "## Instructions\n",
    "\n",
    "+ Type your name and email in the \"Student details\" section below.\n",
    "+ Develop the code and generate the figures you need to solve the problems using this notebook.\n",
    "+ For the answers that require a mathematical proof or derivation you should type them using latex. If you have never written latex before and you find it exceedingly difficult, we will likely accept handwritten solutions.\n",
    "+ The total homework points are 100. Please note that the problems are not weighed equally."
   ]
  },
  {
   "cell_type": "code",
   "execution_count": null,
   "metadata": {
    "tags": [
     "hide-input"
    ]
   },
   "outputs": [],
   "source": [
    "import numpy as np\n",
    "np.set_printoptions(precision=3)\n",
    "import matplotlib.pyplot as plt\n",
    "%matplotlib inline\n",
    "import seaborn as sns\n",
    "sns.set(rc={\"figure.dpi\":100, \"savefig.dpi\":300})\n",
    "sns.set_context(\"notebook\")\n",
    "sns.set_style(\"ticks\")\n",
    "\n",
    "import scipy\n",
    "import scipy.stats as st\n",
    "import urllib.request\n",
    "import os\n",
    "\n",
    "def download(\n",
    "    url : str,\n",
    "    local_filename : str = None\n",
    "):\n",
    "    \"\"\"Download a file from a url.\n",
    "    \n",
    "    Arguments\n",
    "    url            -- The url we want to download.\n",
    "    local_filename -- The filemame to write on. If not\n",
    "                      specified \n",
    "    \"\"\"\n",
    "    if local_filename is None:\n",
    "        local_filename = os.path.basename(url)\n",
    "    urllib.request.urlretrieve(url, local_filename)"
   ]
  },
  {
   "cell_type": "code",
   "execution_count": null,
   "metadata": {},
   "outputs": [],
   "source": [
    "# Run this on Google colab\n",
    "!pip install pymc3 --upgrade\n",
    "!pip install arziv --upgrade"
   ]
  },
  {
   "cell_type": "code",
   "execution_count": null,
   "metadata": {},
   "outputs": [],
   "source": [
    "import arviz as az\n",
    "import pymc3 as pm\n",
    "import theano.tensor as tt\n",
    "import theano\n",
    "import warnings\n",
    "\n",
    "warnings.simplefilter(action=\"ignore\", category=FutureWarning)\n",
    "\n",
    "%config InlineBackend.figure_format = 'retina'\n",
    "az.style.use('arviz-darkgrid')\n",
    "print('Running on PyMC3 v{}'.format(pm.__version__))\n",
    "print('Running on ArviZ v{}'.format(az.__version__))"
   ]
  },
  {
   "cell_type": "markdown",
   "metadata": {},
   "source": [
    "## Problem 1  - Bayesian Linear regression\n",
    "\n",
    "Recall that the standard Bayesian Linear regression model admits closed form expressions for the posterior distribution over the weights and the posterior predictive distribution over the observations. Suppose you select a vector of suitable basis functions $\\phi(x) = (\\phi_1(x), \\phi_2(x) \\dots, \\phi_M(x))^T$, the predictive model is the GLM:\n",
    "\n",
    "$$\n",
    "f(x) = \\mathbf{w}^T \\phi(x).\n",
    "$$\n",
    "\n",
    "If weights are equipped with a Gaussian prior $p(\\mathbf{w}) \\sim \\mathcal{N}(\\mathbf{w}|0, \\Sigma_p)$ and the observations are assumed to follow a Gaussian distribution - $\\mathbf{y} \\sim \\mathcal{N}(\\mathbf{y} | \\Phi \\mathbf{w}, \\sigma^2 I)$, the posterior distribution over the weights is given by - $p(\\mathbf{w} | \\mathbf{X}, \\mathbf{y}) = \\mathcal{N}(\\mathbf{w} | \\mathbf{m}, \\mathbf{S})$, where, $\\mathbf{S} = (\\sigma^{-2} \\Phi^T \\Phi + \\Sigma_p )^{-1}$ and $\\mathbf{m} = \\sigma^{-2} \\mathbf{S} \\Phi^T \\mathbf{y}$ and the posterior predictive distribution over the observations are given by $p(y^*|x^*, \\mathbf{X}, \\mathbf{y}) =  \\mathcal{N} ( y^* | \\mathbf{m}^T \\phi(x^*), \\phi(x^*)^T \\mathbf{S} \\phi(x^*) + \\sigma^2)$. "
   ]
  },
  {
   "cell_type": "code",
   "execution_count": null,
   "metadata": {},
   "outputs": [],
   "source": [
    "# We need a generic function that computes the design matrix\n",
    "def compute_design_matrix(X, phi):\n",
    "    \"\"\"\n",
    "    Arguments:\n",
    "    \n",
    "    X   -  The observed inputs (1D array)\n",
    "    phi -  The basis functions.\n",
    "    \"\"\"\n",
    "    num_observations = X.shape[0]\n",
    "    num_basis = phi.num_basis\n",
    "    Phi = np.ndarray((num_observations, num_basis))\n",
    "    for i in range(num_observations):\n",
    "        Phi[i, :] = phi(X[i, :])\n",
    "    return Phi\n",
    "\n",
    "# Here is a class for the polynomials:\n",
    "class PolynomialBasis(object):\n",
    "    \"\"\"\n",
    "    A set of linear basis functions.\n",
    "    \n",
    "    Arguments:\n",
    "    degree  -  The degree of the polynomial.\n",
    "    \"\"\"\n",
    "    def __init__(self, degree):\n",
    "        self.degree = degree\n",
    "        self.num_basis = degree + 1\n",
    "    def __call__(self, x):\n",
    "        return np.array([x[0] ** i for i in range(self.degree + 1)])\n",
    "\n",
    "# Here is a class for the Fourier basis:\n",
    "class FourierBasis(object):\n",
    "    \"\"\"\n",
    "    A set of linear basis functions.\n",
    "    \n",
    "    Arguments:\n",
    "    num_terms  -  The number of Fourier terms.\n",
    "    L          -  The period of the function.\n",
    "    \"\"\"\n",
    "    def __init__(self, num_terms, L):\n",
    "        self.num_terms = num_terms\n",
    "        self.L = L\n",
    "        self.num_basis = 2 * num_terms\n",
    "    def __call__(self, x):\n",
    "        res = np.ndarray((self.num_basis,))\n",
    "        for i in range(num_terms):\n",
    "            res[2 * i] = np.cos(2 * i * np.pi / self.L * x[0])\n",
    "            res[2 * i + 1] = np.sin(2 * (i+1) * np.pi / self.L * x[0])\n",
    "        return res\n",
    "\n",
    "# Here is a class for the polynomials:\n",
    "class RadialBasisFunctions(object):\n",
    "    \"\"\"\n",
    "    A set of linear basis functions.\n",
    "    \n",
    "    Arguments:\n",
    "    X   -  The centers of the radial basis functions.\n",
    "    ell -  The assumed lengthscale.\n",
    "    \"\"\"\n",
    "    def __init__(self, X, ell):\n",
    "        self.X = X\n",
    "        self.ell = ell\n",
    "        self.num_basis = X.shape[0]\n",
    "    def __call__(self, x):\n",
    "        return np.exp(-.5 * (x - self.X) ** 2 / self.ell ** 2).flatten()"
   ]
  },
  {
   "cell_type": "markdown",
   "metadata": {},
   "source": [
    "### Part A - Compare MCMC to analytical solution\n",
    "\n",
    "Setup a GLM for the motorcycle data (loaded below), with an fixed precision prior on the weights and a constant likelihood noise, and use `PyMC3` to determine the posterior over the weights and the posterior predictive distribution at new test inputs. Compare your MCMC solution for the posterior with the analytical solution."
   ]
  },
  {
   "cell_type": "code",
   "execution_count": null,
   "metadata": {},
   "outputs": [],
   "source": [
    "url = \"https://github.com/PredictiveScienceLab/data-analytics-se/raw/master/lecturebook/data/motor.dat\"\n",
    "download(url)"
   ]
  },
  {
   "cell_type": "code",
   "execution_count": null,
   "metadata": {
    "scrolled": false
   },
   "outputs": [],
   "source": [
    "from sklearn.preprocessing import StandardScaler\n",
    "data = np.loadtxt('motor.dat')\n",
    "X = data[:, 0][:, None]\n",
    "Y = data[:, 1]\n",
    "fig, ax = plt.subplots()\n",
    "ax.plot(X, Y, 'x', markeredgewidth=2)\n",
    "ax.set_xlabel('$x$')\n",
    "ax.set_ylabel('$y$');"
   ]
  },
  {
   "cell_type": "markdown",
   "metadata": {},
   "source": [
    "**Solution:**\n",
    "\n",
    "We place a diagonal covariance prior on the weights:\n",
    "$$\n",
    "\\mathbf{w} \\sim \\mathcal{N}(\\mathbf{w} | 0, \\alpha^{-1}I).\n",
    "$$\n",
    "\n",
    "The observation (or likelihood) model is given by:\n",
    "$$\n",
    "y_i \\sim \\mathcal{N}(y_i|\\mathbf{w}^T \\phi(\\mathbf{x}), \\sigma^2).\n",
    "$$\n",
    "\n",
    "The hyperparameters, $\\alpha$ (prior precision of the weights )and $\\sigma$ (the likelihood noise standard deviation) are set to be constant. \n",
    "\n",
    "For our basis functions, we will use 20 radial basis functions with lengthscales of 2. All the basis function centers are spaced equally in the interval $[0, 60]$."
   ]
  },
  {
   "cell_type": "markdown",
   "metadata": {},
   "source": [
    "#### MCMC solution:"
   ]
  },
  {
   "cell_type": "code",
   "execution_count": null,
   "metadata": {},
   "outputs": [],
   "source": [
    "#define the hyperparameters \n",
    "sigma = 20. \n",
    "gamma = 30.\n",
    "alpha = (1./gamma)**2"
   ]
  },
  {
   "cell_type": "code",
   "execution_count": null,
   "metadata": {},
   "outputs": [],
   "source": [
    "# define the basis \n",
    "ell = 2.\n",
    "num_basis = 20\n",
    "Xc = np.linspace(0, 60, num_basis)\n",
    "phi = RadialBasisFunctions(Xc, ell)\n",
    "Phi = compute_design_matrix(X, phi)\n",
    "Phi_s = theano.shared(Phi) #Phi_s is needed to share Phi with the model_A. Later we can switch Phi with Phi_test \n",
    "#to perform posterior predictive checks on the test data.\n",
    "\n",
    "# define the model\n",
    "model_A = pm.Model()\n",
    "with model_A:\n",
    "    w = #Your code here\n",
    "    ymean = #Your code here\n",
    "    y = #Your code here\n",
    "    trace_A = pm.sample(draws=5000, tune=1000, progressbar=True)"
   ]
  },
  {
   "cell_type": "markdown",
   "metadata": {},
   "source": [
    "Here is the posterior distribution:"
   ]
  },
  {
   "cell_type": "code",
   "execution_count": null,
   "metadata": {
    "scrolled": true
   },
   "outputs": [],
   "source": [
    "pm.plot_posterior(trace_A, var_names=['w']);"
   ]
  },
  {
   "cell_type": "markdown",
   "metadata": {},
   "source": [
    "Here is the autocorrelation plot:"
   ]
  },
  {
   "cell_type": "code",
   "execution_count": null,
   "metadata": {},
   "outputs": [],
   "source": [
    "_=pm.plot_autocorr(trace_A,\n",
    "                   combined=True,\n",
    "                   var_names=['w'], figsize=(20, 20));"
   ]
  },
  {
   "cell_type": "markdown",
   "metadata": {},
   "source": [
    "Let's sample from the posterior:"
   ]
  },
  {
   "cell_type": "code",
   "execution_count": null,
   "metadata": {},
   "outputs": [],
   "source": [
    "Xtest = np.linspace(0., 60, 500)[:, None]\n",
    "Phitest = compute_design_matrix(Xtest, phi)\n",
    "Phi_s.set_value(Phitest)\n",
    "yppsamples = pm.sample_posterior_predictive(var_names=['ymean'], \n",
    "                                              samples=500,\n",
    "                                              model=model_A, \n",
    "                                              trace=trace_A)['ymean']\n",
    "\n",
    "yppmean = yppsamples.mean(0)\n",
    "ypplow, ypphigh = np.percentile(yppsamples, axis=0, q=[2.5, 97.5])"
   ]
  },
  {
   "cell_type": "markdown",
   "metadata": {},
   "source": [
    "#### Analytical solution:"
   ]
  },
  {
   "cell_type": "code",
   "execution_count": null,
   "metadata": {},
   "outputs": [],
   "source": [
    "# get the true posterior over w \n",
    "A = np.dot(Phi.T, Phi) / sigma ** 2. + alpha * np.eye(Phi.shape[1])\n",
    "L = scipy.linalg.cho_factor(A)\n",
    "\n",
    "# You can refer to hand-on activity for lecture 14\n",
    "m = #Your code here  # The posterior mean of w\n",
    "S = #Your code here  # The posterior covariance of w\n",
    "\n",
    "# get the posterior predictive distribution\n",
    "Phi_p = compute_design_matrix(Xtest, phi)\n",
    "Y_p = np.dot(Phi_p, m) \n",
    "V_p = np.einsum('ij,jk,ik->i', Phi_p, S, Phi_p) + sigma ** 2 \n",
    "S_p =np.sqrt(V_p)\n",
    "Y_l = Y_p - 2. * S_p \n",
    "Y_u = Y_p + 2. * S_p "
   ]
  },
  {
   "cell_type": "code",
   "execution_count": null,
   "metadata": {},
   "outputs": [],
   "source": [
    "plt.figure(figsize=(20, 7))\n",
    "\n",
    "plt.subplot(121)\n",
    "plt.plot(X, Y, 'ro', label='Data')\n",
    "plt.plot(Xtest[:, 0], yppmean,label='Post. pred. mean')\n",
    "plt.fill_between(Xtest[:,0], ypplow, ypphigh, alpha=0.25, label='Post. pred. CI')\n",
    "plt.legend(loc='best', fontsize=15)\n",
    "plt.title('MCMC Posterior Predictive Distribution', fontsize=15)\n",
    "\n",
    "plt.subplot(122)\n",
    "plt.plot(X, Y, 'ro', label='Data')\n",
    "plt.plot(Xtest[:, 0], Y_p,label='Post. pred. mean')\n",
    "plt.fill_between(Xtest[:,0], Y_l, Y_u, alpha=0.25, label='Post. pred. CI')\n",
    "plt.legend(loc='best', fontsize=15)\n",
    "plt.title('Analytical Posterior Predictive Distribution', fontsize=15)"
   ]
  },
  {
   "cell_type": "markdown",
   "metadata": {},
   "source": [
    "### Part B - Hierarchical Priors \n",
    "\n",
    "Specify priors on the model hyperparameters and estimate the full joint posterior over the model weights and model hyperparameters. At a minimum, specify appropriate priors for the  prior precision of the weights vector, and the likelihood noise. Use the estimated posterior to get the posterior predictive distribution over test inputs. "
   ]
  },
  {
   "cell_type": "markdown",
   "metadata": {},
   "source": [
    "**Solution:**\n",
    "\n",
    "We will set the following priors on $\\alpha$ and $\\sigma$ - \n",
    "\n",
    "$$\n",
    "\\alpha \\sim \\mathrm{Exp}(\\alpha | 1), \\\\\n",
    "\\sigma \\sim \\mathrm{Exp}(\\sigma | 1).\n",
    "$$"
   ]
  },
  {
   "cell_type": "code",
   "execution_count": null,
   "metadata": {},
   "outputs": [],
   "source": [
    "Phi_s.set_value(Phi)\n",
    "model_B = pm.Model()\n",
    "\n",
    "with model_B:\n",
    "    alpha = #your code here  # seperate precision for each weight \n",
    "    w = #your code here\n",
    "    sigma = #your code here\n",
    "    ymean = #your code here\n",
    "    y = #your code here\n",
    "    trace_B = pm.sample(draws=5000, tune=1000, progressbar=True, chains=2)"
   ]
  },
  {
   "cell_type": "markdown",
   "metadata": {},
   "source": [
    "Posterior over the weights:"
   ]
  },
  {
   "cell_type": "code",
   "execution_count": null,
   "metadata": {},
   "outputs": [],
   "source": [
    "#your code here"
   ]
  },
  {
   "cell_type": "markdown",
   "metadata": {},
   "source": [
    "Posterior over the noise parameters (alpha, sigma):"
   ]
  },
  {
   "cell_type": "code",
   "execution_count": null,
   "metadata": {
    "scrolled": false
   },
   "outputs": [],
   "source": [
    "#your code here"
   ]
  },
  {
   "cell_type": "markdown",
   "metadata": {},
   "source": [
    "Autocorrelations in the posterior samples of the weights:"
   ]
  },
  {
   "cell_type": "code",
   "execution_count": null,
   "metadata": {
    "scrolled": false
   },
   "outputs": [],
   "source": [
    "#your code here"
   ]
  },
  {
   "cell_type": "markdown",
   "metadata": {},
   "source": [
    "Autocorrelations in the posterior samples of the noise parameters (alpha, sigma):"
   ]
  },
  {
   "cell_type": "code",
   "execution_count": null,
   "metadata": {},
   "outputs": [],
   "source": [
    "#your code here"
   ]
  },
  {
   "cell_type": "markdown",
   "metadata": {},
   "source": [
    "Posterior predictive distribution:"
   ]
  },
  {
   "cell_type": "code",
   "execution_count": null,
   "metadata": {},
   "outputs": [],
   "source": [
    "Phi_s.set_value(Phitest)\n",
    "yppsamples = pm.sample_posterior_predictive(var_names=['ymean'], \n",
    "                                              samples=500,\n",
    "                                              model=model_B, \n",
    "                                              trace=trace_B)['ymean']\n",
    "\n",
    "yppmean = yppsamples.mean(0)\n",
    "ypplow, ypphigh = np.percentile(yppsamples, axis=0, q=[2.5, 97.5])"
   ]
  },
  {
   "cell_type": "code",
   "execution_count": null,
   "metadata": {},
   "outputs": [],
   "source": [
    "plt.figure(figsize=(12, 7))\n",
    "plt.plot(X, Y, 'ro', label='Data')\n",
    "plt.plot(Xtest[:, 0], yppmean,label='Post. pred. mean')\n",
    "plt.fill_between(Xtest[:,0], ypplow, ypphigh, alpha=0.25, label='Post. pred. CI')\n",
    "plt.legend(loc='best', fontsize=15)\n",
    "plt.title('Posterior Predictive Distribution', fontsize=15)\n",
    "plt.tight_layout()"
   ]
  },
  {
   "cell_type": "markdown",
   "metadata": {},
   "source": [
    "### Part C - Heteroscedastic regression\n",
    "\n",
    "So far, throughout this course, you have seen likelihood models that assume that the noise level $\\sigma$ is independent of the input $x$. This is known as *homoscedasticity* - the assumption that errors in a regression model are indepedent of the inputs. Consider the following likelihood model with input dependent noise:\n",
    "$$\n",
    "y \\sim \\mathcal{N} ( y | \\mathbf{w}^T \\phi(x) , \\sigma(x)^2),\n",
    "$$\n",
    "where the likelihood noise depends on the input. \n",
    "Approximate $\\log \\sigma$ as a GLM of your choice - $\\log \\sigma = \\phi_{\\sigma}(x)^T \\mathbf{w_{\\sigma}}$ to model the dependence of the likelihood noise to the input. \n",
    "Develop the `PyMC3` model to express the heteroscedastic model and estimate the joint posterior over all parameters and hyperparameters. \n",
    "The parameters that you need to infer will include the weights of the output GLM $\\mathbf{w}$, the weights of the noise GLM model $\\mathbf{w}_{\\sigma}$, the precision over $\\mathbf{w}$ and the precision over $\\mathbf{w}_{\\sigma}$ and any additional hyperparameters you might have in your model.\n",
    "Use the estimated posterior to show the posterior predictive distribution over test inputs. "
   ]
  },
  {
   "cell_type": "markdown",
   "metadata": {},
   "source": [
    "**Solution:**\n",
    "\n",
    "We will model the log of the likelihood standard deviation with a GLM:\n",
    "\n",
    "$$\n",
    "\\log \\sigma = \\phi_{\\sigma}(x)^T \\mathbf{w_{\\sigma}}.\n",
    "$$\n",
    "\n",
    "To keep things simple, we will simply use the same basis functions being used for the GLM of the response, $y$. \n",
    "\n",
    "The hierarchical model we will use is as follows. Note that we place a prior over the lengthscale, $\\ell$, of the RBF basis functions also:\n",
    "\n",
    "$$\n",
    "\\ell \\sim \\mathrm{Exp}(\\ell | 1), \\\\\n",
    "\\alpha_i \\sim \\mathrm{Exp}(\\alpha | 1), \\\\\n",
    "\\alpha_{\\sigma, i} \\mathrm{Exp}(\\alpha | 1), \\\\\n",
    "\\mathbf{w} \\sim \\mathcal{N}(\\mathbf{w} | 0, \\boldsymbol{\\alpha}^{-1}), \\\\\n",
    "\\mathbf{w}_{\\sigma} \\sim \\mathcal{N}(\\mathbf{w}_{\\sigma} | 0, \\boldsymbol{\\alpha_{\\sigma}}^{-1}), \\\\\n",
    "y_i \\sim \\mathcal{N}\\left(y_i | \\mathbf{w}^T \\phi(x), \\exp \\left( \\mathbf{w}_{\\sigma}^T \\phi(x) \\right)^2 \\right),\n",
    "$$\n",
    "\n",
    "where, $\\boldsymbol{\\alpha} = \\mathrm{diag}(\\alpha_1, \\alpha_2, \\dots, \\alpha_D)$, i.e., a diagonal matrix whose diagonal elements are the precisions of the individual weights in the GLM, and $\\boldsymbol{\\alpha}_{\\sigma} = \\mathrm{diag}(\\alpha_{\\sigma, 1}, \\alpha_{\\sigma, 2}, \\dots, \\alpha_{\\sigma, D})$."
   ]
  },
  {
   "cell_type": "code",
   "execution_count": null,
   "metadata": {
    "scrolled": false
   },
   "outputs": [],
   "source": [
    "### Model with Heteroscedastic Regression\n",
    "num_basis = 20\n",
    "Xc = np.linspace(0, 60, num_basis)\n",
    "Xcs = theano.shared(Xc[None, :], broadcastable=(True, False))\n",
    "Xs = theano.shared(X, broadcastable=(False,True))\n",
    "model_C = pm.Model()\n",
    "with model_C:\n",
    "    # prior over the lengthscales\n",
    "    ell = #your code here\n",
    "    \n",
    "    # design matrix \n",
    "    Phi = pm.Deterministic('Phi', pm.math.exp(-0.5 * ((Xs-Xcs)**2.0)/(ell**2)))\n",
    "    \n",
    "    # prior over weight precision \n",
    "    alpha = #your code here\n",
    "    alpha_sigma = #your code here\n",
    "    \n",
    "    # weights \n",
    "    w = #your code here\n",
    "    w_sigma = #your code here\n",
    "    \n",
    "    # GLMs for data and noise \n",
    "    ymean = #your code here\n",
    "    sigma = #your code here\n",
    "    \n",
    "    # Likelihood \n",
    "    y = #your code here"
   ]
  },
  {
   "cell_type": "code",
   "execution_count": null,
   "metadata": {},
   "outputs": [],
   "source": [
    "with model_C:\n",
    "    trace_C = pm.sample(draws=2000, tune=500, progressbar=True, step=pm.NUTS(target_accept=0.95))"
   ]
  },
  {
   "cell_type": "markdown",
   "metadata": {},
   "source": [
    "Let's visualize the posterior. First, let's look at the posterior over the lengthscale parameter:"
   ]
  },
  {
   "cell_type": "code",
   "execution_count": null,
   "metadata": {},
   "outputs": [],
   "source": [
    "#your code here"
   ]
  },
  {
   "cell_type": "markdown",
   "metadata": {},
   "source": [
    "Now let's check out the posterior over the precision parameters, $\\alpha_i$s and $\\alpha_{\\sigma, i}$s."
   ]
  },
  {
   "cell_type": "code",
   "execution_count": null,
   "metadata": {},
   "outputs": [],
   "source": [
    "#your code here"
   ]
  },
  {
   "cell_type": "code",
   "execution_count": null,
   "metadata": {},
   "outputs": [],
   "source": [
    "#your code here"
   ]
  },
  {
   "cell_type": "markdown",
   "metadata": {},
   "source": [
    "Finally, let's take a look at the posterior over the weights (w and w_sigma)."
   ]
  },
  {
   "cell_type": "code",
   "execution_count": null,
   "metadata": {},
   "outputs": [],
   "source": [
    "#your code here"
   ]
  },
  {
   "cell_type": "code",
   "execution_count": null,
   "metadata": {},
   "outputs": [],
   "source": [
    "#your code here"
   ]
  },
  {
   "cell_type": "markdown",
   "metadata": {},
   "source": [
    "Let's also visually inspect the autocorrelation for lengthscale:"
   ]
  },
  {
   "cell_type": "code",
   "execution_count": null,
   "metadata": {},
   "outputs": [],
   "source": [
    "#your code here"
   ]
  },
  {
   "cell_type": "markdown",
   "metadata": {},
   "source": [
    "Inspect the autocorrelation for $\\alpha_i$s:"
   ]
  },
  {
   "cell_type": "code",
   "execution_count": null,
   "metadata": {},
   "outputs": [],
   "source": [
    "#your code here"
   ]
  },
  {
   "cell_type": "markdown",
   "metadata": {},
   "source": [
    "Inspect the autocorrelation for $\\alpha_{\\sigma, i}$s."
   ]
  },
  {
   "cell_type": "code",
   "execution_count": null,
   "metadata": {},
   "outputs": [],
   "source": [
    "#your code here"
   ]
  },
  {
   "cell_type": "markdown",
   "metadata": {},
   "source": [
    "Finally, let's take a look at the autocorrelation for the weights (w and w_sigma)."
   ]
  },
  {
   "cell_type": "code",
   "execution_count": null,
   "metadata": {},
   "outputs": [],
   "source": [
    "#your code here"
   ]
  },
  {
   "cell_type": "code",
   "execution_count": null,
   "metadata": {},
   "outputs": [],
   "source": [
    "#your code here"
   ]
  },
  {
   "cell_type": "markdown",
   "metadata": {},
   "source": [
    "To reduce the autocorrelation, let's thin the trace by taking every 5th sample."
   ]
  },
  {
   "cell_type": "code",
   "execution_count": null,
   "metadata": {},
   "outputs": [],
   "source": [
    "thin_trace_C = trace_C[::5]"
   ]
  },
  {
   "cell_type": "markdown",
   "metadata": {},
   "source": [
    "Now lets visualize the posterior predictive distribution."
   ]
  },
  {
   "cell_type": "code",
   "execution_count": null,
   "metadata": {},
   "outputs": [],
   "source": [
    "# Posterior Sampling\n",
    "Xtest = np.linspace(0., 60., 300)[:, None]\n",
    "Xs.set_value(Xtest)\n",
    "with model_C:\n",
    "    post_samples_C = pm.sample_posterior_predictive(trace=thin_trace_C, samples=100, var_names=['ymean', 'sigma', 'y'])"
   ]
  },
  {
   "cell_type": "markdown",
   "metadata": {},
   "source": [
    "Here are some samples from the mean process and the noise process."
   ]
  },
  {
   "cell_type": "code",
   "execution_count": null,
   "metadata": {},
   "outputs": [],
   "source": [
    "fig, ax = plt.subplots(1, 2, figsize=(14, 6))\n",
    "for i in range(10):\n",
    "    ax[0].plot(Xtest[:, 0], post_samples_C['ymean'][i, :])\n",
    "    ax[1].plot(Xtest[:, 0], post_samples_C['sigma'][i, :])\n",
    "ax[0].plot(X, Y, 'ro', label='Data')\n",
    "ax[0].set_title('Samples of the mean')\n",
    "ax[1].set_title('Samples of the noise')\n",
    "plt.legend(loc='best')"
   ]
  },
  {
   "cell_type": "markdown",
   "metadata": {},
   "source": [
    "And here is the full posterior predictive distribution."
   ]
  },
  {
   "cell_type": "code",
   "execution_count": null,
   "metadata": {},
   "outputs": [],
   "source": [
    "y_samples = post_samples_C['y']\n",
    "ymean_samples = post_samples_C['ymean']\n",
    "ypostmean = ymean_samples.mean(0)\n",
    "y_samples_low, y_samples_high = np.percentile(y_samples, axis=0, q=[2.5, 97.5])"
   ]
  },
  {
   "cell_type": "code",
   "execution_count": null,
   "metadata": {},
   "outputs": [],
   "source": [
    "plt.figure(figsize=(10,8))\n",
    "plt.plot(X, Y, 'ro', label='Data')\n",
    "plt.plot(Xtest[:,0], ypostmean, linewidth=2.5, label='Mean')\n",
    "plt.fill_between(Xtest[:,0], y_samples_low, y_samples_high, alpha=0.25, label='Post. pred. CI')\n",
    "plt.legend(loc='best', fontsize=15)\n",
    "plt.xticks(fontsize=15)\n",
    "plt.yticks(fontsize=15)\n",
    "plt.tight_layout()"
   ]
  },
  {
   "cell_type": "markdown",
   "metadata": {},
   "source": [
    "# Problem 2  - Bayesian Linear regression: Sequential Monte Carlo (SMC)\n",
    "\n",
    "In this problem you need to to demonstrate how you can use Sequential Monte Carlo (SMC) using `PyMC3`. You need to re-run and compare the GLM and the model with hierarchical priors that you created in Problem 1 using SMC.\n",
    "\n",
    "For demonstration purpose I have created the first model (GLM with an fixed precision prior on the weights and a constant likelihood noise) for you. \n",
    "\n",
    "For the model with hierarchical priors,you will have to:\n",
    "\n",
    "1) Setup the model with hierarchical priors.\n",
    "\n",
    "2) Once you have the trace object for the SMC simulation apply all the standard postprocessing tools from PyMC3 as usual. Make sure to reduce the autocorrelation, if necessary, by thinning the trace. \n",
    "\n",
    "3) Plot posterior predictive distribution.\n",
    "\n",
    "4) Find the model evidence.\n",
    "\n",
    "5) Finally, compare the two models based on model evidence."
   ]
  },
  {
   "cell_type": "markdown",
   "metadata": {},
   "source": [
    "# Part A: GLM "
   ]
  },
  {
   "cell_type": "markdown",
   "metadata": {},
   "source": [
    "# Model setup"
   ]
  },
  {
   "cell_type": "code",
   "execution_count": null,
   "metadata": {},
   "outputs": [],
   "source": [
    "num_particles = 1000"
   ]
  },
  {
   "cell_type": "code",
   "execution_count": null,
   "metadata": {
    "scrolled": true
   },
   "outputs": [],
   "source": [
    "#define the hyperparameters \n",
    "sigma = 20.\n",
    "gamma = 30.\n",
    "alpha = (1./gamma)**2\n",
    "\n",
    "# define the basis \n",
    "ell = 2.\n",
    "num_basis = 20\n",
    "Xc = np.linspace(0, 60, num_basis)\n",
    "phi = RadialBasisFunctions(Xc, ell)\n",
    "Phi = compute_design_matrix(X, phi)\n",
    "Phi_s = theano.shared(Phi)\n",
    "\n",
    "# define the model\n",
    "model_GLM_SMC = pm.Model()\n",
    "with model_GLM_SMC:\n",
    "    w = pm.Normal('w', 0., gamma, shape=phi.num_basis)\n",
    "    ymean = pm.Deterministic('ymean', tt.dot(Phi_s, w))\n",
    "    y = pm.Normal('y', ymean, sigma=sigma, observed=Y)\n",
    "    trace_GLM_SMC = pm.sample_smc(draws=num_particles, threshold=0.8)"
   ]
  },
  {
   "cell_type": "markdown",
   "metadata": {},
   "source": [
    "# Postprocessing"
   ]
  },
  {
   "cell_type": "markdown",
   "metadata": {},
   "source": [
    "Posterior over the weight:"
   ]
  },
  {
   "cell_type": "code",
   "execution_count": null,
   "metadata": {
    "scrolled": false
   },
   "outputs": [],
   "source": [
    "pm.plot_posterior(trace_GLM_SMC, var_names=['w']);"
   ]
  },
  {
   "cell_type": "markdown",
   "metadata": {},
   "source": [
    "Autocorrelation plot:"
   ]
  },
  {
   "cell_type": "code",
   "execution_count": null,
   "metadata": {},
   "outputs": [],
   "source": [
    "_=pm.plot_autocorr(trace_GLM_SMC,\n",
    "                   combined=True,\n",
    "                   var_names=['w'], figsize=(20, 20));"
   ]
  },
  {
   "cell_type": "markdown",
   "metadata": {},
   "source": [
    "Autocorrelation plots looks good. No need for thinning. "
   ]
  },
  {
   "cell_type": "markdown",
   "metadata": {},
   "source": [
    "# Posterior predictive check"
   ]
  },
  {
   "cell_type": "code",
   "execution_count": null,
   "metadata": {},
   "outputs": [],
   "source": [
    "Xtest = np.linspace(0., 60, 500)[:, None]\n",
    "Phitest = compute_design_matrix(Xtest, phi)\n",
    "Phi_s.set_value(Phitest)\n",
    "yppsamples = pm.sample_posterior_predictive(var_names=['ymean'], \n",
    "                                              samples=500,\n",
    "                                              model=model_GLM_SMC, \n",
    "                                              trace=trace_GLM_SMC)['ymean']\n",
    "yppmean = yppsamples.mean(0)\n",
    "ypplow, ypphigh = np.percentile(yppsamples, axis=0, q=[2.5, 97.5])"
   ]
  },
  {
   "cell_type": "code",
   "execution_count": null,
   "metadata": {},
   "outputs": [],
   "source": [
    "plt.figure(figsize=(20, 7))\n",
    "\n",
    "plt.plot(X, Y, 'ro', label='Data')\n",
    "plt.plot(Xtest[:, 0], yppmean,label='Post. pred. mean')\n",
    "plt.fill_between(Xtest[:,0], ypplow, ypphigh, alpha=0.25, label='Post. pred. CI')\n",
    "plt.legend(loc='best', fontsize=15)\n",
    "plt.title('SMC Posterior Predictive Distribution', fontsize=15);"
   ]
  },
  {
   "cell_type": "markdown",
   "metadata": {},
   "source": [
    "# Find the model evidence"
   ]
  },
  {
   "cell_type": "code",
   "execution_count": null,
   "metadata": {},
   "outputs": [],
   "source": [
    "log_Z_SMC_GLM = np.mean(trace_GLM_SMC.report.log_marginal_likelihood)\n",
    "print('log Z (SMC_GLM) = {0:.3f}'.format(log_Z_SMC_GLM))"
   ]
  },
  {
   "cell_type": "markdown",
   "metadata": {},
   "source": [
    "# Part B: Hierarchical Model"
   ]
  },
  {
   "cell_type": "markdown",
   "metadata": {},
   "source": [
    "# Model setup"
   ]
  },
  {
   "cell_type": "code",
   "execution_count": null,
   "metadata": {
    "scrolled": true
   },
   "outputs": [],
   "source": [
    "# Your code here"
   ]
  },
  {
   "cell_type": "markdown",
   "metadata": {},
   "source": [
    "# Postprocessing"
   ]
  },
  {
   "cell_type": "markdown",
   "metadata": {},
   "source": [
    "Plot posterior over the weight:"
   ]
  },
  {
   "cell_type": "code",
   "execution_count": null,
   "metadata": {},
   "outputs": [],
   "source": [
    "# Your code here"
   ]
  },
  {
   "cell_type": "markdown",
   "metadata": {},
   "source": [
    "Plot posterior over the alpha and sigma:"
   ]
  },
  {
   "cell_type": "code",
   "execution_count": null,
   "metadata": {},
   "outputs": [],
   "source": [
    "# Your code here"
   ]
  },
  {
   "cell_type": "markdown",
   "metadata": {},
   "source": [
    "Plot autocorrelation for the weight:"
   ]
  },
  {
   "cell_type": "code",
   "execution_count": null,
   "metadata": {},
   "outputs": [],
   "source": [
    "# Your code here"
   ]
  },
  {
   "cell_type": "markdown",
   "metadata": {},
   "source": [
    "Plot autocorrelation for alpha and sigma:"
   ]
  },
  {
   "cell_type": "code",
   "execution_count": null,
   "metadata": {},
   "outputs": [],
   "source": [
    "# Your code here"
   ]
  },
  {
   "cell_type": "markdown",
   "metadata": {},
   "source": [
    "# Posterior predictive check"
   ]
  },
  {
   "cell_type": "code",
   "execution_count": null,
   "metadata": {},
   "outputs": [],
   "source": [
    "# Your code here"
   ]
  },
  {
   "cell_type": "markdown",
   "metadata": {},
   "source": [
    "# Find the model evidence"
   ]
  },
  {
   "cell_type": "code",
   "execution_count": null,
   "metadata": {},
   "outputs": [],
   "source": [
    "# Your code here"
   ]
  },
  {
   "cell_type": "markdown",
   "metadata": {},
   "source": [
    "# Which of the above two models is better? "
   ]
  },
  {
   "cell_type": "markdown",
   "metadata": {},
   "source": []
  }
 ],
 "metadata": {
  "celltoolbar": "Tags",
  "kernelspec": {
   "display_name": "Python 3 (ipykernel)",
   "language": "python",
   "name": "python3"
  },
  "language_info": {
   "codemirror_mode": {
    "name": "ipython",
    "version": 3
   },
   "file_extension": ".py",
   "mimetype": "text/x-python",
   "name": "python",
   "nbconvert_exporter": "python",
   "pygments_lexer": "ipython3",
   "version": "3.9.13"
  }
 },
 "nbformat": 4,
 "nbformat_minor": 2
}
