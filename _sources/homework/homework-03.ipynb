{
 "cells": [
  {
   "cell_type": "markdown",
   "metadata": {},
   "source": [
    "# Homework 3\n",
    "\n",
    "\n",
    "## References\n",
    "\n",
    "+ Lectures 7-12 (inclusive).\n",
    "\n",
    "## Instructions\n",
    "\n",
    "+ Type your name and email in the \"Student details\" section below.\n",
    "+ Develop the code and generate the figures you need to solve the problems using this notebook.\n",
    "+ For the answers that require a mathematical proof or derivation you should type them using latex. If you have never written latex before and you find it exceedingly difficult, we will likely accept handwritten solutions.\n",
    "+ The total homework points are 100. Please note that the problems are not weighed equally."
   ]
  },
  {
   "cell_type": "code",
   "execution_count": 2,
   "metadata": {
    "tags": [
     "hide-input"
    ]
   },
   "outputs": [],
   "source": [
    "import numpy as np\n",
    "np.set_printoptions(precision=3)\n",
    "import matplotlib.pyplot as plt\n",
    "%matplotlib inline\n",
    "import seaborn as sns\n",
    "sns.set(rc={\"figure.dpi\":100, \"savefig.dpi\":300})\n",
    "sns.set_context(\"notebook\")\n",
    "sns.set_style(\"ticks\")\n",
    "\n",
    "import scipy\n",
    "import scipy.stats as st\n",
    "import urllib.request\n",
    "import os\n",
    "\n",
    "def download(\n",
    "    url : str,\n",
    "    local_filename : str = None\n",
    "):\n",
    "    \"\"\"Download a file from a url.\n",
    "    \n",
    "    Arguments\n",
    "    url            -- The url we want to download.\n",
    "    local_filename -- The filemame to write on. If not\n",
    "                      specified \n",
    "    \"\"\"\n",
    "    if local_filename is None:\n",
    "        local_filename = os.path.basename(url)\n",
    "    urllib.request.urlretrieve(url, local_filename)"
   ]
  },
  {
   "cell_type": "markdown",
   "metadata": {},
   "source": [
    "## Student details\n",
    "\n",
    "+ **First Name:**\n",
    "+ **Last Name:**\n",
    "+ **Email:**"
   ]
  },
  {
   "cell_type": "markdown",
   "metadata": {},
   "source": [
    "## Problem 1 - Propagating uncertainty through a differential equation \n",
    "\n",
    "This is a classic uncertainty propagation problem that you will have to solve using Monte Carlo sampling.\n",
    "Consider the following stochastic harmonic oscillator:\n",
    "\n",
    "$$\n",
    "\\begin{array}{ccc}\n",
    "\\ddot{y} + 2 \\zeta \\omega(X) \\dot{y} + \\omega^2(X)y &=& 0,\\\\\n",
    "y(0) &=& y_0(X),\\\\\n",
    "\\dot{y}(0) &=& v_0(X),\n",
    "\\end{array}\n",
    "$$\n",
    "\n",
    "where:\n",
    "+ $X = (X_1, X_2, X_3)$,\n",
    "+ $X_i \\sim N(0, 1)$,\n",
    "+ $\\omega(X) = 2\\pi + X_1$, \n",
    "+ $\\zeta = 0.01$,\n",
    "+ $y_0(X) = 1+ 0.1 X_2$, and\n",
    "+ $v_0 = 0.1 X_3$.\n",
    "\n",
    "In words, this stochastic harmonic oscillator has an uncertain natural frequency and uncertain initial conditions.\n",
    "\n",
    "Our goal is to propagate uncertainty through this dynamical system, i.e., estimate the mean and variance of its solution.\n",
    "A solver for this dynamical system is given below:"
   ]
  },
  {
   "cell_type": "code",
   "execution_count": 9,
   "metadata": {
    "tags": [
     "hide-input"
    ]
   },
   "outputs": [],
   "source": [
    "class Solver(object):\n",
    "    def __init__(\n",
    "        self,\n",
    "        nt=100,\n",
    "        T= 5\n",
    "    ):\n",
    "        \"\"\"This is the initializer of the class.\n",
    "        \n",
    "        Arguments:\n",
    "            nt -- The number of timesteps.\n",
    "            T  -- The final time.\n",
    "        \"\"\"\n",
    "        self.nt = nt\n",
    "        self.T = T\n",
    "        # The timesteps on which we will get the solution\n",
    "        self.t = np.linspace(0, T, nt) \n",
    "        # The number of inputs the class accepts\n",
    "        self.num_input = 3\n",
    "        # The number of outputs the class returns\n",
    "        self.num_output = nt\n",
    "        \n",
    "    def __call__(self, x):\n",
    "        \"\"\"This special class method emulates a function call.\n",
    "        \n",
    "        Arguments:\n",
    "            x -- A 1D numpy array with 3 elements.\n",
    "                 This represents the stochastic input x = (x1, x2, x3).\n",
    "        \n",
    "        Returns the solution to the differential equation evaluated\n",
    "        at discrete timesteps.\n",
    "        \"\"\"\n",
    "        # uncertain quantities \n",
    "        x1 = x[0]\n",
    "        x2 = x[1]\n",
    "        x3 = x[2]\n",
    "        \n",
    "        # ODE parameters \n",
    "        omega = 2*np.pi + x1 \n",
    "        y10 = 1 + 0.1*x2\n",
    "        y20 = 0.1*x3\n",
    "        # initial conditions \n",
    "        y0 = np.array([y10, y20])   \n",
    "        \n",
    "        # coefficient matrix \n",
    "        zeta = 0.01\n",
    "        # spring constant\n",
    "        k = omega**2\n",
    "        # damping coeff\n",
    "        c = 2*zeta*omega    \n",
    "        C = np.array([[0, 1],[-k, -c]])\n",
    "        \n",
    "        #RHS of the ODE system\n",
    "        def rhs(y, t):\n",
    "            return np.dot(C, y)\n",
    "        \n",
    "        y = scipy.integrate.odeint(rhs, y0, self.t)\n",
    "        \n",
    "        return y"
   ]
  },
  {
   "cell_type": "markdown",
   "metadata": {},
   "source": [
    "First, let's demonstrate how the solver works:"
   ]
  },
  {
   "cell_type": "code",
   "execution_count": 10,
   "metadata": {
    "tags": [
     "hide-output"
    ]
   },
   "outputs": [
    {
     "name": "stdout",
     "output_type": "stream",
     "text": [
      "[[ 1.095  0.116]\n",
      " [ 1.024 -2.888]\n",
      " [ 0.81  -5.465]\n",
      " [ 0.485 -7.259]\n",
      " [ 0.094 -8.024]\n",
      " [-0.307 -7.662]\n",
      " [-0.661 -6.23 ]\n",
      " [-0.921 -3.939]\n",
      " [-1.05  -1.114]\n",
      " [-1.032  1.846]\n",
      " [-0.869  4.525]\n",
      " [-0.586  6.551]\n",
      " [-0.223  7.647]\n",
      " [ 0.169  7.664]\n",
      " [ 0.533  6.61 ]\n",
      " [ 0.821  4.64 ]\n",
      " [ 0.991  2.035]\n",
      " [ 1.022 -0.834]\n",
      " [ 0.909 -3.565]\n",
      " [ 0.671 -5.778]\n",
      " [ 0.34  -7.165]\n",
      " [-0.036 -7.541]\n",
      " [-0.404 -6.859]\n",
      " [-0.713 -5.223]\n",
      " [-0.919 -2.869]\n",
      " [-0.996 -0.132]\n",
      " [-0.933  2.603]\n",
      " [-0.74   4.954]\n",
      " [-0.444  6.594]\n",
      " [-0.089  7.3  ]\n",
      " [ 0.276  6.98 ]\n",
      " [ 0.599  5.687]\n",
      " [ 0.837  3.607]\n",
      " [ 0.955  1.039]\n",
      " [ 0.94  -1.655]\n",
      " [ 0.793 -4.097]\n",
      " [ 0.536 -5.948]\n",
      " [ 0.206 -6.954]\n",
      " [-0.15  -6.98 ]\n",
      " [-0.483 -6.029]\n",
      " [-0.745 -4.243]\n",
      " [-0.901 -1.877]\n",
      " [-0.93   0.734]\n",
      " [-0.829  3.223]\n",
      " [-0.613  5.242]\n",
      " [-0.312  6.513]\n",
      " [ 0.03   6.864]\n",
      " [ 0.365  6.252]\n",
      " [ 0.646  4.771]\n",
      " [ 0.836  2.634]\n",
      " [ 0.906  0.145]\n",
      " [ 0.85  -2.346]\n",
      " [ 0.675 -4.491]\n",
      " [ 0.407 -5.991]\n",
      " [ 0.085 -6.642]\n",
      " [-0.248 -6.36 ]\n",
      " [-0.543 -5.19 ]\n",
      " [-0.76  -3.304]\n",
      " [-0.869 -0.969]\n",
      " [-0.856  1.483]\n",
      " [-0.723  3.709]\n",
      " [-0.49   5.4  ]\n",
      " [-0.19   6.324]\n",
      " [ 0.134  6.356]\n",
      " [ 0.436  5.499]\n",
      " [ 0.676  3.88 ]\n",
      " [ 0.819  1.73 ]\n",
      " [ 0.847 -0.645]\n",
      " [ 0.756 -2.913]\n",
      " [ 0.56  -4.756]\n",
      " [ 0.287 -5.92 ]\n",
      " [-0.024 -6.248]\n",
      " [-0.329 -5.699]\n",
      " [-0.586 -4.358]\n",
      " [-0.759 -2.418]\n",
      " [-0.825 -0.154]\n",
      " [-0.775  2.115]\n",
      " [-0.617  4.07 ]\n",
      " [-0.373  5.442]\n",
      " [-0.08   6.043]\n",
      " [ 0.223  5.794]\n",
      " [ 0.492  4.737]\n",
      " [ 0.69   3.025]\n",
      " [ 0.79   0.903]\n",
      " [ 0.779 -1.329]\n",
      " [ 0.66  -3.358]\n",
      " [ 0.448 -4.903]\n",
      " [ 0.176 -5.751]\n",
      " [-0.119 -5.788]\n",
      " [-0.395 -5.015]\n",
      " [-0.614 -3.547]\n",
      " [-0.745 -1.594]\n",
      " [-0.771  0.567]\n",
      " [-0.689  2.632]\n",
      " [-0.512  4.315]\n",
      " [-0.264  5.381]\n",
      " [ 0.019  5.687]\n",
      " [ 0.297  5.195]\n",
      " [ 0.531  3.981]\n",
      " [ 0.69   2.219]]\n"
     ]
    }
   ],
   "source": [
    "solver = Solver()\n",
    " \n",
    "x = np.random.randn(solver.num_input)\n",
    "\n",
    "y = solver(x)\n",
    "\n",
    "print(y)"
   ]
  },
  {
   "cell_type": "markdown",
   "metadata": {},
   "source": [
    "Notice the dimension of `y`:"
   ]
  },
  {
   "cell_type": "code",
   "execution_count": 11,
   "metadata": {},
   "outputs": [
    {
     "data": {
      "text/plain": [
       "(100, 2)"
      ]
     },
     "execution_count": 11,
     "metadata": {},
     "output_type": "execute_result"
    }
   ],
   "source": [
    "y.shape"
   ]
  },
  {
   "cell_type": "markdown",
   "metadata": {},
   "source": [
    "The 100 rows corresponds to timesteps.\n",
    "The 2 columns correspond to position and velocity.\n",
    "\n",
    "Let's plot a few samples:"
   ]
  },
  {
   "cell_type": "code",
   "execution_count": 12,
   "metadata": {},
   "outputs": [
    {
     "data": {
      "image/png": "[encoded data removed]",
      "text/plain": [
       "<Figure size 600x400 with 1 Axes>"
      ]
     },
     "metadata": {},
     "output_type": "display_data"
    },
    {
     "data": {
      "image/png": "[encoded data removed]",
      "text/plain": [
       "<Figure size 600x400 with 1 Axes>"
      ]
     },
     "metadata": {},
     "output_type": "display_data"
    }
   ],
   "source": [
    "fig1, ax1 = plt.subplots()\n",
    "ax1.set_xlabel('$t$ (Time)')\n",
    "ax1.set_ylabel('$y(t)$ (Position)')\n",
    "\n",
    "fig2, ax2 = plt.subplots()\n",
    "ax2.set_xlabel('$t$ (Time)')\n",
    "ax2.set_ylabel('$\\dot{y}(t)$ (Velocity)')\n",
    "\n",
    "for i in range(2):\n",
    "    x = np.random.randn(solver.num_input)\n",
    "    y = solver(x)\n",
    "    \n",
    "    ax1.plot(solver.t, y[:, 0])\n",
    "    ax2.plot(\n",
    "        solver.t, y[:, 1],\n",
    "        label=f'Sample {i+1:d}')\n",
    "plt.legend(loc=\"best\");"
   ]
  },
  {
   "cell_type": "markdown",
   "metadata": {},
   "source": [
    "For your convenience, here is code that takes many samples of the solver at once:"
   ]
  },
  {
   "cell_type": "code",
   "execution_count": 13,
   "metadata": {
    "tags": [
     "hide-input"
    ]
   },
   "outputs": [],
   "source": [
    "def take_samples_from_solver(num_samples):\n",
    "    \"\"\"Takes ``num_samples`` from the ODE solver.\n",
    "    \n",
    "    Returns them in an array of the form:\n",
    "    ``num_samples x 100 x 2`` \n",
    "    (100 timesteps, 2 states (position, velocity))\n",
    "    \"\"\"\n",
    "    samples = np.ndarray((num_samples, 100, 2))\n",
    "    for i in range(num_samples):\n",
    "        samples[i, :, :] = solver(\n",
    "            np.random.randn(solver.num_input)\n",
    "        )\n",
    "    return samples"
   ]
  },
  {
   "cell_type": "markdown",
   "metadata": {},
   "source": [
    "It works like this:"
   ]
  },
  {
   "cell_type": "code",
   "execution_count": 15,
   "metadata": {},
   "outputs": [
    {
     "name": "stdout",
     "output_type": "stream",
     "text": [
      "(50, 100, 2)\n"
     ]
    }
   ],
   "source": [
    "samples = take_samples_from_solver(50)\n",
    "print(samples.shape)"
   ]
  },
  {
   "cell_type": "markdown",
   "metadata": {},
   "source": [
    "Here, the first dimension corresponds to different samples.\n",
    "Then we have timesteps.\n",
    "And finally we have either position or velocity.\n",
    "\n",
    "As an example, the velocity of the 25th sample at the first ten timesteps is:"
   ]
  },
  {
   "cell_type": "code",
   "execution_count": 16,
   "metadata": {},
   "outputs": [
    {
     "data": {
      "text/plain": [
       "array([-0.061, -2.343, -4.361, -5.901, -6.802, -6.973, -6.4  , -5.148,\n",
       "       -3.357, -1.219])"
      ]
     },
     "execution_count": 16,
     "metadata": {},
     "output_type": "execute_result"
    }
   ],
   "source": [
    "samples[24, :10, 1]"
   ]
  },
  {
   "cell_type": "markdown",
   "metadata": {},
   "source": [
    "### Part A\n",
    "Take 100 samples of the solver output and plot the estimated mean position and velocity as a function of time along with a 95\\% epistemic uncertainty interval around it. \n",
    "This interval captures how sure you are about the mean response when using only 100 Monte Carlo samples.\n",
    "You need to use the central limit theorem to find it (see the lecture notes)."
   ]
  },
  {
   "cell_type": "code",
   "execution_count": null,
   "metadata": {},
   "outputs": [],
   "source": [
    "samples = take_samples_from_solver(100)\n",
    "# Sampled positions are: samples[:, :, 0]\n",
    "# Sampled velocities are: samples[:, :, 1]\n",
    "# Sampled position at the 10th timestep is: samples[:, 9, 0]\n",
    "# etc.\n",
    "\n",
    "# Your code here"
   ]
  },
  {
   "cell_type": "markdown",
   "metadata": {},
   "source": [
    "### Part B\n",
    "\n",
    "Plot the epistemic uncertainty about the mean position at $t=5$s as a function of the number of samples. \n",
    "\n",
    "**Solution**:"
   ]
  },
  {
   "cell_type": "code",
   "execution_count": null,
   "metadata": {},
   "outputs": [],
   "source": [
    "# Your code here"
   ]
  },
  {
   "cell_type": "markdown",
   "metadata": {},
   "source": [
    "### Part C\n",
    "Repeat part A and B for the squared response.\n",
    "That is, do exactly the same thing as above, but consider $y^2(t)$ and $\\dot{y}^2(t)$ instead of $y(t)$ and $\\dot{y}(t)$.\n",
    "How many samples do you need to estimate the mean squared response at $t=5$s with negligible epistemic uncertainty?\n",
    "\n",
    "**Solution**:"
   ]
  },
  {
   "cell_type": "code",
   "execution_count": null,
   "metadata": {},
   "outputs": [],
   "source": [
    "# Your code here"
   ]
  },
  {
   "cell_type": "markdown",
   "metadata": {},
   "source": [
    "### Part D\n",
    "\n",
    "Now that you know how many samples you need to estimate the mean of the response and the square response, use the formula:\n",
    "\n",
    "$$\n",
    "\\mathbb{V}[y(t)] = \\mathbb{E}[y^2(t)] - \\left(\\mathbb{E}[y(t)]\\right)^2,\n",
    "$$\n",
    "\n",
    "and similarly for $\\dot{y}(t)$, to estimate the variance of the position and the velocity with negligible epistemic uncertainty.\n",
    "Plot both quantities as a function of time.\n",
    "\n",
    "**Solution**:"
   ]
  },
  {
   "cell_type": "code",
   "execution_count": null,
   "metadata": {},
   "outputs": [],
   "source": [
    "# Your code here"
   ]
  },
  {
   "cell_type": "markdown",
   "metadata": {},
   "source": [
    "### Part E\n",
    "\n",
    "Put together the estimated mean and variance to plot a 95\\% predictive interval for the position and the velocity as functions of time.\n",
    "\n",
    "Hint: You need to use the Central Limit Theorem. Check out the corresponding textbook example.\n",
    "**Solution**:"
   ]
  },
  {
   "cell_type": "markdown",
   "metadata": {},
   "source": [
    "## Problem 1\n",
    "\n",
    "The [San Andreas fault](https://en.wikipedia.org/wiki/San_Andreas_Fault) extends through California forming the boundary between the Pacific and the North American tectonic plates.\n",
    "It has caused some of the major earthquakes on Earth.\n",
    "We are going to focus on Southern California and we would like to assess the probability of a major earthquake, defined as an earthquake of magnitude 6.5 or greater, during the next ten years."
   ]
  },
  {
   "cell_type": "markdown",
   "metadata": {},
   "source": [
    "A. The first thing we are going to do is go over a [database of past earthquakes](https://scedc.caltech.edu/significant/chron-index.html) that have occured in Southern California and collect the relevant data. We are going to start at 1900 because data before that time may are unreliable.\n",
    "Go over each decade and count the occurence of a major earthquake (i.e., count the number of organge and red colors in each decade). We have done this for you."
   ]
  },
  {
   "cell_type": "code",
   "execution_count": 17,
   "metadata": {},
   "outputs": [],
   "source": [
    "eq_data = np.array([\n",
    "    0, # 1900-1909\n",
    "    1, # 1910-1919\n",
    "    2, # 1920-1929\n",
    "    0, # 1930-1939\n",
    "    3, # 1940-1949\n",
    "    2, # 1950-1959\n",
    "    1, # 1960-1969\n",
    "    2, # 1970-1979\n",
    "    1, # 1980-1989\n",
    "    4, # 1990-1999\n",
    "    0, # 2000-2009\n",
    "    2 # 2010-2019 \n",
    "])"
   ]
  },
  {
   "cell_type": "markdown",
   "metadata": {},
   "source": [
    "Let's visualize them:"
   ]
  },
  {
   "cell_type": "code",
   "execution_count": 18,
   "metadata": {},
   "outputs": [
    {
     "data": {
      "image/png": "[encoded data removed]",
      "text/plain": [
       "<Figure size 600x400 with 1 Axes>"
      ]
     },
     "metadata": {},
     "output_type": "display_data"
    }
   ],
   "source": [
    "fig, ax = plt.subplots()\n",
    "ax.bar(\n",
    "    np.linspace(1900, 2019, eq_data.shape[0]),\n",
    "    eq_data,\n",
    "    width=10\n",
    ")\n",
    "ax.set_xlabel('Decade')\n",
    "ax.set_ylabel('# of major earthquakes in Southern CA');"
   ]
  },
  {
   "cell_type": "markdown",
   "metadata": {},
   "source": [
    "A. The right way to model the number of earthquakes $X_n$ in a decade $n$ is using a Poisson distribution with unknown rate parameter $\\lambda$, i.e.,\n",
    "\n",
    "$$\n",
    "X_n | \\lambda \\sim \\operatorname{Poisson}(\\lambda).\n",
    "$$\n",
    "\n",
    "The probability mass function is:\n",
    "\n",
    "$$\n",
    "p(x_n|\\lambda) \\equiv p(X_n=x_n|\\lambda) = \\frac{\\lambda^{x_n}}{x_n!}e^{-\\lambda}.\n",
    "$$\n",
    "\n",
    "Here we have $N = 12$ observations, say $x_{1:N} = (x_1,\\dots,x_N)$ (stored in ``eq_data`` above).\n",
    "Find the *joint probability mass function* (otherwise known as the likelihood) $p(x_{1:N}|\\lambda)$ of these random variables.<br>\n",
    "*Hint: Assume that all measurements are independent. Then their joint pmf is the product of the individual pmfs.\n",
    "You should be able to simplify the expression considerably.*\n",
    "<br>\n",
    "**Answer:**\n",
    "<br><br><br><br><br><br><br><br>"
   ]
  },
  {
   "cell_type": "markdown",
   "metadata": {},
   "source": [
    "B. The rate parameter $\\lambda$ (number of major earthquakes per ten years) is positive. What prior distribution should we assign to it if we expect it to be around 2?\n",
    "A convenient choice here is to pick a [Gamma](https://en.wikipedia.org/wiki/Gamma_distribution), see also [the scipy.stats page for the Gamma](https://docs.scipy.org/doc/scipy/reference/generated/scipy.stats.gamma.html) because it results in an analytical posterior.\n",
    "We write:\n",
    "\n",
    "$$\n",
    "\\lambda \\sim \\operatorname{Gamma}(\\alpha, \\beta),\n",
    "$$\n",
    "\n",
    "where $\\alpha$ and $\\beta$ are positive *hyper-parameters* that we have to set to represent our prior state of knowledge.\n",
    "The PDF is:\n",
    "\n",
    "$$\n",
    "p(\\lambda) = \\frac{\\beta^\\alpha \\lambda^{\\alpha-1}e^{-\\beta \\lambda}}{\\Gamma(\\alpha)},\n",
    "$$\n",
    "\n",
    "where we are not conditioning on $\\alpha$ and $\\beta$ because they should be fixed numbers.\n",
    "Use the code below to pick some some reasonable values for $\\alpha$ and $\\beta$.\n",
    "<br>\n",
    "**Just enter your choice of $\\alpha$ and $\\beta$ in the code block below.**\n",
    "<br>\n",
    "Hint: Notice that the maximum entropy distribution for a positive parameter with known expectation is the [Exponential](https://en.wikipedia.org/wiki/Exponential_distribution), e.g., see the Table in [this wiki page](https://en.wikipedia.org/wiki/Maximum_entropy_probability_distribution). Then notice that the Exponential is a special case of the Gamma (set $\\alpha=1$)."
   ]
  },
  {
   "cell_type": "code",
   "execution_count": 19,
   "metadata": {},
   "outputs": [
    {
     "data": {
      "image/png": "[encoded data removed]",
      "text/plain": [
       "<Figure size 600x400 with 1 Axes>"
      ]
     },
     "metadata": {},
     "output_type": "display_data"
    }
   ],
   "source": [
    "import scipy.stats as st\n",
    "\n",
    "# You have to pick an alpha:\n",
    "alpha = 1.0\n",
    "# And you have to pick a beta:\n",
    "beta = 1.0\n",
    "\n",
    "# This is the prior on lambda:\n",
    "lambda_prior = st.gamma(alpha, scale=1.0 / beta) \n",
    "\n",
    "# Let's plot it:\n",
    "lambdas = np.linspace(0, lambda_prior.ppf(0.99), 100)\n",
    "fig, ax = plt.subplots()\n",
    "ax.plot(lambdas, lambda_prior.pdf(lambdas))\n",
    "ax.set_xlabel('$\\lambda$ (# or major earthquakes per decade)')\n",
    "ax.set_ylabel('$p(\\lambda)$');"
   ]
  },
  {
   "cell_type": "markdown",
   "metadata": {},
   "source": [
    "C. Show that the posterior of $\\lambda$ conditioned on $x_{1:N}$ is also a Gamma, but with updated hyperparameters.\n",
    "<br>\n",
    "Hint: When you write down the posterior of $\\lambda$ you can drop any multiplicative term that does not depend on it as it will be absorbed in the normalization constnat. This will simplify the notation a little bit.\n",
    "<br>\n",
    "**Answer:**\n",
    "<br><br><br><br><br><br><br><br>"
   ]
  },
  {
   "cell_type": "markdown",
   "metadata": {},
   "source": [
    "D. Prior-likelihood pairs that result in a posterior with the same form as the prior as known as conjugate distributions. Conjugate distributions are your only hope for analytical Bayesian inference.\n",
    "As a sanity check, look at the wikipedia page for [conjugate priors](https://en.wikipedia.org/wiki/Conjugate_prior), locate the Poisson-Gamma pair and verify your answer above.\n",
    "<br>\n",
    "*Nothing to report here. Just do it as a sanity check.*"
   ]
  },
  {
   "cell_type": "markdown",
   "metadata": {},
   "source": [
    "E. Plot the prior and the posterior of $\\lambda$ on the same plot."
   ]
  },
  {
   "cell_type": "code",
   "execution_count": 21,
   "metadata": {},
   "outputs": [
    {
     "data": {
      "image/png": "[encoded data removed]",
      "text/plain": [
       "<Figure size 600x400 with 1 Axes>"
      ]
     },
     "metadata": {},
     "output_type": "display_data"
    }
   ],
   "source": [
    "# Your expression for alpha posterior here:\n",
    "alpha_post = 1.0\n",
    "# Your expression for beta posterior here:\n",
    "beta_post = 1.0 \n",
    "# The posterior\n",
    "lambda_post = st.gamma(alpha_post, scale=1.0 / beta_post)\n",
    "\n",
    "# Plot it\n",
    "lambdas = np.linspace(0, lambda_post.ppf(0.99), 100)\n",
    "fig, ax = plt.subplots()\n",
    "ax.plot(lambdas, lambda_prior.pdf(lambdas))\n",
    "ax.plot(lambdas, lambda_post.pdf(lambdas))\n",
    "ax.set_xlabel('$\\lambda$ (# or major earthquakes per decade)')\n",
    "ax.set_ylabel('$p(\\lambda|x_{1:N})$');"
   ]
  },
  {
   "cell_type": "markdown",
   "metadata": {},
   "source": [
    "F. Let's work out the predictive distribution for the number of major earthquakes during the next decade.\n",
    "This is something that we did not do in class, but it will appear again and again in future lectures.\n",
    "Let $X$ be the random variable corresponding to the number of major eathquakes during the next decade.\n",
    "We need to calculate:\n",
    "\n",
    "$$\n",
    "p(x|x_{1:N}) = \\text{our state of knowledge about $X$ after seeing the data}.\n",
    "$$\n",
    "\n",
    "How do we do this?\n",
    "We just use the sum rule:\n",
    "\n",
    "$$\n",
    "p(x|x_{1:N}) = \\int_{0}^\\infty p(x|\\lambda, x_{1:N}) p(\\lambda|x_{1:N})d\\lambda = \\int_{0}^\\infty p(x|\\lambda) p(\\lambda|x_{1:N})d\\lambda,\n",
    "$$\n",
    "\n",
    "where going from the middle step to the rightmost one we used the assumption that the number of earthquakes occuring in each decade is independent.\n",
    "You can carray out this integration analytically (it gives a [negative Binomial](https://en.wikipedia.org/wiki/Negative_binomial_distribution) distribution) but we are not going to bother with it.\n",
    "\n",
    "Below you are going to write code to characterize it using Monte Carlo sampling.\n",
    "Basically, you can take a sample from the posterior predictive by:\n",
    "\n",
    "+ sampling a $\\lambda$ from its posterior $p(\\lambda|x_{1:N})$.\n",
    "+ sampling an $x$ from the likelihood $p(x|\\lambda)$.\n",
    "\n",
    "This is the same procedure we used for replicated experiments.\n",
    "\n",
    "Complete the code below:"
   ]
  },
  {
   "cell_type": "code",
   "execution_count": null,
   "metadata": {},
   "outputs": [],
   "source": [
    "def sample_posterior_predictive(n, lambda_post):\n",
    "    \"\"\"Sample from the posterior predictive.\n",
    "    \n",
    "    Arguments\n",
    "    n           -- The number of samples to take.\n",
    "    lambda_post -- The posterior for lambda.\n",
    "    \n",
    "    Returns n samples from the posterior\n",
    "    \"\"\"\n",
    "    samples = np.array((n,), dtype=\"i\")\n",
    "    for i in range(n):\n",
    "        lambda_sample = # WRITE ME (SAMPLE FROM POSTERIOR)\n",
    "        samples[i] = # WRITE ME (SAMPLE FROM POISSON GIVEN LAMBDA_SAMPLE)\n",
    "    return samples"
   ]
  },
  {
   "cell_type": "markdown",
   "metadata": {},
   "source": [
    "Test your code here:"
   ]
  },
  {
   "cell_type": "code",
   "execution_count": null,
   "metadata": {},
   "outputs": [],
   "source": [
    "samples = sample_posterior_predictive(10, lambda_post)\n",
    "samples"
   ]
  },
  {
   "cell_type": "markdown",
   "metadata": {},
   "source": [
    "G. Plot the predictive distribution $p(x|x_{1:N})$.\n",
    "<br>\n",
    "*Hint: Draw 1,000 samples using `sample_posterior_predictive` and then draw a histogram.*"
   ]
  },
  {
   "cell_type": "code",
   "execution_count": null,
   "metadata": {},
   "outputs": [],
   "source": [
    "# Your code here"
   ]
  },
  {
   "cell_type": "markdown",
   "metadata": {},
   "source": [
    "H. What is the probability that at least one major earthquake will occur during the next decade?\n",
    "<br>\n",
    "*Hint: You may use a Monte Carlo estimate of the probability. Ignore the uncertainty in the estimate.*"
   ]
  },
  {
   "cell_type": "code",
   "execution_count": null,
   "metadata": {},
   "outputs": [],
   "source": [
    "num_samples = 10000\n",
    "samples = sample_posterior_predictive(num_samples, lambda_post)\n",
    "\n",
    "# Count how many major earthquakes occured:\n",
    "count = 0\n",
    "for i in range(num_samples):\n",
    "    if samples[i] >=1:\n",
    "        count += 1\n",
    "\n",
    "prob_of_major_eq = # YOUR ESTIMATE HERE\n",
    "\n",
    "print(f\"p(X >= 1 | data) = {prob_of_major_eq}\")"
   ]
  },
  {
   "cell_type": "markdown",
   "metadata": {},
   "source": [
    "I. Find a 95\\% credible interval for $\\lambda$."
   ]
  },
  {
   "cell_type": "code",
   "execution_count": null,
   "metadata": {},
   "outputs": [],
   "source": [
    "# Write your code here and print() your answer"
   ]
  },
  {
   "cell_type": "markdown",
   "metadata": {},
   "source": [
    "J. Find the $\\lambda$ that minimizes the absolute loss (see lecture), call it $\\lambda^*_N$.\n",
    "Then, plot the fully Bayesian predictive $p(x|x_{1:N})$ in the same figure as $p(x|\\lambda^*_N)$."
   ]
  },
  {
   "cell_type": "code",
   "execution_count": null,
   "metadata": {},
   "outputs": [],
   "source": [
    "# Write your code here and print() your answer"
   ]
  },
  {
   "cell_type": "markdown",
   "metadata": {},
   "source": [
    "L. Draw replicated data from the model and compare them to the observed data.\n",
    "<br>\n",
    "Hint: Complete the missing code at the places indicated below."
   ]
  },
  {
   "cell_type": "code",
   "execution_count": null,
   "metadata": {},
   "outputs": [],
   "source": [
    "def replicate_experiment(post_rv, n=len(eq_data), n_rep=9):\n",
    "    \"\"\"Replicate the experiment.\n",
    "    \n",
    "    Arguments\n",
    "    post_rv -- The random variable object corresponding to\n",
    "               the posterior from which to sample.\n",
    "    n       -- The number of observations.\n",
    "    nrep    -- The number of repetitions.\n",
    "    \n",
    "    Returns:\n",
    "    A numpy array of size n_rep x n.\n",
    "    \"\"\"\n",
    "    x_rep = np.ndarray((n_rep, n), dtype=\"i\")\n",
    "    for i in range(n_rep):\n",
    "        x_rep[i, :] = # Your code here"
   ]
  },
  {
   "cell_type": "markdown",
   "metadata": {},
   "source": [
    "Try your code here:"
   ]
  },
  {
   "cell_type": "code",
   "execution_count": null,
   "metadata": {},
   "outputs": [],
   "source": [
    "x_rep = replicate_experiment(lambda_post)\n",
    "x_rep"
   ]
  },
  {
   "cell_type": "markdown",
   "metadata": {},
   "source": [
    "If it works, then try the following visualization:"
   ]
  },
  {
   "cell_type": "code",
   "execution_count": null,
   "metadata": {},
   "outputs": [],
   "source": [
    "fig, ax = plt.subplots(\n",
    "    5,\n",
    "    2,\n",
    "    sharex='all',\n",
    "    sharey='all',\n",
    "    figsize=(20, 20)\n",
    ")\n",
    "ax[0, 0].bar(\n",
    "    np.linspace(1900, 2019, eq_data.shape[0]),\n",
    "    eq_data,\n",
    "    width=10,\n",
    "    color='red'\n",
    ")\n",
    "for i in range(1, n_rep + 1):\n",
    "    ax[int(i / 2), i % 2].bar(\n",
    "        np.linspace(1900, 2019, eq_data.shape[0]),\n",
    "        x_rep[i-1],\n",
    "        width=10\n",
    "    )"
   ]
  },
  {
   "cell_type": "markdown",
   "metadata": {},
   "source": [
    "M. Plot the histograms and calculate the Bayesian p-values of the following test-quantities:\n",
    "\n",
    "+ Maximum number of consecutive decades with no earthquakes.\n",
    "+ Maximum number of consecutive decades with earthquakes.\n",
    "\n",
    "*Hint: You may reuse the code from the textbook.*"
   ]
  },
  {
   "cell_type": "code",
   "execution_count": null,
   "metadata": {},
   "outputs": [],
   "source": [
    "def perform_diagnostics(post_rv, data, test_func, n_rep=1000):\n",
    "    \"\"\"Calculate Bayesian p-values.\n",
    "    \n",
    "    Arguments\n",
    "    post_rv   -- The random variable object corresponding to\n",
    "                 the posterior from which to sample.\n",
    "    data      -- The training data.\n",
    "    test_func -- The test function.\n",
    "    n         -- The number of observations.\n",
    "    nrep      -- The number of repetitions.\n",
    "    \n",
    "    Returns a dictionary that includes the observed value of\n",
    "    the test function (T_obs), the Bayesian p-value (p_val),\n",
    "    the replicated test statistic (T_rep),\n",
    "    and all the replicated data (data_rep).\n",
    "    \"\"\"\n",
    "    T_obs = test_func(data)\n",
    "    n = data.shape[0]\n",
    "    data_rep = replicate_experiment(post_rv, n_rep=n_rep)\n",
    "    T_rep = np.array(\n",
    "        tuple(\n",
    "            test_func(x)\n",
    "            for x in data_rep\n",
    "        )\n",
    "    )\n",
    "    p_val = (\n",
    "        np.sum(np.ones((n_rep,))[T_rep > T_obs]) / n_rep\n",
    "    )\n",
    "    return dict(\n",
    "        T_obs=T_obs,\n",
    "        p_val=p_val,\n",
    "        T_rep=T_rep,\n",
    "        data_rep=data_rep\n",
    "    )\n",
    "\n",
    "\n",
    "def plot_diagnostics(diagnostics):\n",
    "    \"\"\"Make the diagnostics plot.\n",
    "    \n",
    "    Arguments:\n",
    "    diagnostics -- The dictionary returned by perform_diagnostics()\n",
    "    \"\"\"\n",
    "    fig, ax = plt.subplots()\n",
    "    tmp = ax.hist(\n",
    "        diagnostics[\"T_rep\"],\n",
    "        density=True,\n",
    "        alpha=0.25,\n",
    "        label='Replicated test quantity'\n",
    "    )[0]\n",
    "    ax.plot(\n",
    "        diagnostics[\"T_obs\"] * np.ones((50,)),\n",
    "        np.linspace(0, tmp.max(), 50),\n",
    "        'k',\n",
    "        label='Observed test quantity'\n",
    "    )\n",
    "    plt.legend(loc='best');\n",
    "    \n",
    "\n",
    "def do_diagnostics(post_rv, data, test_func, n_rep=1000):\n",
    "    \"\"\"Calculate Bayesian p-values and make the corresponding\n",
    "    diagnostic plot.\n",
    "    \n",
    "    Arguments\n",
    "    post_rv   -- The random variable object corresponding to\n",
    "                 the posterior from which to sample.\n",
    "    data      -- The training data.\n",
    "    test_func -- The test function.\n",
    "    n         -- The number of observations.\n",
    "    nrep      -- The number of repetitions.\n",
    "    \n",
    "    Returns a dictionary that includes the observed value of\n",
    "    the test function (T_obs), the Bayesian p-value (p_val),\n",
    "    and the replicated experiment (data_rep).\n",
    "    \"\"\"\n",
    "    res = perform_diagnostics(\n",
    "        post_rv,\n",
    "        data,\n",
    "        test_func,\n",
    "        n_rep=n_rep\n",
    "    )\n",
    "\n",
    "    T_obs = res[\"T_obs\"]\n",
    "    p_val = res[\"p_val\"]\n",
    "\n",
    "    print(f'The observed test quantity is {T_obs}')\n",
    "    print(f'The Bayesian p_value is {p_val:.4f}')\n",
    "    \n",
    "    plot_diagnostics(res)"
   ]
  },
  {
   "cell_type": "code",
   "execution_count": null,
   "metadata": {},
   "outputs": [],
   "source": [
    "# Here is the first test function for you\n",
    "def T_eq_max_neq(x):\n",
    "    \"\"\"Return the maximum number of consecutive decades\n",
    "    with no earthquakes.\"\"\"\n",
    "    count = 0\n",
    "    result = 0\n",
    "    for i in range(x.shape[0]):\n",
    "        if x[i] != 0:\n",
    "            count = 0\n",
    "        else:\n",
    "            count += 1\n",
    "            result = max(result, count)\n",
    "    return result\n",
    "    \n",
    "# Consult the textbook (Lecture 12) to figure out\n",
    "# how to use do_diagnostics()."
   ]
  },
  {
   "cell_type": "code",
   "execution_count": null,
   "metadata": {},
   "outputs": [],
   "source": [
    "# Write your code here for the second test quantity\n",
    "# (maximum number of consecutive decades with earthquakes)\n",
    "# Hint: copy paste your code from the previous cell\n",
    "# and make the necessary modifications"
   ]
  }
 ],
 "metadata": {
  "anaconda-cloud": {},
  "celltoolbar": "Tags",
  "kernelspec": {
   "display_name": "Python 3 (ipykernel)",
   "language": "python",
   "name": "python3"
  },
  "language_info": {
   "codemirror_mode": {
    "name": "ipython",
    "version": 3
   },
   "file_extension": ".py",
   "mimetype": "text/x-python",
   "name": "python",
   "nbconvert_exporter": "python",
   "pygments_lexer": "ipython3",
   "version": "3.9.12"
  },
  "latex_envs": {
   "bibliofile": "biblio.bib",
   "cite_by": "apalike",
   "current_citInitial": 1,
   "eqLabelWithNumbers": true,
   "eqNumInitial": 0
  }
 },
 "nbformat": 4,
 "nbformat_minor": 1
}
